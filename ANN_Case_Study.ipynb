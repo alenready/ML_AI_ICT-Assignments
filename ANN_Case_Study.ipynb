{
  "nbformat": 4,
  "nbformat_minor": 0,
  "metadata": {
    "colab": {
      "provenance": [],
      "include_colab_link": true
    },
    "kernelspec": {
      "name": "python3",
      "display_name": "Python 3"
    },
    "language_info": {
      "name": "python"
    }
  },
  "cells": [
    {
      "cell_type": "markdown",
      "metadata": {
        "id": "view-in-github",
        "colab_type": "text"
      },
      "source": [
        "<a href=\"https://colab.research.google.com/github/alenready/ML_AI_ICT-Assignments/blob/main/ANN_Case_Study.ipynb\" target=\"_parent\"><img src=\"https://colab.research.google.com/assets/colab-badge.svg\" alt=\"Open In Colab\"/></a>"
      ]
    },
    {
      "cell_type": "markdown",
      "source": [],
      "metadata": {
        "id": "bH-dNJVCGe1W"
      }
    },
    {
      "cell_type": "code",
      "execution_count": null,
      "metadata": {
        "colab": {
          "base_uri": "https://localhost:8080/"
        },
        "id": "ZqKFjZ3wGYJB",
        "outputId": "0317f8a4-dc7f-4397-8a87-3a22c77aa92b"
      },
      "outputs": [
        {
          "output_type": "stream",
          "name": "stdout",
          "text": [
            "Mounted at /content/drive\n"
          ]
        }
      ],
      "source": [
        "# Step 1: Mount Google Drive in Colab\n",
        "from google.colab import drive\n",
        "drive.mount('/content/drive')"
      ]
    },
    {
      "cell_type": "code",
      "source": [
        "import pandas as pd\n",
        "\n",
        "churn_data = pd.read_csv('/content/drive/MyDrive/Colab Notebooks/Churn_Modelling.csv')"
      ],
      "metadata": {
        "id": "6Fah738VHo69"
      },
      "execution_count": null,
      "outputs": []
    },
    {
      "cell_type": "markdown",
      "source": [
        "##EDA:"
      ],
      "metadata": {
        "id": "FcLxnRfcIJFF"
      }
    },
    {
      "cell_type": "code",
      "source": [
        "churn_data.info()"
      ],
      "metadata": {
        "colab": {
          "base_uri": "https://localhost:8080/"
        },
        "collapsed": true,
        "id": "Pubz5SkhIJZG",
        "outputId": "3db1727c-28ef-443a-9550-efca782add36"
      },
      "execution_count": null,
      "outputs": [
        {
          "output_type": "stream",
          "name": "stdout",
          "text": [
            "<class 'pandas.core.frame.DataFrame'>\n",
            "RangeIndex: 10000 entries, 0 to 9999\n",
            "Data columns (total 14 columns):\n",
            " #   Column           Non-Null Count  Dtype  \n",
            "---  ------           --------------  -----  \n",
            " 0   RowNumber        10000 non-null  int64  \n",
            " 1   CustomerId       10000 non-null  int64  \n",
            " 2   Surname          10000 non-null  object \n",
            " 3   CreditScore      10000 non-null  int64  \n",
            " 4   Geography        10000 non-null  object \n",
            " 5   Gender           10000 non-null  object \n",
            " 6   Age              10000 non-null  int64  \n",
            " 7   Tenure           10000 non-null  int64  \n",
            " 8   Balance          10000 non-null  float64\n",
            " 9   NumOfProducts    10000 non-null  int64  \n",
            " 10  HasCrCard        10000 non-null  int64  \n",
            " 11  IsActiveMember   10000 non-null  int64  \n",
            " 12  EstimatedSalary  10000 non-null  float64\n",
            " 13  Exited           10000 non-null  int64  \n",
            "dtypes: float64(2), int64(9), object(3)\n",
            "memory usage: 1.1+ MB\n"
          ]
        }
      ]
    },
    {
      "cell_type": "code",
      "source": [
        "churn_data.describe()"
      ],
      "metadata": {
        "colab": {
          "base_uri": "https://localhost:8080/"
        },
        "collapsed": true,
        "id": "vM0j76QNIN1b",
        "outputId": "8d45076f-4e3b-41b4-e83d-64b4b2ce9efa"
      },
      "execution_count": null,
      "outputs": [
        {
          "output_type": "execute_result",
          "data": {
            "text/plain": [
              "         RowNumber    CustomerId   CreditScore           Age        Tenure  \\\n",
              "count  10000.00000  1.000000e+04  10000.000000  10000.000000  10000.000000   \n",
              "mean    5000.50000  1.569094e+07    650.528800     38.921800      5.012800   \n",
              "std     2886.89568  7.193619e+04     96.653299     10.487806      2.892174   \n",
              "min        1.00000  1.556570e+07    350.000000     18.000000      0.000000   \n",
              "25%     2500.75000  1.562853e+07    584.000000     32.000000      3.000000   \n",
              "50%     5000.50000  1.569074e+07    652.000000     37.000000      5.000000   \n",
              "75%     7500.25000  1.575323e+07    718.000000     44.000000      7.000000   \n",
              "max    10000.00000  1.581569e+07    850.000000     92.000000     10.000000   \n",
              "\n",
              "             Balance  NumOfProducts    HasCrCard  IsActiveMember  \\\n",
              "count   10000.000000   10000.000000  10000.00000    10000.000000   \n",
              "mean    76485.889288       1.530200      0.70550        0.515100   \n",
              "std     62397.405202       0.581654      0.45584        0.499797   \n",
              "min         0.000000       1.000000      0.00000        0.000000   \n",
              "25%         0.000000       1.000000      0.00000        0.000000   \n",
              "50%     97198.540000       1.000000      1.00000        1.000000   \n",
              "75%    127644.240000       2.000000      1.00000        1.000000   \n",
              "max    250898.090000       4.000000      1.00000        1.000000   \n",
              "\n",
              "       EstimatedSalary        Exited  \n",
              "count     10000.000000  10000.000000  \n",
              "mean     100090.239881      0.203700  \n",
              "std       57510.492818      0.402769  \n",
              "min          11.580000      0.000000  \n",
              "25%       51002.110000      0.000000  \n",
              "50%      100193.915000      0.000000  \n",
              "75%      149388.247500      0.000000  \n",
              "max      199992.480000      1.000000  "
            ],
            "text/html": [
              "\n",
              "  <div id=\"df-70b0638b-d61f-463f-8075-530789b28404\" class=\"colab-df-container\">\n",
              "    <div>\n",
              "<style scoped>\n",
              "    .dataframe tbody tr th:only-of-type {\n",
              "        vertical-align: middle;\n",
              "    }\n",
              "\n",
              "    .dataframe tbody tr th {\n",
              "        vertical-align: top;\n",
              "    }\n",
              "\n",
              "    .dataframe thead th {\n",
              "        text-align: right;\n",
              "    }\n",
              "</style>\n",
              "<table border=\"1\" class=\"dataframe\">\n",
              "  <thead>\n",
              "    <tr style=\"text-align: right;\">\n",
              "      <th></th>\n",
              "      <th>RowNumber</th>\n",
              "      <th>CustomerId</th>\n",
              "      <th>CreditScore</th>\n",
              "      <th>Age</th>\n",
              "      <th>Tenure</th>\n",
              "      <th>Balance</th>\n",
              "      <th>NumOfProducts</th>\n",
              "      <th>HasCrCard</th>\n",
              "      <th>IsActiveMember</th>\n",
              "      <th>EstimatedSalary</th>\n",
              "      <th>Exited</th>\n",
              "    </tr>\n",
              "  </thead>\n",
              "  <tbody>\n",
              "    <tr>\n",
              "      <th>count</th>\n",
              "      <td>10000.00000</td>\n",
              "      <td>1.000000e+04</td>\n",
              "      <td>10000.000000</td>\n",
              "      <td>10000.000000</td>\n",
              "      <td>10000.000000</td>\n",
              "      <td>10000.000000</td>\n",
              "      <td>10000.000000</td>\n",
              "      <td>10000.00000</td>\n",
              "      <td>10000.000000</td>\n",
              "      <td>10000.000000</td>\n",
              "      <td>10000.000000</td>\n",
              "    </tr>\n",
              "    <tr>\n",
              "      <th>mean</th>\n",
              "      <td>5000.50000</td>\n",
              "      <td>1.569094e+07</td>\n",
              "      <td>650.528800</td>\n",
              "      <td>38.921800</td>\n",
              "      <td>5.012800</td>\n",
              "      <td>76485.889288</td>\n",
              "      <td>1.530200</td>\n",
              "      <td>0.70550</td>\n",
              "      <td>0.515100</td>\n",
              "      <td>100090.239881</td>\n",
              "      <td>0.203700</td>\n",
              "    </tr>\n",
              "    <tr>\n",
              "      <th>std</th>\n",
              "      <td>2886.89568</td>\n",
              "      <td>7.193619e+04</td>\n",
              "      <td>96.653299</td>\n",
              "      <td>10.487806</td>\n",
              "      <td>2.892174</td>\n",
              "      <td>62397.405202</td>\n",
              "      <td>0.581654</td>\n",
              "      <td>0.45584</td>\n",
              "      <td>0.499797</td>\n",
              "      <td>57510.492818</td>\n",
              "      <td>0.402769</td>\n",
              "    </tr>\n",
              "    <tr>\n",
              "      <th>min</th>\n",
              "      <td>1.00000</td>\n",
              "      <td>1.556570e+07</td>\n",
              "      <td>350.000000</td>\n",
              "      <td>18.000000</td>\n",
              "      <td>0.000000</td>\n",
              "      <td>0.000000</td>\n",
              "      <td>1.000000</td>\n",
              "      <td>0.00000</td>\n",
              "      <td>0.000000</td>\n",
              "      <td>11.580000</td>\n",
              "      <td>0.000000</td>\n",
              "    </tr>\n",
              "    <tr>\n",
              "      <th>25%</th>\n",
              "      <td>2500.75000</td>\n",
              "      <td>1.562853e+07</td>\n",
              "      <td>584.000000</td>\n",
              "      <td>32.000000</td>\n",
              "      <td>3.000000</td>\n",
              "      <td>0.000000</td>\n",
              "      <td>1.000000</td>\n",
              "      <td>0.00000</td>\n",
              "      <td>0.000000</td>\n",
              "      <td>51002.110000</td>\n",
              "      <td>0.000000</td>\n",
              "    </tr>\n",
              "    <tr>\n",
              "      <th>50%</th>\n",
              "      <td>5000.50000</td>\n",
              "      <td>1.569074e+07</td>\n",
              "      <td>652.000000</td>\n",
              "      <td>37.000000</td>\n",
              "      <td>5.000000</td>\n",
              "      <td>97198.540000</td>\n",
              "      <td>1.000000</td>\n",
              "      <td>1.00000</td>\n",
              "      <td>1.000000</td>\n",
              "      <td>100193.915000</td>\n",
              "      <td>0.000000</td>\n",
              "    </tr>\n",
              "    <tr>\n",
              "      <th>75%</th>\n",
              "      <td>7500.25000</td>\n",
              "      <td>1.575323e+07</td>\n",
              "      <td>718.000000</td>\n",
              "      <td>44.000000</td>\n",
              "      <td>7.000000</td>\n",
              "      <td>127644.240000</td>\n",
              "      <td>2.000000</td>\n",
              "      <td>1.00000</td>\n",
              "      <td>1.000000</td>\n",
              "      <td>149388.247500</td>\n",
              "      <td>0.000000</td>\n",
              "    </tr>\n",
              "    <tr>\n",
              "      <th>max</th>\n",
              "      <td>10000.00000</td>\n",
              "      <td>1.581569e+07</td>\n",
              "      <td>850.000000</td>\n",
              "      <td>92.000000</td>\n",
              "      <td>10.000000</td>\n",
              "      <td>250898.090000</td>\n",
              "      <td>4.000000</td>\n",
              "      <td>1.00000</td>\n",
              "      <td>1.000000</td>\n",
              "      <td>199992.480000</td>\n",
              "      <td>1.000000</td>\n",
              "    </tr>\n",
              "  </tbody>\n",
              "</table>\n",
              "</div>\n",
              "    <div class=\"colab-df-buttons\">\n",
              "\n",
              "  <div class=\"colab-df-container\">\n",
              "    <button class=\"colab-df-convert\" onclick=\"convertToInteractive('df-70b0638b-d61f-463f-8075-530789b28404')\"\n",
              "            title=\"Convert this dataframe to an interactive table.\"\n",
              "            style=\"display:none;\">\n",
              "\n",
              "  <svg xmlns=\"http://www.w3.org/2000/svg\" height=\"24px\" viewBox=\"0 -960 960 960\">\n",
              "    <path d=\"M120-120v-720h720v720H120Zm60-500h600v-160H180v160Zm220 220h160v-160H400v160Zm0 220h160v-160H400v160ZM180-400h160v-160H180v160Zm440 0h160v-160H620v160ZM180-180h160v-160H180v160Zm440 0h160v-160H620v160Z\"/>\n",
              "  </svg>\n",
              "    </button>\n",
              "\n",
              "  <style>\n",
              "    .colab-df-container {\n",
              "      display:flex;\n",
              "      gap: 12px;\n",
              "    }\n",
              "\n",
              "    .colab-df-convert {\n",
              "      background-color: #E8F0FE;\n",
              "      border: none;\n",
              "      border-radius: 50%;\n",
              "      cursor: pointer;\n",
              "      display: none;\n",
              "      fill: #1967D2;\n",
              "      height: 32px;\n",
              "      padding: 0 0 0 0;\n",
              "      width: 32px;\n",
              "    }\n",
              "\n",
              "    .colab-df-convert:hover {\n",
              "      background-color: #E2EBFA;\n",
              "      box-shadow: 0px 1px 2px rgba(60, 64, 67, 0.3), 0px 1px 3px 1px rgba(60, 64, 67, 0.15);\n",
              "      fill: #174EA6;\n",
              "    }\n",
              "\n",
              "    .colab-df-buttons div {\n",
              "      margin-bottom: 4px;\n",
              "    }\n",
              "\n",
              "    [theme=dark] .colab-df-convert {\n",
              "      background-color: #3B4455;\n",
              "      fill: #D2E3FC;\n",
              "    }\n",
              "\n",
              "    [theme=dark] .colab-df-convert:hover {\n",
              "      background-color: #434B5C;\n",
              "      box-shadow: 0px 1px 3px 1px rgba(0, 0, 0, 0.15);\n",
              "      filter: drop-shadow(0px 1px 2px rgba(0, 0, 0, 0.3));\n",
              "      fill: #FFFFFF;\n",
              "    }\n",
              "  </style>\n",
              "\n",
              "    <script>\n",
              "      const buttonEl =\n",
              "        document.querySelector('#df-70b0638b-d61f-463f-8075-530789b28404 button.colab-df-convert');\n",
              "      buttonEl.style.display =\n",
              "        google.colab.kernel.accessAllowed ? 'block' : 'none';\n",
              "\n",
              "      async function convertToInteractive(key) {\n",
              "        const element = document.querySelector('#df-70b0638b-d61f-463f-8075-530789b28404');\n",
              "        const dataTable =\n",
              "          await google.colab.kernel.invokeFunction('convertToInteractive',\n",
              "                                                    [key], {});\n",
              "        if (!dataTable) return;\n",
              "\n",
              "        const docLinkHtml = 'Like what you see? Visit the ' +\n",
              "          '<a target=\"_blank\" href=https://colab.research.google.com/notebooks/data_table.ipynb>data table notebook</a>'\n",
              "          + ' to learn more about interactive tables.';\n",
              "        element.innerHTML = '';\n",
              "        dataTable['output_type'] = 'display_data';\n",
              "        await google.colab.output.renderOutput(dataTable, element);\n",
              "        const docLink = document.createElement('div');\n",
              "        docLink.innerHTML = docLinkHtml;\n",
              "        element.appendChild(docLink);\n",
              "      }\n",
              "    </script>\n",
              "  </div>\n",
              "\n",
              "\n",
              "<div id=\"df-eff61b8b-35f2-41ec-b8ad-003fe61b00c6\">\n",
              "  <button class=\"colab-df-quickchart\" onclick=\"quickchart('df-eff61b8b-35f2-41ec-b8ad-003fe61b00c6')\"\n",
              "            title=\"Suggest charts\"\n",
              "            style=\"display:none;\">\n",
              "\n",
              "<svg xmlns=\"http://www.w3.org/2000/svg\" height=\"24px\"viewBox=\"0 0 24 24\"\n",
              "     width=\"24px\">\n",
              "    <g>\n",
              "        <path d=\"M19 3H5c-1.1 0-2 .9-2 2v14c0 1.1.9 2 2 2h14c1.1 0 2-.9 2-2V5c0-1.1-.9-2-2-2zM9 17H7v-7h2v7zm4 0h-2V7h2v10zm4 0h-2v-4h2v4z\"/>\n",
              "    </g>\n",
              "</svg>\n",
              "  </button>\n",
              "\n",
              "<style>\n",
              "  .colab-df-quickchart {\n",
              "      --bg-color: #E8F0FE;\n",
              "      --fill-color: #1967D2;\n",
              "      --hover-bg-color: #E2EBFA;\n",
              "      --hover-fill-color: #174EA6;\n",
              "      --disabled-fill-color: #AAA;\n",
              "      --disabled-bg-color: #DDD;\n",
              "  }\n",
              "\n",
              "  [theme=dark] .colab-df-quickchart {\n",
              "      --bg-color: #3B4455;\n",
              "      --fill-color: #D2E3FC;\n",
              "      --hover-bg-color: #434B5C;\n",
              "      --hover-fill-color: #FFFFFF;\n",
              "      --disabled-bg-color: #3B4455;\n",
              "      --disabled-fill-color: #666;\n",
              "  }\n",
              "\n",
              "  .colab-df-quickchart {\n",
              "    background-color: var(--bg-color);\n",
              "    border: none;\n",
              "    border-radius: 50%;\n",
              "    cursor: pointer;\n",
              "    display: none;\n",
              "    fill: var(--fill-color);\n",
              "    height: 32px;\n",
              "    padding: 0;\n",
              "    width: 32px;\n",
              "  }\n",
              "\n",
              "  .colab-df-quickchart:hover {\n",
              "    background-color: var(--hover-bg-color);\n",
              "    box-shadow: 0 1px 2px rgba(60, 64, 67, 0.3), 0 1px 3px 1px rgba(60, 64, 67, 0.15);\n",
              "    fill: var(--button-hover-fill-color);\n",
              "  }\n",
              "\n",
              "  .colab-df-quickchart-complete:disabled,\n",
              "  .colab-df-quickchart-complete:disabled:hover {\n",
              "    background-color: var(--disabled-bg-color);\n",
              "    fill: var(--disabled-fill-color);\n",
              "    box-shadow: none;\n",
              "  }\n",
              "\n",
              "  .colab-df-spinner {\n",
              "    border: 2px solid var(--fill-color);\n",
              "    border-color: transparent;\n",
              "    border-bottom-color: var(--fill-color);\n",
              "    animation:\n",
              "      spin 1s steps(1) infinite;\n",
              "  }\n",
              "\n",
              "  @keyframes spin {\n",
              "    0% {\n",
              "      border-color: transparent;\n",
              "      border-bottom-color: var(--fill-color);\n",
              "      border-left-color: var(--fill-color);\n",
              "    }\n",
              "    20% {\n",
              "      border-color: transparent;\n",
              "      border-left-color: var(--fill-color);\n",
              "      border-top-color: var(--fill-color);\n",
              "    }\n",
              "    30% {\n",
              "      border-color: transparent;\n",
              "      border-left-color: var(--fill-color);\n",
              "      border-top-color: var(--fill-color);\n",
              "      border-right-color: var(--fill-color);\n",
              "    }\n",
              "    40% {\n",
              "      border-color: transparent;\n",
              "      border-right-color: var(--fill-color);\n",
              "      border-top-color: var(--fill-color);\n",
              "    }\n",
              "    60% {\n",
              "      border-color: transparent;\n",
              "      border-right-color: var(--fill-color);\n",
              "    }\n",
              "    80% {\n",
              "      border-color: transparent;\n",
              "      border-right-color: var(--fill-color);\n",
              "      border-bottom-color: var(--fill-color);\n",
              "    }\n",
              "    90% {\n",
              "      border-color: transparent;\n",
              "      border-bottom-color: var(--fill-color);\n",
              "    }\n",
              "  }\n",
              "</style>\n",
              "\n",
              "  <script>\n",
              "    async function quickchart(key) {\n",
              "      const quickchartButtonEl =\n",
              "        document.querySelector('#' + key + ' button');\n",
              "      quickchartButtonEl.disabled = true;  // To prevent multiple clicks.\n",
              "      quickchartButtonEl.classList.add('colab-df-spinner');\n",
              "      try {\n",
              "        const charts = await google.colab.kernel.invokeFunction(\n",
              "            'suggestCharts', [key], {});\n",
              "      } catch (error) {\n",
              "        console.error('Error during call to suggestCharts:', error);\n",
              "      }\n",
              "      quickchartButtonEl.classList.remove('colab-df-spinner');\n",
              "      quickchartButtonEl.classList.add('colab-df-quickchart-complete');\n",
              "    }\n",
              "    (() => {\n",
              "      let quickchartButtonEl =\n",
              "        document.querySelector('#df-eff61b8b-35f2-41ec-b8ad-003fe61b00c6 button');\n",
              "      quickchartButtonEl.style.display =\n",
              "        google.colab.kernel.accessAllowed ? 'block' : 'none';\n",
              "    })();\n",
              "  </script>\n",
              "</div>\n",
              "\n",
              "    </div>\n",
              "  </div>\n"
            ],
            "application/vnd.google.colaboratory.intrinsic+json": {
              "type": "dataframe",
              "summary": "{\n  \"name\": \"churn_data\",\n  \"rows\": 8,\n  \"fields\": [\n    {\n      \"column\": \"RowNumber\",\n      \"properties\": {\n        \"dtype\": \"number\",\n        \"std\": 3603.743586536124,\n        \"min\": 1.0,\n        \"max\": 10000.0,\n        \"num_unique_values\": 6,\n        \"samples\": [\n          10000.0,\n          5000.5,\n          7500.25\n        ],\n        \"semantic_type\": \"\",\n        \"description\": \"\"\n      }\n    },\n    {\n      \"column\": \"CustomerId\",\n      \"properties\": {\n        \"dtype\": \"number\",\n        \"std\": 7244870.561655487,\n        \"min\": 10000.0,\n        \"max\": 15815690.0,\n        \"num_unique_values\": 8,\n        \"samples\": [\n          15690940.5694,\n          15690738.0,\n          10000.0\n        ],\n        \"semantic_type\": \"\",\n        \"description\": \"\"\n      }\n    },\n    {\n      \"column\": \"CreditScore\",\n      \"properties\": {\n        \"dtype\": \"number\",\n        \"std\": 3346.722396870626,\n        \"min\": 96.65329873613061,\n        \"max\": 10000.0,\n        \"num_unique_values\": 8,\n        \"samples\": [\n          650.5288,\n          652.0,\n          10000.0\n        ],\n        \"semantic_type\": \"\",\n        \"description\": \"\"\n      }\n    },\n    {\n      \"column\": \"Age\",\n      \"properties\": {\n        \"dtype\": \"number\",\n        \"std\": 3521.859127755016,\n        \"min\": 10.487806451704591,\n        \"max\": 10000.0,\n        \"num_unique_values\": 8,\n        \"samples\": [\n          38.9218,\n          37.0,\n          10000.0\n        ],\n        \"semantic_type\": \"\",\n        \"description\": \"\"\n      }\n    },\n    {\n      \"column\": \"Tenure\",\n      \"properties\": {\n        \"dtype\": \"number\",\n        \"std\": 3533.873203213367,\n        \"min\": 0.0,\n        \"max\": 10000.0,\n        \"num_unique_values\": 8,\n        \"samples\": [\n          5.0128,\n          5.0,\n          10000.0\n        ],\n        \"semantic_type\": \"\",\n        \"description\": \"\"\n      }\n    },\n    {\n      \"column\": \"Balance\",\n      \"properties\": {\n        \"dtype\": \"number\",\n        \"std\": 84316.21503683121,\n        \"min\": 0.0,\n        \"max\": 250898.09,\n        \"num_unique_values\": 7,\n        \"samples\": [\n          10000.0,\n          76485.889288,\n          127644.24\n        ],\n        \"semantic_type\": \"\",\n        \"description\": \"\"\n      }\n    },\n    {\n      \"column\": \"NumOfProducts\",\n      \"properties\": {\n        \"dtype\": \"number\",\n        \"std\": 3534.972835009293,\n        \"min\": 0.5816543579989936,\n        \"max\": 10000.0,\n        \"num_unique_values\": 6,\n        \"samples\": [\n          10000.0,\n          1.5302,\n          4.0\n        ],\n        \"semantic_type\": \"\",\n        \"description\": \"\"\n      }\n    },\n    {\n      \"column\": \"HasCrCard\",\n      \"properties\": {\n        \"dtype\": \"number\",\n        \"std\": 3535.323751385342,\n        \"min\": 0.0,\n        \"max\": 10000.0,\n        \"num_unique_values\": 5,\n        \"samples\": [\n          0.7055,\n          1.0,\n          0.45584046447514237\n        ],\n        \"semantic_type\": \"\",\n        \"description\": \"\"\n      }\n    },\n    {\n      \"column\": \"IsActiveMember\",\n      \"properties\": {\n        \"dtype\": \"number\",\n        \"std\": 3535.33114750997,\n        \"min\": 0.0,\n        \"max\": 10000.0,\n        \"num_unique_values\": 5,\n        \"samples\": [\n          0.5151,\n          1.0,\n          0.4997969284589202\n        ],\n        \"semantic_type\": \"\",\n        \"description\": \"\"\n      }\n    },\n    {\n      \"column\": \"EstimatedSalary\",\n      \"properties\": {\n        \"dtype\": \"number\",\n        \"std\": 68211.65700170657,\n        \"min\": 11.58,\n        \"max\": 199992.48,\n        \"num_unique_values\": 8,\n        \"samples\": [\n          100090.239881,\n          100193.915,\n          10000.0\n        ],\n        \"semantic_type\": \"\",\n        \"description\": \"\"\n      }\n    },\n    {\n      \"column\": \"Exited\",\n      \"properties\": {\n        \"dtype\": \"number\",\n        \"std\": 3535.452783887065,\n        \"min\": 0.0,\n        \"max\": 10000.0,\n        \"num_unique_values\": 5,\n        \"samples\": [\n          0.2037,\n          1.0,\n          0.40276858399484955\n        ],\n        \"semantic_type\": \"\",\n        \"description\": \"\"\n      }\n    }\n  ]\n}"
            }
          },
          "metadata": {},
          "execution_count": 5
        }
      ]
    },
    {
      "cell_type": "code",
      "source": [
        "churn_data.head()"
      ],
      "metadata": {
        "colab": {
          "base_uri": "https://localhost:8080/",
          "height": 226
        },
        "collapsed": true,
        "id": "g3fcrBKhIRdp",
        "outputId": "bafed006-409b-4079-f43e-f14a48a39923"
      },
      "execution_count": null,
      "outputs": [
        {
          "output_type": "execute_result",
          "data": {
            "text/plain": [
              "   RowNumber  CustomerId   Surname  CreditScore Geography  Gender  Age  \\\n",
              "0          1    15634602  Hargrave          619    France  Female   42   \n",
              "1          2    15647311      Hill          608     Spain  Female   41   \n",
              "2          3    15619304      Onio          502    France  Female   42   \n",
              "3          4    15701354      Boni          699    France  Female   39   \n",
              "4          5    15737888  Mitchell          850     Spain  Female   43   \n",
              "\n",
              "   Tenure    Balance  NumOfProducts  HasCrCard  IsActiveMember  \\\n",
              "0       2       0.00              1          1               1   \n",
              "1       1   83807.86              1          0               1   \n",
              "2       8  159660.80              3          1               0   \n",
              "3       1       0.00              2          0               0   \n",
              "4       2  125510.82              1          1               1   \n",
              "\n",
              "   EstimatedSalary  Exited  \n",
              "0        101348.88       1  \n",
              "1        112542.58       0  \n",
              "2        113931.57       1  \n",
              "3         93826.63       0  \n",
              "4         79084.10       0  "
            ],
            "text/html": [
              "\n",
              "  <div id=\"df-53561932-f5ac-4a01-b2ac-5ce4fa080464\" class=\"colab-df-container\">\n",
              "    <div>\n",
              "<style scoped>\n",
              "    .dataframe tbody tr th:only-of-type {\n",
              "        vertical-align: middle;\n",
              "    }\n",
              "\n",
              "    .dataframe tbody tr th {\n",
              "        vertical-align: top;\n",
              "    }\n",
              "\n",
              "    .dataframe thead th {\n",
              "        text-align: right;\n",
              "    }\n",
              "</style>\n",
              "<table border=\"1\" class=\"dataframe\">\n",
              "  <thead>\n",
              "    <tr style=\"text-align: right;\">\n",
              "      <th></th>\n",
              "      <th>RowNumber</th>\n",
              "      <th>CustomerId</th>\n",
              "      <th>Surname</th>\n",
              "      <th>CreditScore</th>\n",
              "      <th>Geography</th>\n",
              "      <th>Gender</th>\n",
              "      <th>Age</th>\n",
              "      <th>Tenure</th>\n",
              "      <th>Balance</th>\n",
              "      <th>NumOfProducts</th>\n",
              "      <th>HasCrCard</th>\n",
              "      <th>IsActiveMember</th>\n",
              "      <th>EstimatedSalary</th>\n",
              "      <th>Exited</th>\n",
              "    </tr>\n",
              "  </thead>\n",
              "  <tbody>\n",
              "    <tr>\n",
              "      <th>0</th>\n",
              "      <td>1</td>\n",
              "      <td>15634602</td>\n",
              "      <td>Hargrave</td>\n",
              "      <td>619</td>\n",
              "      <td>France</td>\n",
              "      <td>Female</td>\n",
              "      <td>42</td>\n",
              "      <td>2</td>\n",
              "      <td>0.00</td>\n",
              "      <td>1</td>\n",
              "      <td>1</td>\n",
              "      <td>1</td>\n",
              "      <td>101348.88</td>\n",
              "      <td>1</td>\n",
              "    </tr>\n",
              "    <tr>\n",
              "      <th>1</th>\n",
              "      <td>2</td>\n",
              "      <td>15647311</td>\n",
              "      <td>Hill</td>\n",
              "      <td>608</td>\n",
              "      <td>Spain</td>\n",
              "      <td>Female</td>\n",
              "      <td>41</td>\n",
              "      <td>1</td>\n",
              "      <td>83807.86</td>\n",
              "      <td>1</td>\n",
              "      <td>0</td>\n",
              "      <td>1</td>\n",
              "      <td>112542.58</td>\n",
              "      <td>0</td>\n",
              "    </tr>\n",
              "    <tr>\n",
              "      <th>2</th>\n",
              "      <td>3</td>\n",
              "      <td>15619304</td>\n",
              "      <td>Onio</td>\n",
              "      <td>502</td>\n",
              "      <td>France</td>\n",
              "      <td>Female</td>\n",
              "      <td>42</td>\n",
              "      <td>8</td>\n",
              "      <td>159660.80</td>\n",
              "      <td>3</td>\n",
              "      <td>1</td>\n",
              "      <td>0</td>\n",
              "      <td>113931.57</td>\n",
              "      <td>1</td>\n",
              "    </tr>\n",
              "    <tr>\n",
              "      <th>3</th>\n",
              "      <td>4</td>\n",
              "      <td>15701354</td>\n",
              "      <td>Boni</td>\n",
              "      <td>699</td>\n",
              "      <td>France</td>\n",
              "      <td>Female</td>\n",
              "      <td>39</td>\n",
              "      <td>1</td>\n",
              "      <td>0.00</td>\n",
              "      <td>2</td>\n",
              "      <td>0</td>\n",
              "      <td>0</td>\n",
              "      <td>93826.63</td>\n",
              "      <td>0</td>\n",
              "    </tr>\n",
              "    <tr>\n",
              "      <th>4</th>\n",
              "      <td>5</td>\n",
              "      <td>15737888</td>\n",
              "      <td>Mitchell</td>\n",
              "      <td>850</td>\n",
              "      <td>Spain</td>\n",
              "      <td>Female</td>\n",
              "      <td>43</td>\n",
              "      <td>2</td>\n",
              "      <td>125510.82</td>\n",
              "      <td>1</td>\n",
              "      <td>1</td>\n",
              "      <td>1</td>\n",
              "      <td>79084.10</td>\n",
              "      <td>0</td>\n",
              "    </tr>\n",
              "  </tbody>\n",
              "</table>\n",
              "</div>\n",
              "    <div class=\"colab-df-buttons\">\n",
              "\n",
              "  <div class=\"colab-df-container\">\n",
              "    <button class=\"colab-df-convert\" onclick=\"convertToInteractive('df-53561932-f5ac-4a01-b2ac-5ce4fa080464')\"\n",
              "            title=\"Convert this dataframe to an interactive table.\"\n",
              "            style=\"display:none;\">\n",
              "\n",
              "  <svg xmlns=\"http://www.w3.org/2000/svg\" height=\"24px\" viewBox=\"0 -960 960 960\">\n",
              "    <path d=\"M120-120v-720h720v720H120Zm60-500h600v-160H180v160Zm220 220h160v-160H400v160Zm0 220h160v-160H400v160ZM180-400h160v-160H180v160Zm440 0h160v-160H620v160ZM180-180h160v-160H180v160Zm440 0h160v-160H620v160Z\"/>\n",
              "  </svg>\n",
              "    </button>\n",
              "\n",
              "  <style>\n",
              "    .colab-df-container {\n",
              "      display:flex;\n",
              "      gap: 12px;\n",
              "    }\n",
              "\n",
              "    .colab-df-convert {\n",
              "      background-color: #E8F0FE;\n",
              "      border: none;\n",
              "      border-radius: 50%;\n",
              "      cursor: pointer;\n",
              "      display: none;\n",
              "      fill: #1967D2;\n",
              "      height: 32px;\n",
              "      padding: 0 0 0 0;\n",
              "      width: 32px;\n",
              "    }\n",
              "\n",
              "    .colab-df-convert:hover {\n",
              "      background-color: #E2EBFA;\n",
              "      box-shadow: 0px 1px 2px rgba(60, 64, 67, 0.3), 0px 1px 3px 1px rgba(60, 64, 67, 0.15);\n",
              "      fill: #174EA6;\n",
              "    }\n",
              "\n",
              "    .colab-df-buttons div {\n",
              "      margin-bottom: 4px;\n",
              "    }\n",
              "\n",
              "    [theme=dark] .colab-df-convert {\n",
              "      background-color: #3B4455;\n",
              "      fill: #D2E3FC;\n",
              "    }\n",
              "\n",
              "    [theme=dark] .colab-df-convert:hover {\n",
              "      background-color: #434B5C;\n",
              "      box-shadow: 0px 1px 3px 1px rgba(0, 0, 0, 0.15);\n",
              "      filter: drop-shadow(0px 1px 2px rgba(0, 0, 0, 0.3));\n",
              "      fill: #FFFFFF;\n",
              "    }\n",
              "  </style>\n",
              "\n",
              "    <script>\n",
              "      const buttonEl =\n",
              "        document.querySelector('#df-53561932-f5ac-4a01-b2ac-5ce4fa080464 button.colab-df-convert');\n",
              "      buttonEl.style.display =\n",
              "        google.colab.kernel.accessAllowed ? 'block' : 'none';\n",
              "\n",
              "      async function convertToInteractive(key) {\n",
              "        const element = document.querySelector('#df-53561932-f5ac-4a01-b2ac-5ce4fa080464');\n",
              "        const dataTable =\n",
              "          await google.colab.kernel.invokeFunction('convertToInteractive',\n",
              "                                                    [key], {});\n",
              "        if (!dataTable) return;\n",
              "\n",
              "        const docLinkHtml = 'Like what you see? Visit the ' +\n",
              "          '<a target=\"_blank\" href=https://colab.research.google.com/notebooks/data_table.ipynb>data table notebook</a>'\n",
              "          + ' to learn more about interactive tables.';\n",
              "        element.innerHTML = '';\n",
              "        dataTable['output_type'] = 'display_data';\n",
              "        await google.colab.output.renderOutput(dataTable, element);\n",
              "        const docLink = document.createElement('div');\n",
              "        docLink.innerHTML = docLinkHtml;\n",
              "        element.appendChild(docLink);\n",
              "      }\n",
              "    </script>\n",
              "  </div>\n",
              "\n",
              "\n",
              "<div id=\"df-ded82dc3-3366-476a-811d-1e06c5ebbc89\">\n",
              "  <button class=\"colab-df-quickchart\" onclick=\"quickchart('df-ded82dc3-3366-476a-811d-1e06c5ebbc89')\"\n",
              "            title=\"Suggest charts\"\n",
              "            style=\"display:none;\">\n",
              "\n",
              "<svg xmlns=\"http://www.w3.org/2000/svg\" height=\"24px\"viewBox=\"0 0 24 24\"\n",
              "     width=\"24px\">\n",
              "    <g>\n",
              "        <path d=\"M19 3H5c-1.1 0-2 .9-2 2v14c0 1.1.9 2 2 2h14c1.1 0 2-.9 2-2V5c0-1.1-.9-2-2-2zM9 17H7v-7h2v7zm4 0h-2V7h2v10zm4 0h-2v-4h2v4z\"/>\n",
              "    </g>\n",
              "</svg>\n",
              "  </button>\n",
              "\n",
              "<style>\n",
              "  .colab-df-quickchart {\n",
              "      --bg-color: #E8F0FE;\n",
              "      --fill-color: #1967D2;\n",
              "      --hover-bg-color: #E2EBFA;\n",
              "      --hover-fill-color: #174EA6;\n",
              "      --disabled-fill-color: #AAA;\n",
              "      --disabled-bg-color: #DDD;\n",
              "  }\n",
              "\n",
              "  [theme=dark] .colab-df-quickchart {\n",
              "      --bg-color: #3B4455;\n",
              "      --fill-color: #D2E3FC;\n",
              "      --hover-bg-color: #434B5C;\n",
              "      --hover-fill-color: #FFFFFF;\n",
              "      --disabled-bg-color: #3B4455;\n",
              "      --disabled-fill-color: #666;\n",
              "  }\n",
              "\n",
              "  .colab-df-quickchart {\n",
              "    background-color: var(--bg-color);\n",
              "    border: none;\n",
              "    border-radius: 50%;\n",
              "    cursor: pointer;\n",
              "    display: none;\n",
              "    fill: var(--fill-color);\n",
              "    height: 32px;\n",
              "    padding: 0;\n",
              "    width: 32px;\n",
              "  }\n",
              "\n",
              "  .colab-df-quickchart:hover {\n",
              "    background-color: var(--hover-bg-color);\n",
              "    box-shadow: 0 1px 2px rgba(60, 64, 67, 0.3), 0 1px 3px 1px rgba(60, 64, 67, 0.15);\n",
              "    fill: var(--button-hover-fill-color);\n",
              "  }\n",
              "\n",
              "  .colab-df-quickchart-complete:disabled,\n",
              "  .colab-df-quickchart-complete:disabled:hover {\n",
              "    background-color: var(--disabled-bg-color);\n",
              "    fill: var(--disabled-fill-color);\n",
              "    box-shadow: none;\n",
              "  }\n",
              "\n",
              "  .colab-df-spinner {\n",
              "    border: 2px solid var(--fill-color);\n",
              "    border-color: transparent;\n",
              "    border-bottom-color: var(--fill-color);\n",
              "    animation:\n",
              "      spin 1s steps(1) infinite;\n",
              "  }\n",
              "\n",
              "  @keyframes spin {\n",
              "    0% {\n",
              "      border-color: transparent;\n",
              "      border-bottom-color: var(--fill-color);\n",
              "      border-left-color: var(--fill-color);\n",
              "    }\n",
              "    20% {\n",
              "      border-color: transparent;\n",
              "      border-left-color: var(--fill-color);\n",
              "      border-top-color: var(--fill-color);\n",
              "    }\n",
              "    30% {\n",
              "      border-color: transparent;\n",
              "      border-left-color: var(--fill-color);\n",
              "      border-top-color: var(--fill-color);\n",
              "      border-right-color: var(--fill-color);\n",
              "    }\n",
              "    40% {\n",
              "      border-color: transparent;\n",
              "      border-right-color: var(--fill-color);\n",
              "      border-top-color: var(--fill-color);\n",
              "    }\n",
              "    60% {\n",
              "      border-color: transparent;\n",
              "      border-right-color: var(--fill-color);\n",
              "    }\n",
              "    80% {\n",
              "      border-color: transparent;\n",
              "      border-right-color: var(--fill-color);\n",
              "      border-bottom-color: var(--fill-color);\n",
              "    }\n",
              "    90% {\n",
              "      border-color: transparent;\n",
              "      border-bottom-color: var(--fill-color);\n",
              "    }\n",
              "  }\n",
              "</style>\n",
              "\n",
              "  <script>\n",
              "    async function quickchart(key) {\n",
              "      const quickchartButtonEl =\n",
              "        document.querySelector('#' + key + ' button');\n",
              "      quickchartButtonEl.disabled = true;  // To prevent multiple clicks.\n",
              "      quickchartButtonEl.classList.add('colab-df-spinner');\n",
              "      try {\n",
              "        const charts = await google.colab.kernel.invokeFunction(\n",
              "            'suggestCharts', [key], {});\n",
              "      } catch (error) {\n",
              "        console.error('Error during call to suggestCharts:', error);\n",
              "      }\n",
              "      quickchartButtonEl.classList.remove('colab-df-spinner');\n",
              "      quickchartButtonEl.classList.add('colab-df-quickchart-complete');\n",
              "    }\n",
              "    (() => {\n",
              "      let quickchartButtonEl =\n",
              "        document.querySelector('#df-ded82dc3-3366-476a-811d-1e06c5ebbc89 button');\n",
              "      quickchartButtonEl.style.display =\n",
              "        google.colab.kernel.accessAllowed ? 'block' : 'none';\n",
              "    })();\n",
              "  </script>\n",
              "</div>\n",
              "\n",
              "    </div>\n",
              "  </div>\n"
            ],
            "application/vnd.google.colaboratory.intrinsic+json": {
              "type": "dataframe",
              "variable_name": "churn_data",
              "summary": "{\n  \"name\": \"churn_data\",\n  \"rows\": 10000,\n  \"fields\": [\n    {\n      \"column\": \"RowNumber\",\n      \"properties\": {\n        \"dtype\": \"number\",\n        \"std\": 2886,\n        \"min\": 1,\n        \"max\": 10000,\n        \"num_unique_values\": 10000,\n        \"samples\": [\n          6253,\n          4685,\n          1732\n        ],\n        \"semantic_type\": \"\",\n        \"description\": \"\"\n      }\n    },\n    {\n      \"column\": \"CustomerId\",\n      \"properties\": {\n        \"dtype\": \"number\",\n        \"std\": 71936,\n        \"min\": 15565701,\n        \"max\": 15815690,\n        \"num_unique_values\": 10000,\n        \"samples\": [\n          15687492,\n          15736963,\n          15721730\n        ],\n        \"semantic_type\": \"\",\n        \"description\": \"\"\n      }\n    },\n    {\n      \"column\": \"Surname\",\n      \"properties\": {\n        \"dtype\": \"category\",\n        \"num_unique_values\": 2932,\n        \"samples\": [\n          \"McGuirk\",\n          \"Torkelson\",\n          \"Rapuluchukwu\"\n        ],\n        \"semantic_type\": \"\",\n        \"description\": \"\"\n      }\n    },\n    {\n      \"column\": \"CreditScore\",\n      \"properties\": {\n        \"dtype\": \"number\",\n        \"std\": 96,\n        \"min\": 350,\n        \"max\": 850,\n        \"num_unique_values\": 460,\n        \"samples\": [\n          754,\n          533,\n          744\n        ],\n        \"semantic_type\": \"\",\n        \"description\": \"\"\n      }\n    },\n    {\n      \"column\": \"Geography\",\n      \"properties\": {\n        \"dtype\": \"category\",\n        \"num_unique_values\": 3,\n        \"samples\": [\n          \"France\",\n          \"Spain\",\n          \"Germany\"\n        ],\n        \"semantic_type\": \"\",\n        \"description\": \"\"\n      }\n    },\n    {\n      \"column\": \"Gender\",\n      \"properties\": {\n        \"dtype\": \"category\",\n        \"num_unique_values\": 2,\n        \"samples\": [\n          \"Male\",\n          \"Female\"\n        ],\n        \"semantic_type\": \"\",\n        \"description\": \"\"\n      }\n    },\n    {\n      \"column\": \"Age\",\n      \"properties\": {\n        \"dtype\": \"number\",\n        \"std\": 10,\n        \"min\": 18,\n        \"max\": 92,\n        \"num_unique_values\": 70,\n        \"samples\": [\n          61,\n          42\n        ],\n        \"semantic_type\": \"\",\n        \"description\": \"\"\n      }\n    },\n    {\n      \"column\": \"Tenure\",\n      \"properties\": {\n        \"dtype\": \"number\",\n        \"std\": 2,\n        \"min\": 0,\n        \"max\": 10,\n        \"num_unique_values\": 11,\n        \"samples\": [\n          6,\n          2\n        ],\n        \"semantic_type\": \"\",\n        \"description\": \"\"\n      }\n    },\n    {\n      \"column\": \"Balance\",\n      \"properties\": {\n        \"dtype\": \"number\",\n        \"std\": 62397.40520238623,\n        \"min\": 0.0,\n        \"max\": 250898.09,\n        \"num_unique_values\": 6382,\n        \"samples\": [\n          117707.18,\n          133050.97\n        ],\n        \"semantic_type\": \"\",\n        \"description\": \"\"\n      }\n    },\n    {\n      \"column\": \"NumOfProducts\",\n      \"properties\": {\n        \"dtype\": \"number\",\n        \"std\": 0,\n        \"min\": 1,\n        \"max\": 4,\n        \"num_unique_values\": 4,\n        \"samples\": [\n          3,\n          4\n        ],\n        \"semantic_type\": \"\",\n        \"description\": \"\"\n      }\n    },\n    {\n      \"column\": \"HasCrCard\",\n      \"properties\": {\n        \"dtype\": \"number\",\n        \"std\": 0,\n        \"min\": 0,\n        \"max\": 1,\n        \"num_unique_values\": 2,\n        \"samples\": [\n          0,\n          1\n        ],\n        \"semantic_type\": \"\",\n        \"description\": \"\"\n      }\n    },\n    {\n      \"column\": \"IsActiveMember\",\n      \"properties\": {\n        \"dtype\": \"number\",\n        \"std\": 0,\n        \"min\": 0,\n        \"max\": 1,\n        \"num_unique_values\": 2,\n        \"samples\": [\n          0,\n          1\n        ],\n        \"semantic_type\": \"\",\n        \"description\": \"\"\n      }\n    },\n    {\n      \"column\": \"EstimatedSalary\",\n      \"properties\": {\n        \"dtype\": \"number\",\n        \"std\": 57510.49281769822,\n        \"min\": 11.58,\n        \"max\": 199992.48,\n        \"num_unique_values\": 9999,\n        \"samples\": [\n          100809.99,\n          95273.73\n        ],\n        \"semantic_type\": \"\",\n        \"description\": \"\"\n      }\n    },\n    {\n      \"column\": \"Exited\",\n      \"properties\": {\n        \"dtype\": \"number\",\n        \"std\": 0,\n        \"min\": 0,\n        \"max\": 1,\n        \"num_unique_values\": 2,\n        \"samples\": [\n          0,\n          1\n        ],\n        \"semantic_type\": \"\",\n        \"description\": \"\"\n      }\n    }\n  ]\n}"
            }
          },
          "metadata": {},
          "execution_count": 4
        }
      ]
    },
    {
      "cell_type": "code",
      "source": [
        "# some columns are totally unproductive so let's remove them\n",
        "churn_data.drop(['CustomerId','Surname'],axis=1,inplace=True)"
      ],
      "metadata": {
        "id": "2lCy_y1NIWyW"
      },
      "execution_count": null,
      "outputs": []
    },
    {
      "cell_type": "code",
      "source": [
        "churn_data.head()"
      ],
      "metadata": {
        "colab": {
          "base_uri": "https://localhost:8080/",
          "height": 206
        },
        "id": "kigwU4PBIa9e",
        "outputId": "9fb4f968-4236-4467-b753-8a1bb41b3ebd"
      },
      "execution_count": null,
      "outputs": [
        {
          "output_type": "execute_result",
          "data": {
            "text/plain": [
              "   RowNumber  CreditScore Geography  Gender  Age  Tenure    Balance  \\\n",
              "0          1          619    France  Female   42       2       0.00   \n",
              "1          2          608     Spain  Female   41       1   83807.86   \n",
              "2          3          502    France  Female   42       8  159660.80   \n",
              "3          4          699    France  Female   39       1       0.00   \n",
              "4          5          850     Spain  Female   43       2  125510.82   \n",
              "\n",
              "   NumOfProducts  HasCrCard  IsActiveMember  EstimatedSalary  Exited  \n",
              "0              1          1               1        101348.88       1  \n",
              "1              1          0               1        112542.58       0  \n",
              "2              3          1               0        113931.57       1  \n",
              "3              2          0               0         93826.63       0  \n",
              "4              1          1               1         79084.10       0  "
            ],
            "text/html": [
              "\n",
              "  <div id=\"df-83d03afd-5e46-4bdb-9bad-4baa70f69b60\" class=\"colab-df-container\">\n",
              "    <div>\n",
              "<style scoped>\n",
              "    .dataframe tbody tr th:only-of-type {\n",
              "        vertical-align: middle;\n",
              "    }\n",
              "\n",
              "    .dataframe tbody tr th {\n",
              "        vertical-align: top;\n",
              "    }\n",
              "\n",
              "    .dataframe thead th {\n",
              "        text-align: right;\n",
              "    }\n",
              "</style>\n",
              "<table border=\"1\" class=\"dataframe\">\n",
              "  <thead>\n",
              "    <tr style=\"text-align: right;\">\n",
              "      <th></th>\n",
              "      <th>RowNumber</th>\n",
              "      <th>CreditScore</th>\n",
              "      <th>Geography</th>\n",
              "      <th>Gender</th>\n",
              "      <th>Age</th>\n",
              "      <th>Tenure</th>\n",
              "      <th>Balance</th>\n",
              "      <th>NumOfProducts</th>\n",
              "      <th>HasCrCard</th>\n",
              "      <th>IsActiveMember</th>\n",
              "      <th>EstimatedSalary</th>\n",
              "      <th>Exited</th>\n",
              "    </tr>\n",
              "  </thead>\n",
              "  <tbody>\n",
              "    <tr>\n",
              "      <th>0</th>\n",
              "      <td>1</td>\n",
              "      <td>619</td>\n",
              "      <td>France</td>\n",
              "      <td>Female</td>\n",
              "      <td>42</td>\n",
              "      <td>2</td>\n",
              "      <td>0.00</td>\n",
              "      <td>1</td>\n",
              "      <td>1</td>\n",
              "      <td>1</td>\n",
              "      <td>101348.88</td>\n",
              "      <td>1</td>\n",
              "    </tr>\n",
              "    <tr>\n",
              "      <th>1</th>\n",
              "      <td>2</td>\n",
              "      <td>608</td>\n",
              "      <td>Spain</td>\n",
              "      <td>Female</td>\n",
              "      <td>41</td>\n",
              "      <td>1</td>\n",
              "      <td>83807.86</td>\n",
              "      <td>1</td>\n",
              "      <td>0</td>\n",
              "      <td>1</td>\n",
              "      <td>112542.58</td>\n",
              "      <td>0</td>\n",
              "    </tr>\n",
              "    <tr>\n",
              "      <th>2</th>\n",
              "      <td>3</td>\n",
              "      <td>502</td>\n",
              "      <td>France</td>\n",
              "      <td>Female</td>\n",
              "      <td>42</td>\n",
              "      <td>8</td>\n",
              "      <td>159660.80</td>\n",
              "      <td>3</td>\n",
              "      <td>1</td>\n",
              "      <td>0</td>\n",
              "      <td>113931.57</td>\n",
              "      <td>1</td>\n",
              "    </tr>\n",
              "    <tr>\n",
              "      <th>3</th>\n",
              "      <td>4</td>\n",
              "      <td>699</td>\n",
              "      <td>France</td>\n",
              "      <td>Female</td>\n",
              "      <td>39</td>\n",
              "      <td>1</td>\n",
              "      <td>0.00</td>\n",
              "      <td>2</td>\n",
              "      <td>0</td>\n",
              "      <td>0</td>\n",
              "      <td>93826.63</td>\n",
              "      <td>0</td>\n",
              "    </tr>\n",
              "    <tr>\n",
              "      <th>4</th>\n",
              "      <td>5</td>\n",
              "      <td>850</td>\n",
              "      <td>Spain</td>\n",
              "      <td>Female</td>\n",
              "      <td>43</td>\n",
              "      <td>2</td>\n",
              "      <td>125510.82</td>\n",
              "      <td>1</td>\n",
              "      <td>1</td>\n",
              "      <td>1</td>\n",
              "      <td>79084.10</td>\n",
              "      <td>0</td>\n",
              "    </tr>\n",
              "  </tbody>\n",
              "</table>\n",
              "</div>\n",
              "    <div class=\"colab-df-buttons\">\n",
              "\n",
              "  <div class=\"colab-df-container\">\n",
              "    <button class=\"colab-df-convert\" onclick=\"convertToInteractive('df-83d03afd-5e46-4bdb-9bad-4baa70f69b60')\"\n",
              "            title=\"Convert this dataframe to an interactive table.\"\n",
              "            style=\"display:none;\">\n",
              "\n",
              "  <svg xmlns=\"http://www.w3.org/2000/svg\" height=\"24px\" viewBox=\"0 -960 960 960\">\n",
              "    <path d=\"M120-120v-720h720v720H120Zm60-500h600v-160H180v160Zm220 220h160v-160H400v160Zm0 220h160v-160H400v160ZM180-400h160v-160H180v160Zm440 0h160v-160H620v160ZM180-180h160v-160H180v160Zm440 0h160v-160H620v160Z\"/>\n",
              "  </svg>\n",
              "    </button>\n",
              "\n",
              "  <style>\n",
              "    .colab-df-container {\n",
              "      display:flex;\n",
              "      gap: 12px;\n",
              "    }\n",
              "\n",
              "    .colab-df-convert {\n",
              "      background-color: #E8F0FE;\n",
              "      border: none;\n",
              "      border-radius: 50%;\n",
              "      cursor: pointer;\n",
              "      display: none;\n",
              "      fill: #1967D2;\n",
              "      height: 32px;\n",
              "      padding: 0 0 0 0;\n",
              "      width: 32px;\n",
              "    }\n",
              "\n",
              "    .colab-df-convert:hover {\n",
              "      background-color: #E2EBFA;\n",
              "      box-shadow: 0px 1px 2px rgba(60, 64, 67, 0.3), 0px 1px 3px 1px rgba(60, 64, 67, 0.15);\n",
              "      fill: #174EA6;\n",
              "    }\n",
              "\n",
              "    .colab-df-buttons div {\n",
              "      margin-bottom: 4px;\n",
              "    }\n",
              "\n",
              "    [theme=dark] .colab-df-convert {\n",
              "      background-color: #3B4455;\n",
              "      fill: #D2E3FC;\n",
              "    }\n",
              "\n",
              "    [theme=dark] .colab-df-convert:hover {\n",
              "      background-color: #434B5C;\n",
              "      box-shadow: 0px 1px 3px 1px rgba(0, 0, 0, 0.15);\n",
              "      filter: drop-shadow(0px 1px 2px rgba(0, 0, 0, 0.3));\n",
              "      fill: #FFFFFF;\n",
              "    }\n",
              "  </style>\n",
              "\n",
              "    <script>\n",
              "      const buttonEl =\n",
              "        document.querySelector('#df-83d03afd-5e46-4bdb-9bad-4baa70f69b60 button.colab-df-convert');\n",
              "      buttonEl.style.display =\n",
              "        google.colab.kernel.accessAllowed ? 'block' : 'none';\n",
              "\n",
              "      async function convertToInteractive(key) {\n",
              "        const element = document.querySelector('#df-83d03afd-5e46-4bdb-9bad-4baa70f69b60');\n",
              "        const dataTable =\n",
              "          await google.colab.kernel.invokeFunction('convertToInteractive',\n",
              "                                                    [key], {});\n",
              "        if (!dataTable) return;\n",
              "\n",
              "        const docLinkHtml = 'Like what you see? Visit the ' +\n",
              "          '<a target=\"_blank\" href=https://colab.research.google.com/notebooks/data_table.ipynb>data table notebook</a>'\n",
              "          + ' to learn more about interactive tables.';\n",
              "        element.innerHTML = '';\n",
              "        dataTable['output_type'] = 'display_data';\n",
              "        await google.colab.output.renderOutput(dataTable, element);\n",
              "        const docLink = document.createElement('div');\n",
              "        docLink.innerHTML = docLinkHtml;\n",
              "        element.appendChild(docLink);\n",
              "      }\n",
              "    </script>\n",
              "  </div>\n",
              "\n",
              "\n",
              "<div id=\"df-1ac64a3d-9a7f-4e0b-95db-ae1f88311454\">\n",
              "  <button class=\"colab-df-quickchart\" onclick=\"quickchart('df-1ac64a3d-9a7f-4e0b-95db-ae1f88311454')\"\n",
              "            title=\"Suggest charts\"\n",
              "            style=\"display:none;\">\n",
              "\n",
              "<svg xmlns=\"http://www.w3.org/2000/svg\" height=\"24px\"viewBox=\"0 0 24 24\"\n",
              "     width=\"24px\">\n",
              "    <g>\n",
              "        <path d=\"M19 3H5c-1.1 0-2 .9-2 2v14c0 1.1.9 2 2 2h14c1.1 0 2-.9 2-2V5c0-1.1-.9-2-2-2zM9 17H7v-7h2v7zm4 0h-2V7h2v10zm4 0h-2v-4h2v4z\"/>\n",
              "    </g>\n",
              "</svg>\n",
              "  </button>\n",
              "\n",
              "<style>\n",
              "  .colab-df-quickchart {\n",
              "      --bg-color: #E8F0FE;\n",
              "      --fill-color: #1967D2;\n",
              "      --hover-bg-color: #E2EBFA;\n",
              "      --hover-fill-color: #174EA6;\n",
              "      --disabled-fill-color: #AAA;\n",
              "      --disabled-bg-color: #DDD;\n",
              "  }\n",
              "\n",
              "  [theme=dark] .colab-df-quickchart {\n",
              "      --bg-color: #3B4455;\n",
              "      --fill-color: #D2E3FC;\n",
              "      --hover-bg-color: #434B5C;\n",
              "      --hover-fill-color: #FFFFFF;\n",
              "      --disabled-bg-color: #3B4455;\n",
              "      --disabled-fill-color: #666;\n",
              "  }\n",
              "\n",
              "  .colab-df-quickchart {\n",
              "    background-color: var(--bg-color);\n",
              "    border: none;\n",
              "    border-radius: 50%;\n",
              "    cursor: pointer;\n",
              "    display: none;\n",
              "    fill: var(--fill-color);\n",
              "    height: 32px;\n",
              "    padding: 0;\n",
              "    width: 32px;\n",
              "  }\n",
              "\n",
              "  .colab-df-quickchart:hover {\n",
              "    background-color: var(--hover-bg-color);\n",
              "    box-shadow: 0 1px 2px rgba(60, 64, 67, 0.3), 0 1px 3px 1px rgba(60, 64, 67, 0.15);\n",
              "    fill: var(--button-hover-fill-color);\n",
              "  }\n",
              "\n",
              "  .colab-df-quickchart-complete:disabled,\n",
              "  .colab-df-quickchart-complete:disabled:hover {\n",
              "    background-color: var(--disabled-bg-color);\n",
              "    fill: var(--disabled-fill-color);\n",
              "    box-shadow: none;\n",
              "  }\n",
              "\n",
              "  .colab-df-spinner {\n",
              "    border: 2px solid var(--fill-color);\n",
              "    border-color: transparent;\n",
              "    border-bottom-color: var(--fill-color);\n",
              "    animation:\n",
              "      spin 1s steps(1) infinite;\n",
              "  }\n",
              "\n",
              "  @keyframes spin {\n",
              "    0% {\n",
              "      border-color: transparent;\n",
              "      border-bottom-color: var(--fill-color);\n",
              "      border-left-color: var(--fill-color);\n",
              "    }\n",
              "    20% {\n",
              "      border-color: transparent;\n",
              "      border-left-color: var(--fill-color);\n",
              "      border-top-color: var(--fill-color);\n",
              "    }\n",
              "    30% {\n",
              "      border-color: transparent;\n",
              "      border-left-color: var(--fill-color);\n",
              "      border-top-color: var(--fill-color);\n",
              "      border-right-color: var(--fill-color);\n",
              "    }\n",
              "    40% {\n",
              "      border-color: transparent;\n",
              "      border-right-color: var(--fill-color);\n",
              "      border-top-color: var(--fill-color);\n",
              "    }\n",
              "    60% {\n",
              "      border-color: transparent;\n",
              "      border-right-color: var(--fill-color);\n",
              "    }\n",
              "    80% {\n",
              "      border-color: transparent;\n",
              "      border-right-color: var(--fill-color);\n",
              "      border-bottom-color: var(--fill-color);\n",
              "    }\n",
              "    90% {\n",
              "      border-color: transparent;\n",
              "      border-bottom-color: var(--fill-color);\n",
              "    }\n",
              "  }\n",
              "</style>\n",
              "\n",
              "  <script>\n",
              "    async function quickchart(key) {\n",
              "      const quickchartButtonEl =\n",
              "        document.querySelector('#' + key + ' button');\n",
              "      quickchartButtonEl.disabled = true;  // To prevent multiple clicks.\n",
              "      quickchartButtonEl.classList.add('colab-df-spinner');\n",
              "      try {\n",
              "        const charts = await google.colab.kernel.invokeFunction(\n",
              "            'suggestCharts', [key], {});\n",
              "      } catch (error) {\n",
              "        console.error('Error during call to suggestCharts:', error);\n",
              "      }\n",
              "      quickchartButtonEl.classList.remove('colab-df-spinner');\n",
              "      quickchartButtonEl.classList.add('colab-df-quickchart-complete');\n",
              "    }\n",
              "    (() => {\n",
              "      let quickchartButtonEl =\n",
              "        document.querySelector('#df-1ac64a3d-9a7f-4e0b-95db-ae1f88311454 button');\n",
              "      quickchartButtonEl.style.display =\n",
              "        google.colab.kernel.accessAllowed ? 'block' : 'none';\n",
              "    })();\n",
              "  </script>\n",
              "</div>\n",
              "\n",
              "    </div>\n",
              "  </div>\n"
            ],
            "application/vnd.google.colaboratory.intrinsic+json": {
              "type": "dataframe",
              "variable_name": "churn_data",
              "summary": "{\n  \"name\": \"churn_data\",\n  \"rows\": 10000,\n  \"fields\": [\n    {\n      \"column\": \"RowNumber\",\n      \"properties\": {\n        \"dtype\": \"number\",\n        \"std\": 2886,\n        \"min\": 1,\n        \"max\": 10000,\n        \"num_unique_values\": 10000,\n        \"samples\": [\n          6253,\n          4685,\n          1732\n        ],\n        \"semantic_type\": \"\",\n        \"description\": \"\"\n      }\n    },\n    {\n      \"column\": \"CreditScore\",\n      \"properties\": {\n        \"dtype\": \"number\",\n        \"std\": 96,\n        \"min\": 350,\n        \"max\": 850,\n        \"num_unique_values\": 460,\n        \"samples\": [\n          754,\n          533,\n          744\n        ],\n        \"semantic_type\": \"\",\n        \"description\": \"\"\n      }\n    },\n    {\n      \"column\": \"Geography\",\n      \"properties\": {\n        \"dtype\": \"category\",\n        \"num_unique_values\": 3,\n        \"samples\": [\n          \"France\",\n          \"Spain\",\n          \"Germany\"\n        ],\n        \"semantic_type\": \"\",\n        \"description\": \"\"\n      }\n    },\n    {\n      \"column\": \"Gender\",\n      \"properties\": {\n        \"dtype\": \"category\",\n        \"num_unique_values\": 2,\n        \"samples\": [\n          \"Male\",\n          \"Female\"\n        ],\n        \"semantic_type\": \"\",\n        \"description\": \"\"\n      }\n    },\n    {\n      \"column\": \"Age\",\n      \"properties\": {\n        \"dtype\": \"number\",\n        \"std\": 10,\n        \"min\": 18,\n        \"max\": 92,\n        \"num_unique_values\": 70,\n        \"samples\": [\n          61,\n          42\n        ],\n        \"semantic_type\": \"\",\n        \"description\": \"\"\n      }\n    },\n    {\n      \"column\": \"Tenure\",\n      \"properties\": {\n        \"dtype\": \"number\",\n        \"std\": 2,\n        \"min\": 0,\n        \"max\": 10,\n        \"num_unique_values\": 11,\n        \"samples\": [\n          6,\n          2\n        ],\n        \"semantic_type\": \"\",\n        \"description\": \"\"\n      }\n    },\n    {\n      \"column\": \"Balance\",\n      \"properties\": {\n        \"dtype\": \"number\",\n        \"std\": 62397.40520238623,\n        \"min\": 0.0,\n        \"max\": 250898.09,\n        \"num_unique_values\": 6382,\n        \"samples\": [\n          117707.18,\n          133050.97\n        ],\n        \"semantic_type\": \"\",\n        \"description\": \"\"\n      }\n    },\n    {\n      \"column\": \"NumOfProducts\",\n      \"properties\": {\n        \"dtype\": \"number\",\n        \"std\": 0,\n        \"min\": 1,\n        \"max\": 4,\n        \"num_unique_values\": 4,\n        \"samples\": [\n          3,\n          4\n        ],\n        \"semantic_type\": \"\",\n        \"description\": \"\"\n      }\n    },\n    {\n      \"column\": \"HasCrCard\",\n      \"properties\": {\n        \"dtype\": \"number\",\n        \"std\": 0,\n        \"min\": 0,\n        \"max\": 1,\n        \"num_unique_values\": 2,\n        \"samples\": [\n          0,\n          1\n        ],\n        \"semantic_type\": \"\",\n        \"description\": \"\"\n      }\n    },\n    {\n      \"column\": \"IsActiveMember\",\n      \"properties\": {\n        \"dtype\": \"number\",\n        \"std\": 0,\n        \"min\": 0,\n        \"max\": 1,\n        \"num_unique_values\": 2,\n        \"samples\": [\n          0,\n          1\n        ],\n        \"semantic_type\": \"\",\n        \"description\": \"\"\n      }\n    },\n    {\n      \"column\": \"EstimatedSalary\",\n      \"properties\": {\n        \"dtype\": \"number\",\n        \"std\": 57510.49281769822,\n        \"min\": 11.58,\n        \"max\": 199992.48,\n        \"num_unique_values\": 9999,\n        \"samples\": [\n          100809.99,\n          95273.73\n        ],\n        \"semantic_type\": \"\",\n        \"description\": \"\"\n      }\n    },\n    {\n      \"column\": \"Exited\",\n      \"properties\": {\n        \"dtype\": \"number\",\n        \"std\": 0,\n        \"min\": 0,\n        \"max\": 1,\n        \"num_unique_values\": 2,\n        \"samples\": [\n          0,\n          1\n        ],\n        \"semantic_type\": \"\",\n        \"description\": \"\"\n      }\n    }\n  ]\n}"
            }
          },
          "metadata": {},
          "execution_count": 6
        }
      ]
    },
    {
      "cell_type": "code",
      "source": [
        "# some columns have text data so let's one hot encode them\n",
        "\n",
        "# One-hot encode the 'Geography' column\n",
        "Geography_dummies = pd.get_dummies(data=churn_data, columns=['Geography'], prefix='Geo')\n",
        "\n",
        "# Map Gender values to numerical equivalents\n",
        "Gender_dummies = churn_data['Gender'].map({'Female': 1, 'Male': 0})\n",
        "\n",
        "# Add the new Gender_dummies column to Geography_dummies if needed\n",
        "Geography_dummies['Gender'] = Gender_dummies\n"
      ],
      "metadata": {
        "id": "NnfYLOuJIniQ"
      },
      "execution_count": null,
      "outputs": []
    },
    {
      "cell_type": "code",
      "source": [
        "Geography_dummies.head()"
      ],
      "metadata": {
        "colab": {
          "base_uri": "https://localhost:8080/",
          "height": 226
        },
        "id": "_CODeefFJPuM",
        "outputId": "74f247bc-d094-4bb1-ac86-8cc751760e72"
      },
      "execution_count": null,
      "outputs": [
        {
          "output_type": "execute_result",
          "data": {
            "text/plain": [
              "   RowNumber  CreditScore  Gender  Age  Tenure    Balance  NumOfProducts  \\\n",
              "0          1          619       1   42       2       0.00              1   \n",
              "1          2          608       1   41       1   83807.86              1   \n",
              "2          3          502       1   42       8  159660.80              3   \n",
              "3          4          699       1   39       1       0.00              2   \n",
              "4          5          850       1   43       2  125510.82              1   \n",
              "\n",
              "   HasCrCard  IsActiveMember  EstimatedSalary  Exited  Geo_France  \\\n",
              "0          1               1        101348.88       1        True   \n",
              "1          0               1        112542.58       0       False   \n",
              "2          1               0        113931.57       1        True   \n",
              "3          0               0         93826.63       0        True   \n",
              "4          1               1         79084.10       0       False   \n",
              "\n",
              "   Geo_Germany  Geo_Spain  \n",
              "0        False      False  \n",
              "1        False       True  \n",
              "2        False      False  \n",
              "3        False      False  \n",
              "4        False       True  "
            ],
            "text/html": [
              "\n",
              "  <div id=\"df-98986b6a-705c-46f9-8ed0-b20dc885894c\" class=\"colab-df-container\">\n",
              "    <div>\n",
              "<style scoped>\n",
              "    .dataframe tbody tr th:only-of-type {\n",
              "        vertical-align: middle;\n",
              "    }\n",
              "\n",
              "    .dataframe tbody tr th {\n",
              "        vertical-align: top;\n",
              "    }\n",
              "\n",
              "    .dataframe thead th {\n",
              "        text-align: right;\n",
              "    }\n",
              "</style>\n",
              "<table border=\"1\" class=\"dataframe\">\n",
              "  <thead>\n",
              "    <tr style=\"text-align: right;\">\n",
              "      <th></th>\n",
              "      <th>RowNumber</th>\n",
              "      <th>CreditScore</th>\n",
              "      <th>Gender</th>\n",
              "      <th>Age</th>\n",
              "      <th>Tenure</th>\n",
              "      <th>Balance</th>\n",
              "      <th>NumOfProducts</th>\n",
              "      <th>HasCrCard</th>\n",
              "      <th>IsActiveMember</th>\n",
              "      <th>EstimatedSalary</th>\n",
              "      <th>Exited</th>\n",
              "      <th>Geo_France</th>\n",
              "      <th>Geo_Germany</th>\n",
              "      <th>Geo_Spain</th>\n",
              "    </tr>\n",
              "  </thead>\n",
              "  <tbody>\n",
              "    <tr>\n",
              "      <th>0</th>\n",
              "      <td>1</td>\n",
              "      <td>619</td>\n",
              "      <td>1</td>\n",
              "      <td>42</td>\n",
              "      <td>2</td>\n",
              "      <td>0.00</td>\n",
              "      <td>1</td>\n",
              "      <td>1</td>\n",
              "      <td>1</td>\n",
              "      <td>101348.88</td>\n",
              "      <td>1</td>\n",
              "      <td>True</td>\n",
              "      <td>False</td>\n",
              "      <td>False</td>\n",
              "    </tr>\n",
              "    <tr>\n",
              "      <th>1</th>\n",
              "      <td>2</td>\n",
              "      <td>608</td>\n",
              "      <td>1</td>\n",
              "      <td>41</td>\n",
              "      <td>1</td>\n",
              "      <td>83807.86</td>\n",
              "      <td>1</td>\n",
              "      <td>0</td>\n",
              "      <td>1</td>\n",
              "      <td>112542.58</td>\n",
              "      <td>0</td>\n",
              "      <td>False</td>\n",
              "      <td>False</td>\n",
              "      <td>True</td>\n",
              "    </tr>\n",
              "    <tr>\n",
              "      <th>2</th>\n",
              "      <td>3</td>\n",
              "      <td>502</td>\n",
              "      <td>1</td>\n",
              "      <td>42</td>\n",
              "      <td>8</td>\n",
              "      <td>159660.80</td>\n",
              "      <td>3</td>\n",
              "      <td>1</td>\n",
              "      <td>0</td>\n",
              "      <td>113931.57</td>\n",
              "      <td>1</td>\n",
              "      <td>True</td>\n",
              "      <td>False</td>\n",
              "      <td>False</td>\n",
              "    </tr>\n",
              "    <tr>\n",
              "      <th>3</th>\n",
              "      <td>4</td>\n",
              "      <td>699</td>\n",
              "      <td>1</td>\n",
              "      <td>39</td>\n",
              "      <td>1</td>\n",
              "      <td>0.00</td>\n",
              "      <td>2</td>\n",
              "      <td>0</td>\n",
              "      <td>0</td>\n",
              "      <td>93826.63</td>\n",
              "      <td>0</td>\n",
              "      <td>True</td>\n",
              "      <td>False</td>\n",
              "      <td>False</td>\n",
              "    </tr>\n",
              "    <tr>\n",
              "      <th>4</th>\n",
              "      <td>5</td>\n",
              "      <td>850</td>\n",
              "      <td>1</td>\n",
              "      <td>43</td>\n",
              "      <td>2</td>\n",
              "      <td>125510.82</td>\n",
              "      <td>1</td>\n",
              "      <td>1</td>\n",
              "      <td>1</td>\n",
              "      <td>79084.10</td>\n",
              "      <td>0</td>\n",
              "      <td>False</td>\n",
              "      <td>False</td>\n",
              "      <td>True</td>\n",
              "    </tr>\n",
              "  </tbody>\n",
              "</table>\n",
              "</div>\n",
              "    <div class=\"colab-df-buttons\">\n",
              "\n",
              "  <div class=\"colab-df-container\">\n",
              "    <button class=\"colab-df-convert\" onclick=\"convertToInteractive('df-98986b6a-705c-46f9-8ed0-b20dc885894c')\"\n",
              "            title=\"Convert this dataframe to an interactive table.\"\n",
              "            style=\"display:none;\">\n",
              "\n",
              "  <svg xmlns=\"http://www.w3.org/2000/svg\" height=\"24px\" viewBox=\"0 -960 960 960\">\n",
              "    <path d=\"M120-120v-720h720v720H120Zm60-500h600v-160H180v160Zm220 220h160v-160H400v160Zm0 220h160v-160H400v160ZM180-400h160v-160H180v160Zm440 0h160v-160H620v160ZM180-180h160v-160H180v160Zm440 0h160v-160H620v160Z\"/>\n",
              "  </svg>\n",
              "    </button>\n",
              "\n",
              "  <style>\n",
              "    .colab-df-container {\n",
              "      display:flex;\n",
              "      gap: 12px;\n",
              "    }\n",
              "\n",
              "    .colab-df-convert {\n",
              "      background-color: #E8F0FE;\n",
              "      border: none;\n",
              "      border-radius: 50%;\n",
              "      cursor: pointer;\n",
              "      display: none;\n",
              "      fill: #1967D2;\n",
              "      height: 32px;\n",
              "      padding: 0 0 0 0;\n",
              "      width: 32px;\n",
              "    }\n",
              "\n",
              "    .colab-df-convert:hover {\n",
              "      background-color: #E2EBFA;\n",
              "      box-shadow: 0px 1px 2px rgba(60, 64, 67, 0.3), 0px 1px 3px 1px rgba(60, 64, 67, 0.15);\n",
              "      fill: #174EA6;\n",
              "    }\n",
              "\n",
              "    .colab-df-buttons div {\n",
              "      margin-bottom: 4px;\n",
              "    }\n",
              "\n",
              "    [theme=dark] .colab-df-convert {\n",
              "      background-color: #3B4455;\n",
              "      fill: #D2E3FC;\n",
              "    }\n",
              "\n",
              "    [theme=dark] .colab-df-convert:hover {\n",
              "      background-color: #434B5C;\n",
              "      box-shadow: 0px 1px 3px 1px rgba(0, 0, 0, 0.15);\n",
              "      filter: drop-shadow(0px 1px 2px rgba(0, 0, 0, 0.3));\n",
              "      fill: #FFFFFF;\n",
              "    }\n",
              "  </style>\n",
              "\n",
              "    <script>\n",
              "      const buttonEl =\n",
              "        document.querySelector('#df-98986b6a-705c-46f9-8ed0-b20dc885894c button.colab-df-convert');\n",
              "      buttonEl.style.display =\n",
              "        google.colab.kernel.accessAllowed ? 'block' : 'none';\n",
              "\n",
              "      async function convertToInteractive(key) {\n",
              "        const element = document.querySelector('#df-98986b6a-705c-46f9-8ed0-b20dc885894c');\n",
              "        const dataTable =\n",
              "          await google.colab.kernel.invokeFunction('convertToInteractive',\n",
              "                                                    [key], {});\n",
              "        if (!dataTable) return;\n",
              "\n",
              "        const docLinkHtml = 'Like what you see? Visit the ' +\n",
              "          '<a target=\"_blank\" href=https://colab.research.google.com/notebooks/data_table.ipynb>data table notebook</a>'\n",
              "          + ' to learn more about interactive tables.';\n",
              "        element.innerHTML = '';\n",
              "        dataTable['output_type'] = 'display_data';\n",
              "        await google.colab.output.renderOutput(dataTable, element);\n",
              "        const docLink = document.createElement('div');\n",
              "        docLink.innerHTML = docLinkHtml;\n",
              "        element.appendChild(docLink);\n",
              "      }\n",
              "    </script>\n",
              "  </div>\n",
              "\n",
              "\n",
              "<div id=\"df-4e1b8810-5927-4779-a980-4fbbf8821edf\">\n",
              "  <button class=\"colab-df-quickchart\" onclick=\"quickchart('df-4e1b8810-5927-4779-a980-4fbbf8821edf')\"\n",
              "            title=\"Suggest charts\"\n",
              "            style=\"display:none;\">\n",
              "\n",
              "<svg xmlns=\"http://www.w3.org/2000/svg\" height=\"24px\"viewBox=\"0 0 24 24\"\n",
              "     width=\"24px\">\n",
              "    <g>\n",
              "        <path d=\"M19 3H5c-1.1 0-2 .9-2 2v14c0 1.1.9 2 2 2h14c1.1 0 2-.9 2-2V5c0-1.1-.9-2-2-2zM9 17H7v-7h2v7zm4 0h-2V7h2v10zm4 0h-2v-4h2v4z\"/>\n",
              "    </g>\n",
              "</svg>\n",
              "  </button>\n",
              "\n",
              "<style>\n",
              "  .colab-df-quickchart {\n",
              "      --bg-color: #E8F0FE;\n",
              "      --fill-color: #1967D2;\n",
              "      --hover-bg-color: #E2EBFA;\n",
              "      --hover-fill-color: #174EA6;\n",
              "      --disabled-fill-color: #AAA;\n",
              "      --disabled-bg-color: #DDD;\n",
              "  }\n",
              "\n",
              "  [theme=dark] .colab-df-quickchart {\n",
              "      --bg-color: #3B4455;\n",
              "      --fill-color: #D2E3FC;\n",
              "      --hover-bg-color: #434B5C;\n",
              "      --hover-fill-color: #FFFFFF;\n",
              "      --disabled-bg-color: #3B4455;\n",
              "      --disabled-fill-color: #666;\n",
              "  }\n",
              "\n",
              "  .colab-df-quickchart {\n",
              "    background-color: var(--bg-color);\n",
              "    border: none;\n",
              "    border-radius: 50%;\n",
              "    cursor: pointer;\n",
              "    display: none;\n",
              "    fill: var(--fill-color);\n",
              "    height: 32px;\n",
              "    padding: 0;\n",
              "    width: 32px;\n",
              "  }\n",
              "\n",
              "  .colab-df-quickchart:hover {\n",
              "    background-color: var(--hover-bg-color);\n",
              "    box-shadow: 0 1px 2px rgba(60, 64, 67, 0.3), 0 1px 3px 1px rgba(60, 64, 67, 0.15);\n",
              "    fill: var(--button-hover-fill-color);\n",
              "  }\n",
              "\n",
              "  .colab-df-quickchart-complete:disabled,\n",
              "  .colab-df-quickchart-complete:disabled:hover {\n",
              "    background-color: var(--disabled-bg-color);\n",
              "    fill: var(--disabled-fill-color);\n",
              "    box-shadow: none;\n",
              "  }\n",
              "\n",
              "  .colab-df-spinner {\n",
              "    border: 2px solid var(--fill-color);\n",
              "    border-color: transparent;\n",
              "    border-bottom-color: var(--fill-color);\n",
              "    animation:\n",
              "      spin 1s steps(1) infinite;\n",
              "  }\n",
              "\n",
              "  @keyframes spin {\n",
              "    0% {\n",
              "      border-color: transparent;\n",
              "      border-bottom-color: var(--fill-color);\n",
              "      border-left-color: var(--fill-color);\n",
              "    }\n",
              "    20% {\n",
              "      border-color: transparent;\n",
              "      border-left-color: var(--fill-color);\n",
              "      border-top-color: var(--fill-color);\n",
              "    }\n",
              "    30% {\n",
              "      border-color: transparent;\n",
              "      border-left-color: var(--fill-color);\n",
              "      border-top-color: var(--fill-color);\n",
              "      border-right-color: var(--fill-color);\n",
              "    }\n",
              "    40% {\n",
              "      border-color: transparent;\n",
              "      border-right-color: var(--fill-color);\n",
              "      border-top-color: var(--fill-color);\n",
              "    }\n",
              "    60% {\n",
              "      border-color: transparent;\n",
              "      border-right-color: var(--fill-color);\n",
              "    }\n",
              "    80% {\n",
              "      border-color: transparent;\n",
              "      border-right-color: var(--fill-color);\n",
              "      border-bottom-color: var(--fill-color);\n",
              "    }\n",
              "    90% {\n",
              "      border-color: transparent;\n",
              "      border-bottom-color: var(--fill-color);\n",
              "    }\n",
              "  }\n",
              "</style>\n",
              "\n",
              "  <script>\n",
              "    async function quickchart(key) {\n",
              "      const quickchartButtonEl =\n",
              "        document.querySelector('#' + key + ' button');\n",
              "      quickchartButtonEl.disabled = true;  // To prevent multiple clicks.\n",
              "      quickchartButtonEl.classList.add('colab-df-spinner');\n",
              "      try {\n",
              "        const charts = await google.colab.kernel.invokeFunction(\n",
              "            'suggestCharts', [key], {});\n",
              "      } catch (error) {\n",
              "        console.error('Error during call to suggestCharts:', error);\n",
              "      }\n",
              "      quickchartButtonEl.classList.remove('colab-df-spinner');\n",
              "      quickchartButtonEl.classList.add('colab-df-quickchart-complete');\n",
              "    }\n",
              "    (() => {\n",
              "      let quickchartButtonEl =\n",
              "        document.querySelector('#df-4e1b8810-5927-4779-a980-4fbbf8821edf button');\n",
              "      quickchartButtonEl.style.display =\n",
              "        google.colab.kernel.accessAllowed ? 'block' : 'none';\n",
              "    })();\n",
              "  </script>\n",
              "</div>\n",
              "\n",
              "    </div>\n",
              "  </div>\n"
            ],
            "application/vnd.google.colaboratory.intrinsic+json": {
              "type": "dataframe",
              "variable_name": "Geography_dummies",
              "summary": "{\n  \"name\": \"Geography_dummies\",\n  \"rows\": 10000,\n  \"fields\": [\n    {\n      \"column\": \"RowNumber\",\n      \"properties\": {\n        \"dtype\": \"number\",\n        \"std\": 2886,\n        \"min\": 1,\n        \"max\": 10000,\n        \"num_unique_values\": 10000,\n        \"samples\": [\n          6253,\n          4685,\n          1732\n        ],\n        \"semantic_type\": \"\",\n        \"description\": \"\"\n      }\n    },\n    {\n      \"column\": \"CreditScore\",\n      \"properties\": {\n        \"dtype\": \"number\",\n        \"std\": 96,\n        \"min\": 350,\n        \"max\": 850,\n        \"num_unique_values\": 460,\n        \"samples\": [\n          754,\n          533,\n          744\n        ],\n        \"semantic_type\": \"\",\n        \"description\": \"\"\n      }\n    },\n    {\n      \"column\": \"Gender\",\n      \"properties\": {\n        \"dtype\": \"number\",\n        \"std\": 0,\n        \"min\": 0,\n        \"max\": 1,\n        \"num_unique_values\": 2,\n        \"samples\": [\n          0,\n          1\n        ],\n        \"semantic_type\": \"\",\n        \"description\": \"\"\n      }\n    },\n    {\n      \"column\": \"Age\",\n      \"properties\": {\n        \"dtype\": \"number\",\n        \"std\": 10,\n        \"min\": 18,\n        \"max\": 92,\n        \"num_unique_values\": 70,\n        \"samples\": [\n          61,\n          42\n        ],\n        \"semantic_type\": \"\",\n        \"description\": \"\"\n      }\n    },\n    {\n      \"column\": \"Tenure\",\n      \"properties\": {\n        \"dtype\": \"number\",\n        \"std\": 2,\n        \"min\": 0,\n        \"max\": 10,\n        \"num_unique_values\": 11,\n        \"samples\": [\n          6,\n          2\n        ],\n        \"semantic_type\": \"\",\n        \"description\": \"\"\n      }\n    },\n    {\n      \"column\": \"Balance\",\n      \"properties\": {\n        \"dtype\": \"number\",\n        \"std\": 62397.40520238623,\n        \"min\": 0.0,\n        \"max\": 250898.09,\n        \"num_unique_values\": 6382,\n        \"samples\": [\n          117707.18,\n          133050.97\n        ],\n        \"semantic_type\": \"\",\n        \"description\": \"\"\n      }\n    },\n    {\n      \"column\": \"NumOfProducts\",\n      \"properties\": {\n        \"dtype\": \"number\",\n        \"std\": 0,\n        \"min\": 1,\n        \"max\": 4,\n        \"num_unique_values\": 4,\n        \"samples\": [\n          3,\n          4\n        ],\n        \"semantic_type\": \"\",\n        \"description\": \"\"\n      }\n    },\n    {\n      \"column\": \"HasCrCard\",\n      \"properties\": {\n        \"dtype\": \"number\",\n        \"std\": 0,\n        \"min\": 0,\n        \"max\": 1,\n        \"num_unique_values\": 2,\n        \"samples\": [\n          0,\n          1\n        ],\n        \"semantic_type\": \"\",\n        \"description\": \"\"\n      }\n    },\n    {\n      \"column\": \"IsActiveMember\",\n      \"properties\": {\n        \"dtype\": \"number\",\n        \"std\": 0,\n        \"min\": 0,\n        \"max\": 1,\n        \"num_unique_values\": 2,\n        \"samples\": [\n          0,\n          1\n        ],\n        \"semantic_type\": \"\",\n        \"description\": \"\"\n      }\n    },\n    {\n      \"column\": \"EstimatedSalary\",\n      \"properties\": {\n        \"dtype\": \"number\",\n        \"std\": 57510.49281769822,\n        \"min\": 11.58,\n        \"max\": 199992.48,\n        \"num_unique_values\": 9999,\n        \"samples\": [\n          100809.99,\n          95273.73\n        ],\n        \"semantic_type\": \"\",\n        \"description\": \"\"\n      }\n    },\n    {\n      \"column\": \"Exited\",\n      \"properties\": {\n        \"dtype\": \"number\",\n        \"std\": 0,\n        \"min\": 0,\n        \"max\": 1,\n        \"num_unique_values\": 2,\n        \"samples\": [\n          0,\n          1\n        ],\n        \"semantic_type\": \"\",\n        \"description\": \"\"\n      }\n    },\n    {\n      \"column\": \"Geo_France\",\n      \"properties\": {\n        \"dtype\": \"boolean\",\n        \"num_unique_values\": 2,\n        \"samples\": [\n          false,\n          true\n        ],\n        \"semantic_type\": \"\",\n        \"description\": \"\"\n      }\n    },\n    {\n      \"column\": \"Geo_Germany\",\n      \"properties\": {\n        \"dtype\": \"boolean\",\n        \"num_unique_values\": 2,\n        \"samples\": [\n          true,\n          false\n        ],\n        \"semantic_type\": \"\",\n        \"description\": \"\"\n      }\n    },\n    {\n      \"column\": \"Geo_Spain\",\n      \"properties\": {\n        \"dtype\": \"boolean\",\n        \"num_unique_values\": 2,\n        \"samples\": [\n          true,\n          false\n        ],\n        \"semantic_type\": \"\",\n        \"description\": \"\"\n      }\n    }\n  ]\n}"
            }
          },
          "metadata": {},
          "execution_count": 13
        }
      ]
    },
    {
      "cell_type": "code",
      "source": [
        "churn_data_encoded = Geography_dummies"
      ],
      "metadata": {
        "id": "C5A9tHqMJXYT"
      },
      "execution_count": null,
      "outputs": []
    },
    {
      "cell_type": "code",
      "source": [
        "import seaborn as sns\n",
        "import matplotlib.pyplot as plt\n",
        "\n",
        "sns.countplot(y=churn_data_encoded.Exited ,data=churn_data_encoded,palette='rocket')\n",
        "plt.xlabel(\"Count of each Target class\")\n",
        "plt.ylabel(\"Target classes\")\n",
        "plt.show()"
      ],
      "metadata": {
        "colab": {
          "base_uri": "https://localhost:8080/",
          "height": 556
        },
        "id": "XFs-WpmNJplI",
        "outputId": "47cc048c-69c0-48f6-fe7c-e293a54f251e"
      },
      "execution_count": null,
      "outputs": [
        {
          "output_type": "stream",
          "name": "stderr",
          "text": [
            "<ipython-input-18-39fc372ef5ed>:4: FutureWarning: \n",
            "\n",
            "Passing `palette` without assigning `hue` is deprecated and will be removed in v0.14.0. Assign the `y` variable to `hue` and set `legend=False` for the same effect.\n",
            "\n",
            "  sns.countplot(y=churn_data_encoded.Exited ,data=churn_data_encoded,palette='rocket')\n"
          ]
        },
        {
          "output_type": "display_data",
          "data": {
            "text/plain": [
              "<Figure size 640x480 with 1 Axes>"
            ],
            "image/png": "[encoded data removed]"
          },
          "metadata": {}
        }
      ]
    },
    {
      "cell_type": "code",
      "source": [
        "churn_data_encoded.hist(figsize=(15,12),bins = 15)\n",
        "plt.title(\"Features Distribution\")\n",
        "plt.show()"
      ],
      "metadata": {
        "colab": {
          "base_uri": "https://localhost:8080/",
          "height": 1000
        },
        "id": "i0U7gsWlKAZu",
        "outputId": "97f140c0-6800-47b1-86fe-69e94ace6438"
      },
      "execution_count": null,
      "outputs": [
        {
          "output_type": "display_data",
          "data": {
            "text/plain": [
              "<Figure size 1500x1200 with 12 Axes>"
            ],
            "image/png": "[encoded data removed]"
          },
          "metadata": {}
        }
      ]
    },
    {
      "cell_type": "markdown",
      "source": [
        "* **Age**: The distribution of customer ages shows a peak around 30–40 years. This indicates that the majority of customers fall within this age group. If age is relevant to the classification target (e.g., churn prediction), this range may be significant.\n",
        "* **Balance**: Most customers have a low or zero balance, with a smaller proportion having higher balances. You might investigate whether customers with high balances are more or less likely to belong to a specific class.\n",
        "* **CreditScore**: This follows a normal distribution, with most customers having an average credit score. You can check if the extremes (low or high credit scores) have a stronger correlation with your target variable.\n",
        "* **EstimatedSalary**: This feature seems uniformly distributed, suggesting that salary may not have strong predictive power for classification unless combined with other features.\n",
        "* **Tenure**: This is fairly evenly distributed across the range of values, which may indicate that tenure alone isn’t skewed or biased toward a specific target class.\n"
      ],
      "metadata": {
        "id": "K7p2l1ciKd8W"
      }
    },
    {
      "cell_type": "code",
      "source": [],
      "metadata": {
        "id": "O-uFO8FBLBH2"
      },
      "execution_count": null,
      "outputs": []
    },
    {
      "cell_type": "code",
      "source": [
        "X = churn_data_encoded.drop(['Exited','RowNumber'],axis=1)\n",
        "y = churn_data_encoded.Exited"
      ],
      "metadata": {
        "id": "BsYbgHTAKoK5"
      },
      "execution_count": null,
      "outputs": []
    },
    {
      "cell_type": "code",
      "source": [
        "X.head()"
      ],
      "metadata": {
        "colab": {
          "base_uri": "https://localhost:8080/",
          "height": 226
        },
        "id": "Dr6QAvleWjie",
        "outputId": "2847f6b5-3cbb-401f-9457-fe004b49dea6"
      },
      "execution_count": null,
      "outputs": [
        {
          "output_type": "execute_result",
          "data": {
            "text/plain": [
              "   CreditScore  Gender  Age  Tenure    Balance  NumOfProducts  HasCrCard  \\\n",
              "0          619       1   42       2       0.00              1          1   \n",
              "1          608       1   41       1   83807.86              1          0   \n",
              "2          502       1   42       8  159660.80              3          1   \n",
              "3          699       1   39       1       0.00              2          0   \n",
              "4          850       1   43       2  125510.82              1          1   \n",
              "\n",
              "   IsActiveMember  EstimatedSalary  Geo_France  Geo_Germany  Geo_Spain  \n",
              "0               1        101348.88        True        False      False  \n",
              "1               1        112542.58       False        False       True  \n",
              "2               0        113931.57        True        False      False  \n",
              "3               0         93826.63        True        False      False  \n",
              "4               1         79084.10       False        False       True  "
            ],
            "text/html": [
              "\n",
              "  <div id=\"df-1134fc26-82a6-432f-af7b-12380232b092\" class=\"colab-df-container\">\n",
              "    <div>\n",
              "<style scoped>\n",
              "    .dataframe tbody tr th:only-of-type {\n",
              "        vertical-align: middle;\n",
              "    }\n",
              "\n",
              "    .dataframe tbody tr th {\n",
              "        vertical-align: top;\n",
              "    }\n",
              "\n",
              "    .dataframe thead th {\n",
              "        text-align: right;\n",
              "    }\n",
              "</style>\n",
              "<table border=\"1\" class=\"dataframe\">\n",
              "  <thead>\n",
              "    <tr style=\"text-align: right;\">\n",
              "      <th></th>\n",
              "      <th>CreditScore</th>\n",
              "      <th>Gender</th>\n",
              "      <th>Age</th>\n",
              "      <th>Tenure</th>\n",
              "      <th>Balance</th>\n",
              "      <th>NumOfProducts</th>\n",
              "      <th>HasCrCard</th>\n",
              "      <th>IsActiveMember</th>\n",
              "      <th>EstimatedSalary</th>\n",
              "      <th>Geo_France</th>\n",
              "      <th>Geo_Germany</th>\n",
              "      <th>Geo_Spain</th>\n",
              "    </tr>\n",
              "  </thead>\n",
              "  <tbody>\n",
              "    <tr>\n",
              "      <th>0</th>\n",
              "      <td>619</td>\n",
              "      <td>1</td>\n",
              "      <td>42</td>\n",
              "      <td>2</td>\n",
              "      <td>0.00</td>\n",
              "      <td>1</td>\n",
              "      <td>1</td>\n",
              "      <td>1</td>\n",
              "      <td>101348.88</td>\n",
              "      <td>True</td>\n",
              "      <td>False</td>\n",
              "      <td>False</td>\n",
              "    </tr>\n",
              "    <tr>\n",
              "      <th>1</th>\n",
              "      <td>608</td>\n",
              "      <td>1</td>\n",
              "      <td>41</td>\n",
              "      <td>1</td>\n",
              "      <td>83807.86</td>\n",
              "      <td>1</td>\n",
              "      <td>0</td>\n",
              "      <td>1</td>\n",
              "      <td>112542.58</td>\n",
              "      <td>False</td>\n",
              "      <td>False</td>\n",
              "      <td>True</td>\n",
              "    </tr>\n",
              "    <tr>\n",
              "      <th>2</th>\n",
              "      <td>502</td>\n",
              "      <td>1</td>\n",
              "      <td>42</td>\n",
              "      <td>8</td>\n",
              "      <td>159660.80</td>\n",
              "      <td>3</td>\n",
              "      <td>1</td>\n",
              "      <td>0</td>\n",
              "      <td>113931.57</td>\n",
              "      <td>True</td>\n",
              "      <td>False</td>\n",
              "      <td>False</td>\n",
              "    </tr>\n",
              "    <tr>\n",
              "      <th>3</th>\n",
              "      <td>699</td>\n",
              "      <td>1</td>\n",
              "      <td>39</td>\n",
              "      <td>1</td>\n",
              "      <td>0.00</td>\n",
              "      <td>2</td>\n",
              "      <td>0</td>\n",
              "      <td>0</td>\n",
              "      <td>93826.63</td>\n",
              "      <td>True</td>\n",
              "      <td>False</td>\n",
              "      <td>False</td>\n",
              "    </tr>\n",
              "    <tr>\n",
              "      <th>4</th>\n",
              "      <td>850</td>\n",
              "      <td>1</td>\n",
              "      <td>43</td>\n",
              "      <td>2</td>\n",
              "      <td>125510.82</td>\n",
              "      <td>1</td>\n",
              "      <td>1</td>\n",
              "      <td>1</td>\n",
              "      <td>79084.10</td>\n",
              "      <td>False</td>\n",
              "      <td>False</td>\n",
              "      <td>True</td>\n",
              "    </tr>\n",
              "  </tbody>\n",
              "</table>\n",
              "</div>\n",
              "    <div class=\"colab-df-buttons\">\n",
              "\n",
              "  <div class=\"colab-df-container\">\n",
              "    <button class=\"colab-df-convert\" onclick=\"convertToInteractive('df-1134fc26-82a6-432f-af7b-12380232b092')\"\n",
              "            title=\"Convert this dataframe to an interactive table.\"\n",
              "            style=\"display:none;\">\n",
              "\n",
              "  <svg xmlns=\"http://www.w3.org/2000/svg\" height=\"24px\" viewBox=\"0 -960 960 960\">\n",
              "    <path d=\"M120-120v-720h720v720H120Zm60-500h600v-160H180v160Zm220 220h160v-160H400v160Zm0 220h160v-160H400v160ZM180-400h160v-160H180v160Zm440 0h160v-160H620v160ZM180-180h160v-160H180v160Zm440 0h160v-160H620v160Z\"/>\n",
              "  </svg>\n",
              "    </button>\n",
              "\n",
              "  <style>\n",
              "    .colab-df-container {\n",
              "      display:flex;\n",
              "      gap: 12px;\n",
              "    }\n",
              "\n",
              "    .colab-df-convert {\n",
              "      background-color: #E8F0FE;\n",
              "      border: none;\n",
              "      border-radius: 50%;\n",
              "      cursor: pointer;\n",
              "      display: none;\n",
              "      fill: #1967D2;\n",
              "      height: 32px;\n",
              "      padding: 0 0 0 0;\n",
              "      width: 32px;\n",
              "    }\n",
              "\n",
              "    .colab-df-convert:hover {\n",
              "      background-color: #E2EBFA;\n",
              "      box-shadow: 0px 1px 2px rgba(60, 64, 67, 0.3), 0px 1px 3px 1px rgba(60, 64, 67, 0.15);\n",
              "      fill: #174EA6;\n",
              "    }\n",
              "\n",
              "    .colab-df-buttons div {\n",
              "      margin-bottom: 4px;\n",
              "    }\n",
              "\n",
              "    [theme=dark] .colab-df-convert {\n",
              "      background-color: #3B4455;\n",
              "      fill: #D2E3FC;\n",
              "    }\n",
              "\n",
              "    [theme=dark] .colab-df-convert:hover {\n",
              "      background-color: #434B5C;\n",
              "      box-shadow: 0px 1px 3px 1px rgba(0, 0, 0, 0.15);\n",
              "      filter: drop-shadow(0px 1px 2px rgba(0, 0, 0, 0.3));\n",
              "      fill: #FFFFFF;\n",
              "    }\n",
              "  </style>\n",
              "\n",
              "    <script>\n",
              "      const buttonEl =\n",
              "        document.querySelector('#df-1134fc26-82a6-432f-af7b-12380232b092 button.colab-df-convert');\n",
              "      buttonEl.style.display =\n",
              "        google.colab.kernel.accessAllowed ? 'block' : 'none';\n",
              "\n",
              "      async function convertToInteractive(key) {\n",
              "        const element = document.querySelector('#df-1134fc26-82a6-432f-af7b-12380232b092');\n",
              "        const dataTable =\n",
              "          await google.colab.kernel.invokeFunction('convertToInteractive',\n",
              "                                                    [key], {});\n",
              "        if (!dataTable) return;\n",
              "\n",
              "        const docLinkHtml = 'Like what you see? Visit the ' +\n",
              "          '<a target=\"_blank\" href=https://colab.research.google.com/notebooks/data_table.ipynb>data table notebook</a>'\n",
              "          + ' to learn more about interactive tables.';\n",
              "        element.innerHTML = '';\n",
              "        dataTable['output_type'] = 'display_data';\n",
              "        await google.colab.output.renderOutput(dataTable, element);\n",
              "        const docLink = document.createElement('div');\n",
              "        docLink.innerHTML = docLinkHtml;\n",
              "        element.appendChild(docLink);\n",
              "      }\n",
              "    </script>\n",
              "  </div>\n",
              "\n",
              "\n",
              "<div id=\"df-e077ef64-d74d-41a9-9e70-bbd443acedc2\">\n",
              "  <button class=\"colab-df-quickchart\" onclick=\"quickchart('df-e077ef64-d74d-41a9-9e70-bbd443acedc2')\"\n",
              "            title=\"Suggest charts\"\n",
              "            style=\"display:none;\">\n",
              "\n",
              "<svg xmlns=\"http://www.w3.org/2000/svg\" height=\"24px\"viewBox=\"0 0 24 24\"\n",
              "     width=\"24px\">\n",
              "    <g>\n",
              "        <path d=\"M19 3H5c-1.1 0-2 .9-2 2v14c0 1.1.9 2 2 2h14c1.1 0 2-.9 2-2V5c0-1.1-.9-2-2-2zM9 17H7v-7h2v7zm4 0h-2V7h2v10zm4 0h-2v-4h2v4z\"/>\n",
              "    </g>\n",
              "</svg>\n",
              "  </button>\n",
              "\n",
              "<style>\n",
              "  .colab-df-quickchart {\n",
              "      --bg-color: #E8F0FE;\n",
              "      --fill-color: #1967D2;\n",
              "      --hover-bg-color: #E2EBFA;\n",
              "      --hover-fill-color: #174EA6;\n",
              "      --disabled-fill-color: #AAA;\n",
              "      --disabled-bg-color: #DDD;\n",
              "  }\n",
              "\n",
              "  [theme=dark] .colab-df-quickchart {\n",
              "      --bg-color: #3B4455;\n",
              "      --fill-color: #D2E3FC;\n",
              "      --hover-bg-color: #434B5C;\n",
              "      --hover-fill-color: #FFFFFF;\n",
              "      --disabled-bg-color: #3B4455;\n",
              "      --disabled-fill-color: #666;\n",
              "  }\n",
              "\n",
              "  .colab-df-quickchart {\n",
              "    background-color: var(--bg-color);\n",
              "    border: none;\n",
              "    border-radius: 50%;\n",
              "    cursor: pointer;\n",
              "    display: none;\n",
              "    fill: var(--fill-color);\n",
              "    height: 32px;\n",
              "    padding: 0;\n",
              "    width: 32px;\n",
              "  }\n",
              "\n",
              "  .colab-df-quickchart:hover {\n",
              "    background-color: var(--hover-bg-color);\n",
              "    box-shadow: 0 1px 2px rgba(60, 64, 67, 0.3), 0 1px 3px 1px rgba(60, 64, 67, 0.15);\n",
              "    fill: var(--button-hover-fill-color);\n",
              "  }\n",
              "\n",
              "  .colab-df-quickchart-complete:disabled,\n",
              "  .colab-df-quickchart-complete:disabled:hover {\n",
              "    background-color: var(--disabled-bg-color);\n",
              "    fill: var(--disabled-fill-color);\n",
              "    box-shadow: none;\n",
              "  }\n",
              "\n",
              "  .colab-df-spinner {\n",
              "    border: 2px solid var(--fill-color);\n",
              "    border-color: transparent;\n",
              "    border-bottom-color: var(--fill-color);\n",
              "    animation:\n",
              "      spin 1s steps(1) infinite;\n",
              "  }\n",
              "\n",
              "  @keyframes spin {\n",
              "    0% {\n",
              "      border-color: transparent;\n",
              "      border-bottom-color: var(--fill-color);\n",
              "      border-left-color: var(--fill-color);\n",
              "    }\n",
              "    20% {\n",
              "      border-color: transparent;\n",
              "      border-left-color: var(--fill-color);\n",
              "      border-top-color: var(--fill-color);\n",
              "    }\n",
              "    30% {\n",
              "      border-color: transparent;\n",
              "      border-left-color: var(--fill-color);\n",
              "      border-top-color: var(--fill-color);\n",
              "      border-right-color: var(--fill-color);\n",
              "    }\n",
              "    40% {\n",
              "      border-color: transparent;\n",
              "      border-right-color: var(--fill-color);\n",
              "      border-top-color: var(--fill-color);\n",
              "    }\n",
              "    60% {\n",
              "      border-color: transparent;\n",
              "      border-right-color: var(--fill-color);\n",
              "    }\n",
              "    80% {\n",
              "      border-color: transparent;\n",
              "      border-right-color: var(--fill-color);\n",
              "      border-bottom-color: var(--fill-color);\n",
              "    }\n",
              "    90% {\n",
              "      border-color: transparent;\n",
              "      border-bottom-color: var(--fill-color);\n",
              "    }\n",
              "  }\n",
              "</style>\n",
              "\n",
              "  <script>\n",
              "    async function quickchart(key) {\n",
              "      const quickchartButtonEl =\n",
              "        document.querySelector('#' + key + ' button');\n",
              "      quickchartButtonEl.disabled = true;  // To prevent multiple clicks.\n",
              "      quickchartButtonEl.classList.add('colab-df-spinner');\n",
              "      try {\n",
              "        const charts = await google.colab.kernel.invokeFunction(\n",
              "            'suggestCharts', [key], {});\n",
              "      } catch (error) {\n",
              "        console.error('Error during call to suggestCharts:', error);\n",
              "      }\n",
              "      quickchartButtonEl.classList.remove('colab-df-spinner');\n",
              "      quickchartButtonEl.classList.add('colab-df-quickchart-complete');\n",
              "    }\n",
              "    (() => {\n",
              "      let quickchartButtonEl =\n",
              "        document.querySelector('#df-e077ef64-d74d-41a9-9e70-bbd443acedc2 button');\n",
              "      quickchartButtonEl.style.display =\n",
              "        google.colab.kernel.accessAllowed ? 'block' : 'none';\n",
              "    })();\n",
              "  </script>\n",
              "</div>\n",
              "\n",
              "    </div>\n",
              "  </div>\n"
            ],
            "application/vnd.google.colaboratory.intrinsic+json": {
              "type": "dataframe",
              "variable_name": "X",
              "summary": "{\n  \"name\": \"X\",\n  \"rows\": 10000,\n  \"fields\": [\n    {\n      \"column\": \"CreditScore\",\n      \"properties\": {\n        \"dtype\": \"number\",\n        \"std\": 96,\n        \"min\": 350,\n        \"max\": 850,\n        \"num_unique_values\": 460,\n        \"samples\": [\n          754,\n          533,\n          744\n        ],\n        \"semantic_type\": \"\",\n        \"description\": \"\"\n      }\n    },\n    {\n      \"column\": \"Gender\",\n      \"properties\": {\n        \"dtype\": \"number\",\n        \"std\": 0,\n        \"min\": 0,\n        \"max\": 1,\n        \"num_unique_values\": 2,\n        \"samples\": [\n          0,\n          1\n        ],\n        \"semantic_type\": \"\",\n        \"description\": \"\"\n      }\n    },\n    {\n      \"column\": \"Age\",\n      \"properties\": {\n        \"dtype\": \"number\",\n        \"std\": 10,\n        \"min\": 18,\n        \"max\": 92,\n        \"num_unique_values\": 70,\n        \"samples\": [\n          61,\n          42\n        ],\n        \"semantic_type\": \"\",\n        \"description\": \"\"\n      }\n    },\n    {\n      \"column\": \"Tenure\",\n      \"properties\": {\n        \"dtype\": \"number\",\n        \"std\": 2,\n        \"min\": 0,\n        \"max\": 10,\n        \"num_unique_values\": 11,\n        \"samples\": [\n          6,\n          2\n        ],\n        \"semantic_type\": \"\",\n        \"description\": \"\"\n      }\n    },\n    {\n      \"column\": \"Balance\",\n      \"properties\": {\n        \"dtype\": \"number\",\n        \"std\": 62397.40520238623,\n        \"min\": 0.0,\n        \"max\": 250898.09,\n        \"num_unique_values\": 6382,\n        \"samples\": [\n          117707.18,\n          133050.97\n        ],\n        \"semantic_type\": \"\",\n        \"description\": \"\"\n      }\n    },\n    {\n      \"column\": \"NumOfProducts\",\n      \"properties\": {\n        \"dtype\": \"number\",\n        \"std\": 0,\n        \"min\": 1,\n        \"max\": 4,\n        \"num_unique_values\": 4,\n        \"samples\": [\n          3,\n          4\n        ],\n        \"semantic_type\": \"\",\n        \"description\": \"\"\n      }\n    },\n    {\n      \"column\": \"HasCrCard\",\n      \"properties\": {\n        \"dtype\": \"number\",\n        \"std\": 0,\n        \"min\": 0,\n        \"max\": 1,\n        \"num_unique_values\": 2,\n        \"samples\": [\n          0,\n          1\n        ],\n        \"semantic_type\": \"\",\n        \"description\": \"\"\n      }\n    },\n    {\n      \"column\": \"IsActiveMember\",\n      \"properties\": {\n        \"dtype\": \"number\",\n        \"std\": 0,\n        \"min\": 0,\n        \"max\": 1,\n        \"num_unique_values\": 2,\n        \"samples\": [\n          0,\n          1\n        ],\n        \"semantic_type\": \"\",\n        \"description\": \"\"\n      }\n    },\n    {\n      \"column\": \"EstimatedSalary\",\n      \"properties\": {\n        \"dtype\": \"number\",\n        \"std\": 57510.49281769822,\n        \"min\": 11.58,\n        \"max\": 199992.48,\n        \"num_unique_values\": 9999,\n        \"samples\": [\n          100809.99,\n          95273.73\n        ],\n        \"semantic_type\": \"\",\n        \"description\": \"\"\n      }\n    },\n    {\n      \"column\": \"Geo_France\",\n      \"properties\": {\n        \"dtype\": \"boolean\",\n        \"num_unique_values\": 2,\n        \"samples\": [\n          false,\n          true\n        ],\n        \"semantic_type\": \"\",\n        \"description\": \"\"\n      }\n    },\n    {\n      \"column\": \"Geo_Germany\",\n      \"properties\": {\n        \"dtype\": \"boolean\",\n        \"num_unique_values\": 2,\n        \"samples\": [\n          true,\n          false\n        ],\n        \"semantic_type\": \"\",\n        \"description\": \"\"\n      }\n    },\n    {\n      \"column\": \"Geo_Spain\",\n      \"properties\": {\n        \"dtype\": \"boolean\",\n        \"num_unique_values\": 2,\n        \"samples\": [\n          true,\n          false\n        ],\n        \"semantic_type\": \"\",\n        \"description\": \"\"\n      }\n    }\n  ]\n}"
            }
          },
          "metadata": {},
          "execution_count": 11
        }
      ]
    },
    {
      "cell_type": "code",
      "source": [
        "# Splitting the dataset into the Training set and Test set\n",
        "from sklearn.model_selection import train_test_split\n",
        "X_train, X_test, y_train, y_test = train_test_split(X, y, test_size = 0.33, random_state = 0)"
      ],
      "metadata": {
        "id": "TTsAAK_XLOj1"
      },
      "execution_count": null,
      "outputs": []
    },
    {
      "cell_type": "code",
      "source": [
        "# Feature Scaling because yes we don't want one independent variable dominating the other and it makes computations easy\n",
        "from sklearn.preprocessing import StandardScaler\n",
        "sc = StandardScaler()\n",
        "X_train = sc.fit_transform(X_train)\n",
        "X_test = sc.transform(X_test)"
      ],
      "metadata": {
        "id": "aI3B--R3MJRw"
      },
      "execution_count": null,
      "outputs": []
    },
    {
      "cell_type": "code",
      "source": [
        "#shape of X_train\n",
        "X_train.shape"
      ],
      "metadata": {
        "colab": {
          "base_uri": "https://localhost:8080/"
        },
        "id": "CfnCRkcLXV9K",
        "outputId": "02528dcb-cf86-4434-984a-c3490f9e53b8"
      },
      "execution_count": null,
      "outputs": [
        {
          "output_type": "execute_result",
          "data": {
            "text/plain": [
              "(6700, 12)"
            ]
          },
          "metadata": {},
          "execution_count": 15
        }
      ]
    },
    {
      "cell_type": "markdown",
      "source": [
        "##ANN Implmentation\n",
        "\n",
        "To set up an Artificial Neural Network (ANN), particularly with the Keras library, follow these steps to create a sequential layer of nodes and understand how to determine the number of nodes in each layer."
      ],
      "metadata": {
        "id": "8At86DVJM8pz"
      }
    },
    {
      "cell_type": "markdown",
      "source": [
        "Install Required Libraries: Ensure you have TensorFlow and Keras installed. You can install them using pip:"
      ],
      "metadata": {
        "id": "XdklFeQ0NIfS"
      }
    },
    {
      "cell_type": "code",
      "source": [
        "!pip install tensorflow keras"
      ],
      "metadata": {
        "colab": {
          "base_uri": "https://localhost:8080/"
        },
        "collapsed": true,
        "id": "u39O923iNJtl",
        "outputId": "df6052b8-4a4a-4df7-a9bb-0a2557844872"
      },
      "execution_count": null,
      "outputs": [
        {
          "output_type": "stream",
          "name": "stdout",
          "text": [
            "Requirement already satisfied: tensorflow in /usr/local/lib/python3.10/dist-packages (2.17.1)\n",
            "Requirement already satisfied: keras in /usr/local/lib/python3.10/dist-packages (3.5.0)\n",
            "Requirement already satisfied: absl-py>=1.0.0 in /usr/local/lib/python3.10/dist-packages (from tensorflow) (1.4.0)\n",
            "Requirement already satisfied: astunparse>=1.6.0 in /usr/local/lib/python3.10/dist-packages (from tensorflow) (1.6.3)\n",
            "Requirement already satisfied: flatbuffers>=24.3.25 in /usr/local/lib/python3.10/dist-packages (from tensorflow) (24.3.25)\n",
            "Requirement already satisfied: gast!=0.5.0,!=0.5.1,!=0.5.2,>=0.2.1 in /usr/local/lib/python3.10/dist-packages (from tensorflow) (0.6.0)\n",
            "Requirement already satisfied: google-pasta>=0.1.1 in /usr/local/lib/python3.10/dist-packages (from tensorflow) (0.2.0)\n",
            "Requirement already satisfied: h5py>=3.10.0 in /usr/local/lib/python3.10/dist-packages (from tensorflow) (3.12.1)\n",
            "Requirement already satisfied: libclang>=13.0.0 in /usr/local/lib/python3.10/dist-packages (from tensorflow) (18.1.1)\n",
            "Requirement already satisfied: ml-dtypes<0.5.0,>=0.3.1 in /usr/local/lib/python3.10/dist-packages (from tensorflow) (0.4.1)\n",
            "Requirement already satisfied: opt-einsum>=2.3.2 in /usr/local/lib/python3.10/dist-packages (from tensorflow) (3.4.0)\n",
            "Requirement already satisfied: packaging in /usr/local/lib/python3.10/dist-packages (from tensorflow) (24.2)\n",
            "Requirement already satisfied: protobuf!=4.21.0,!=4.21.1,!=4.21.2,!=4.21.3,!=4.21.4,!=4.21.5,<5.0.0dev,>=3.20.3 in /usr/local/lib/python3.10/dist-packages (from tensorflow) (4.25.5)\n",
            "Requirement already satisfied: requests<3,>=2.21.0 in /usr/local/lib/python3.10/dist-packages (from tensorflow) (2.32.3)\n",
            "Requirement already satisfied: setuptools in /usr/local/lib/python3.10/dist-packages (from tensorflow) (75.1.0)\n",
            "Requirement already satisfied: six>=1.12.0 in /usr/local/lib/python3.10/dist-packages (from tensorflow) (1.16.0)\n",
            "Requirement already satisfied: termcolor>=1.1.0 in /usr/local/lib/python3.10/dist-packages (from tensorflow) (2.5.0)\n",
            "Requirement already satisfied: typing-extensions>=3.6.6 in /usr/local/lib/python3.10/dist-packages (from tensorflow) (4.12.2)\n",
            "Requirement already satisfied: wrapt>=1.11.0 in /usr/local/lib/python3.10/dist-packages (from tensorflow) (1.17.0)\n",
            "Requirement already satisfied: grpcio<2.0,>=1.24.3 in /usr/local/lib/python3.10/dist-packages (from tensorflow) (1.68.1)\n",
            "Requirement already satisfied: tensorboard<2.18,>=2.17 in /usr/local/lib/python3.10/dist-packages (from tensorflow) (2.17.1)\n",
            "Requirement already satisfied: tensorflow-io-gcs-filesystem>=0.23.1 in /usr/local/lib/python3.10/dist-packages (from tensorflow) (0.37.1)\n",
            "Requirement already satisfied: numpy<2.0.0,>=1.23.5 in /usr/local/lib/python3.10/dist-packages (from tensorflow) (1.26.4)\n",
            "Requirement already satisfied: rich in /usr/local/lib/python3.10/dist-packages (from keras) (13.9.4)\n",
            "Requirement already satisfied: namex in /usr/local/lib/python3.10/dist-packages (from keras) (0.0.8)\n",
            "Requirement already satisfied: optree in /usr/local/lib/python3.10/dist-packages (from keras) (0.13.1)\n",
            "Requirement already satisfied: wheel<1.0,>=0.23.0 in /usr/local/lib/python3.10/dist-packages (from astunparse>=1.6.0->tensorflow) (0.45.1)\n",
            "Requirement already satisfied: charset-normalizer<4,>=2 in /usr/local/lib/python3.10/dist-packages (from requests<3,>=2.21.0->tensorflow) (3.4.0)\n",
            "Requirement already satisfied: idna<4,>=2.5 in /usr/local/lib/python3.10/dist-packages (from requests<3,>=2.21.0->tensorflow) (3.10)\n",
            "Requirement already satisfied: urllib3<3,>=1.21.1 in /usr/local/lib/python3.10/dist-packages (from requests<3,>=2.21.0->tensorflow) (2.2.3)\n",
            "Requirement already satisfied: certifi>=2017.4.17 in /usr/local/lib/python3.10/dist-packages (from requests<3,>=2.21.0->tensorflow) (2024.8.30)\n",
            "Requirement already satisfied: markdown>=2.6.8 in /usr/local/lib/python3.10/dist-packages (from tensorboard<2.18,>=2.17->tensorflow) (3.7)\n",
            "Requirement already satisfied: tensorboard-data-server<0.8.0,>=0.7.0 in /usr/local/lib/python3.10/dist-packages (from tensorboard<2.18,>=2.17->tensorflow) (0.7.2)\n",
            "Requirement already satisfied: werkzeug>=1.0.1 in /usr/local/lib/python3.10/dist-packages (from tensorboard<2.18,>=2.17->tensorflow) (3.1.3)\n",
            "Requirement already satisfied: markdown-it-py>=2.2.0 in /usr/local/lib/python3.10/dist-packages (from rich->keras) (3.0.0)\n",
            "Requirement already satisfied: pygments<3.0.0,>=2.13.0 in /usr/local/lib/python3.10/dist-packages (from rich->keras) (2.18.0)\n",
            "Requirement already satisfied: mdurl~=0.1 in /usr/local/lib/python3.10/dist-packages (from markdown-it-py>=2.2.0->rich->keras) (0.1.2)\n",
            "Requirement already satisfied: MarkupSafe>=2.1.1 in /usr/local/lib/python3.10/dist-packages (from werkzeug>=1.0.1->tensorboard<2.18,>=2.17->tensorflow) (3.0.2)\n"
          ]
        }
      ]
    },
    {
      "cell_type": "code",
      "source": [
        "import numpy as np\n",
        "from keras.models import Sequential\n",
        "from keras.layers import Dense"
      ],
      "metadata": {
        "id": "7kIL6DUANCXF"
      },
      "execution_count": null,
      "outputs": []
    },
    {
      "cell_type": "code",
      "source": [
        "# Initialize the Model: Create a sequential model where layers can be added one after another.\n",
        "classifier = Sequential()"
      ],
      "metadata": {
        "id": "0kpzA29MNtQs"
      },
      "execution_count": null,
      "outputs": []
    },
    {
      "cell_type": "markdown",
      "source": [
        "## How many Neurons and how many Layers?\n",
        "- start simple with one hidden layer and a moderate number of neurons based on input/output sizes, then progressively experiment with complexity while monitoring performance on validation sets.\n",
        "\n",
        "- Adjust based on the specific characteristics of your dataset and problem requirements."
      ],
      "metadata": {
        "id": "BfUnBqbJOo6N"
      }
    },
    {
      "cell_type": "markdown",
      "source": [
        "**Input Layer**: The number of neurons should equal the number of input features in your dataset.\n",
        "\n",
        "**Hidden Layers**:\n",
        "A common starting point is to use a number of neurons between the size of the input layer and output layer.\n",
        "\n",
        "For example, if you have 7 inputs and 1 output, you might start with one or two hidden layers with around 5-10 neurons each.\n",
        "\n",
        "  **How Many Neurons per Hidden Layer?**\n",
        "\n",
        "  - There’s no fixed rule, but common guidelines include:\n",
        "  - Use a number of neurons roughly between the size of the input layer and the output layer. For example, if the input layer has 12 neurons and the output has 1, you might start with 6 neurons per hidden layer.\n",
        "    \n",
        "  - Experiment with values like 2ⁿ (e.g., 8, 16, 32, etc.).\n",
        "    \n",
        "  - Start small and increase the number of neurons if the model underfits.\n",
        "\n",
        "**Output Layer**: The number of neurons corresponds to your output type:\n",
        "- For binary classification, use 1 neuron with a sigmoid activation function.\n",
        "- For multi-class classification, use as many neurons as there are classes with softmax activation."
      ],
      "metadata": {
        "id": "isJsX4lMPDTw"
      }
    },
    {
      "cell_type": "code",
      "source": [
        "# Adding the input layer and the first hidden layer\n",
        "classifier.add(Dense(units = 6, kernel_initializer = 'uniform', activation = 'relu', input_dim = 12))\n",
        "##  first hidden layer with units=6, meaning this layer will contain 6 neurons.\n",
        "#   These neurons will take the 12 input features and learn to transform them through their activation functions (in this case, ReLU).\n",
        "\n",
        "# Adding the second hidden layer\n",
        "classifier.add(Dense(units = 6, kernel_initializer = 'uniform', activation = 'relu'))\n",
        "\n",
        "# Adding the output layer of 1 neuron\n",
        "classifier.add(Dense(units = 1, kernel_initializer = 'uniform', activation = 'sigmoid'))"
      ],
      "metadata": {
        "colab": {
          "base_uri": "https://localhost:8080/"
        },
        "id": "5ki0gs8GPQkQ",
        "outputId": "640819eb-dfa0-4f36-bac4-096e1762cae8"
      },
      "execution_count": null,
      "outputs": [
        {
          "output_type": "stream",
          "name": "stderr",
          "text": [
            "/usr/local/lib/python3.10/dist-packages/keras/src/layers/core/dense.py:87: UserWarning: Do not pass an `input_shape`/`input_dim` argument to a layer. When using Sequential models, prefer using an `Input(shape)` object as the first layer in the model instead.\n",
            "  super().__init__(activity_regularizer=activity_regularizer, **kwargs)\n"
          ]
        }
      ]
    },
    {
      "cell_type": "markdown",
      "source": [
        "In summary, while you have **12 input features** specified by `input_dim=12`, you do **not** need to have 12 neurons in the first hidden layer.\n",
        "\n",
        "Instead, you define a smaller number of neurons (like 6) to allow for effective learning and transformation of those features.\n",
        "\n",
        "This design choice helps manage complexity and encourages the model to learn meaningful patterns from the data."
      ],
      "metadata": {
        "id": "p4NTZipnYW9_"
      }
    },
    {
      "cell_type": "markdown",
      "source": [
        "## Compile the model:\n",
        "Before you can train your model, you need to compile it. This step involves specifying the optimizer, loss function, and metrics you want to track during training.\n",
        "\n",
        "1. **Loss Function**: Measures how far the predictions are from the true labels. Common choices:\n",
        "  - binary_crossentropy: For binary classification (because of the sigmoid activation in the output layer).\n",
        "  - categorical_crossentropy: For multi-class classification.\n",
        "  - mean_squared_error: For regression problems.\n",
        "\n",
        "2. **Optimizer**: Determines how the model updates weights (e.g., using gradient descent). Common choices:\n",
        "  - **adam** (adaptive learning rate optimizer): A popular default choice.\n",
        "  - **sgd** (stochastic gradient descent).\n",
        "\n",
        "3. **Metrics**: Used to evaluate the model's performance.\n",
        "  - For classification: Use **accuracy**."
      ],
      "metadata": {
        "id": "8eQa6PeJQx9y"
      }
    },
    {
      "cell_type": "code",
      "source": [
        "classifier.compile(optimizer='adam', loss='binary_crossentropy', metrics=['accuracy'])"
      ],
      "metadata": {
        "id": "0mSPAsE7SGj3"
      },
      "execution_count": null,
      "outputs": []
    },
    {
      "cell_type": "markdown",
      "source": [
        "##Train the model"
      ],
      "metadata": {
        "id": "lqelAvTPTovn"
      }
    },
    {
      "cell_type": "code",
      "source": [
        "# Fitting the ANN to the Training set\n",
        "classifier.fit(X_train, y_train, batch_size = 10, epochs = 100,verbose = 0)\n",
        "\n",
        "# Instead of processing the entire dataset at once (which can be computationally expensive), the data is divided into smaller batches.\n",
        "# In this case, the model processes 10 samples at a time before updating the weights.\n",
        "\n",
        "#Epcohs: indicates how many times the learning algorithm will work through the entire training dataset.\n",
        "# Here, the model will go through the entire dataset 100 times.\n",
        "# More epochs can lead to better learning but also increases the risk of overfitting if not monitored properly\n",
        "\n",
        "#verbose : Controls the amount of output printed during training.\n",
        "# verbose=0: No output is printed during training.\n",
        "# verbose=1: A progress bar is displayed (default).\n",
        "# verbose=2: Displays one line per epoch."
      ],
      "metadata": {
        "colab": {
          "base_uri": "https://localhost:8080/"
        },
        "id": "zc6fEXrPTq7e",
        "outputId": "1ee396d1-1dfd-4223-8996-efc2f569d92b"
      },
      "execution_count": null,
      "outputs": [
        {
          "output_type": "execute_result",
          "data": {
            "text/plain": [
              "<keras.src.callbacks.history.History at 0x7833004d64a0>"
            ]
          },
          "metadata": {},
          "execution_count": 51
        }
      ]
    },
    {
      "cell_type": "code",
      "source": [
        "# Predicting the Test set results\n",
        "y_pred = classifier.predict(X_test)\n",
        "y_pred = (y_pred > 0.5)"
      ],
      "metadata": {
        "colab": {
          "base_uri": "https://localhost:8080/"
        },
        "id": "565theLbb7Wa",
        "outputId": "cb95295c-deb3-4be6-82a1-bcc96dc619a7"
      },
      "execution_count": null,
      "outputs": [
        {
          "output_type": "stream",
          "name": "stdout",
          "text": [
            "\u001b[1m104/104\u001b[0m \u001b[32m━━━━━━━━━━━━━━━━━━━━\u001b[0m\u001b[37m\u001b[0m \u001b[1m0s\u001b[0m 2ms/step\n"
          ]
        }
      ]
    },
    {
      "cell_type": "code",
      "source": [
        "score, acc = classifier.evaluate(X_train, y_train,batch_size=10)\n",
        "print('Train score:', score)\n",
        "print('Train accuracy:', acc)"
      ],
      "metadata": {
        "colab": {
          "base_uri": "https://localhost:8080/"
        },
        "id": "HtI0xz1_VGl4",
        "outputId": "53416f10-676a-4443-bed6-8020e9e6a83b"
      },
      "execution_count": null,
      "outputs": [
        {
          "output_type": "stream",
          "name": "stdout",
          "text": [
            "\u001b[1m670/670\u001b[0m \u001b[32m━━━━━━━━━━━━━━━━━━━━\u001b[0m\u001b[37m\u001b[0m \u001b[1m1s\u001b[0m 1ms/step - accuracy: 0.8381 - loss: 0.3911\n",
            "Train score: 0.391184002161026\n",
            "Train accuracy: 0.839402973651886\n"
          ]
        }
      ]
    },
    {
      "cell_type": "markdown",
      "source": [
        "- The loss value (`0.391184002161026`) shown is the final loss after 100 epochs of training.\n",
        "- The loss value reported (0.391 in this case) is the average loss over all batches in the dataset.\n",
        "- How It Works:\n",
        "  - The dataset is divided into batches of size 10.\n",
        "  - For each batch:\n",
        "    * The model calculates the predictions, computes the loss for the batch, and averages it.\n",
        "    * At the end of the epoch or evaluation, the loss values for all batches are averaged again to give the final loss."
      ],
      "metadata": {
        "id": "L2RYH450Y7Fh"
      }
    },
    {
      "cell_type": "markdown",
      "source": [
        "## Key Difference between Batch size parameter:\n",
        "\n",
        "![image.png](data:image/png;base64,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)"
      ],
      "metadata": {
        "id": "4liXNHzvaWct"
      }
    },
    {
      "cell_type": "markdown",
      "source": [
        "##Why Use Batch Sizes in Both?\n",
        "`In fit():`\n",
        "\n",
        "  - A small batch size results in more frequent weight updates, which can lead to faster convergence but noisier learning.\n",
        "  - A large batch size provides smoother gradients but requires more memory and fewer weight updates.\n",
        "\n",
        "`In evaluate()`:\n",
        "  - Smaller batch sizes use less memory during evaluation, which can be useful for large datasets.\n",
        "  - Larger batch sizes make evaluation faster because fewer iterations are needed."
      ],
      "metadata": {
        "id": "zLkIxMPNaeQU"
      }
    },
    {
      "cell_type": "markdown",
      "source": [
        "##Evaluate your trained Model:"
      ],
      "metadata": {
        "id": "ipX-O6j4a76k"
      }
    },
    {
      "cell_type": "code",
      "source": [
        "score, acc = classifier.evaluate(X_test, y_test,batch_size=10)\n",
        "print('Test score:', score)\n",
        "print('Test accuracy:', acc)"
      ],
      "metadata": {
        "colab": {
          "base_uri": "https://localhost:8080/"
        },
        "id": "cikVBo33a-mV",
        "outputId": "f4c3716c-22d2-4199-eab3-9c9ef8a51623"
      },
      "execution_count": null,
      "outputs": [
        {
          "output_type": "stream",
          "name": "stdout",
          "text": [
            "\u001b[1m330/330\u001b[0m \u001b[32m━━━━━━━━━━━━━━━━━━━━\u001b[0m\u001b[37m\u001b[0m \u001b[1m1s\u001b[0m 3ms/step - accuracy: 0.8427 - loss: 0.3848\n",
            "Test score: 0.39759600162506104\n",
            "Test accuracy: 0.8421211838722229\n"
          ]
        }
      ]
    },
    {
      "cell_type": "markdown",
      "source": [
        "###What happens here internally:\n",
        "\n",
        "* The test dataset is divided into batches of size 10.\n",
        "* If there are 1,000 test samples, there will be (1000/10 =) 100 batches.\n",
        "* For each batch:\n",
        "  - The model predicts the outputs (y_pred) using the current weights.\n",
        "  - It computes the loss for that batch using the loss function (e.g., binary cross-entropy).\n",
        "  - The accuracy for that batch is also calculated.\n",
        "* Once all batches are processed:\n",
        "  - The loss (score) is averaged across all batches.\n",
        "  - The accuracy (acc) is averaged across all batches."
      ],
      "metadata": {
        "id": "LRsdLkvbbNOM"
      }
    },
    {
      "cell_type": "code",
      "source": [
        "# Making the Confusion Matrix\n",
        "from sklearn.metrics import confusion_matrix\n",
        "cm = confusion_matrix(y_test, y_pred)\n",
        "cm"
      ],
      "metadata": {
        "colab": {
          "base_uri": "https://localhost:8080/"
        },
        "id": "E4vANQk4bxic",
        "outputId": "47b5c4af-66ab-4232-ddd1-5e32350f0c11"
      },
      "execution_count": null,
      "outputs": [
        {
          "output_type": "execute_result",
          "data": {
            "text/plain": [
              "array([[2520,   97],\n",
              "       [ 424,  259]])"
            ]
          },
          "metadata": {},
          "execution_count": 58
        }
      ]
    },
    {
      "cell_type": "markdown",
      "source": [
        "#Evaluation Metric"
      ],
      "metadata": {
        "id": "5oesV25PcNfD"
      }
    },
    {
      "cell_type": "code",
      "source": [
        "p = sns.heatmap(pd.DataFrame(cm), annot=True, cmap=\"YlGnBu\" ,fmt='g')\n",
        "plt.title('Confusion matrix', y=1.1)\n",
        "plt.ylabel('Actual label')\n",
        "plt.xlabel('Predicted label')"
      ],
      "metadata": {
        "colab": {
          "base_uri": "https://localhost:8080/",
          "height": 526
        },
        "id": "9dXWjaJjcPnj",
        "outputId": "73877eac-a014-47d2-f6a8-153fffc9862e"
      },
      "execution_count": null,
      "outputs": [
        {
          "output_type": "execute_result",
          "data": {
            "text/plain": [
              "Text(0.5, 23.52222222222222, 'Predicted label')"
            ]
          },
          "metadata": {},
          "execution_count": 59
        },
        {
          "output_type": "display_data",
          "data": {
            "text/plain": [
              "<Figure size 640x480 with 2 Axes>"
            ],
            "image/png": "[encoded data removed]"
          },
          "metadata": {}
        }
      ]
    },
    {
      "cell_type": "code",
      "source": [
        "#import classification_report\n",
        "from sklearn.metrics import classification_report\n",
        "print(classification_report(y_test,y_pred))"
      ],
      "metadata": {
        "colab": {
          "base_uri": "https://localhost:8080/"
        },
        "id": "x53HLn2ecUiP",
        "outputId": "f86de33d-7629-4e69-c858-2f35aae9fb9a"
      },
      "execution_count": null,
      "outputs": [
        {
          "output_type": "stream",
          "name": "stdout",
          "text": [
            "              precision    recall  f1-score   support\n",
            "\n",
            "           0       0.86      0.96      0.91      2617\n",
            "           1       0.73      0.38      0.50       683\n",
            "\n",
            "    accuracy                           0.84      3300\n",
            "   macro avg       0.79      0.67      0.70      3300\n",
            "weighted avg       0.83      0.84      0.82      3300\n",
            "\n"
          ]
        }
      ]
    },
    {
      "cell_type": "code",
      "source": [
        "from sklearn.metrics import roc_curve\n",
        "import matplotlib.pyplot as plt\n",
        "\n",
        "# Use predict() to get probabilities\n",
        "y_pred_proba = classifier.predict(X_test)\n",
        "\n",
        "# Compute the ROC curve\n",
        "fpr, tpr, thresholds = roc_curve(y_test, y_pred_proba)\n",
        "\n",
        "# Plot the ROC curve\n",
        "plt.plot([0, 1], [0, 1], 'k--')  # Dashed diagonal line for reference\n",
        "plt.plot(fpr, tpr, label='ANN')  # Actual ROC curve\n",
        "plt.xlabel('False Positive Rate')\n",
        "plt.ylabel('True Positive Rate')\n",
        "plt.title('ROC Curve')\n",
        "plt.legend()\n",
        "plt.show()\n"
      ],
      "metadata": {
        "colab": {
          "base_uri": "https://localhost:8080/",
          "height": 489
        },
        "id": "3evANnppeXh1",
        "outputId": "c728083a-c173-4625-bc1a-ed5275900352"
      },
      "execution_count": null,
      "outputs": [
        {
          "output_type": "stream",
          "name": "stdout",
          "text": [
            "\u001b[1m104/104\u001b[0m \u001b[32m━━━━━━━━━━━━━━━━━━━━\u001b[0m\u001b[37m\u001b[0m \u001b[1m0s\u001b[0m 2ms/step\n"
          ]
        },
        {
          "output_type": "display_data",
          "data": {
            "text/plain": [
              "<Figure size 640x480 with 1 Axes>"
            ],
            "image/png": "[encoded data removed]"
          },
          "metadata": {}
        }
      ]
    },
    {
      "cell_type": "markdown",
      "source": [
        "ROC curve is well above the diagonal baseline, which indicates that your model is performing better than random guessing.\n",
        "\n",
        "\n",
        "- The curve is not close to the top-left corner (ideal classifier), but it shows reasonably good predictive power.\n",
        "- The closer the curve is to the top-left corner, the better the model's ability to discriminate between positive and negative classes."
      ],
      "metadata": {
        "id": "GkvSDCuVfMbb"
      }
    },
    {
      "cell_type": "code",
      "source": [
        "#Area under ROC curve\n",
        "from sklearn.metrics import roc_auc_score\n",
        "roc_auc_score(y_test,y_pred_proba)"
      ],
      "metadata": {
        "colab": {
          "base_uri": "https://localhost:8080/"
        },
        "id": "okTd0VXDfUaI",
        "outputId": "bfb0b8d8-8a87-4115-e975-f3f65154c4eb"
      },
      "execution_count": null,
      "outputs": [
        {
          "output_type": "execute_result",
          "data": {
            "text/plain": [
              "0.8019803503503111"
            ]
          },
          "metadata": {},
          "execution_count": 63
        }
      ]
    },
    {
      "cell_type": "markdown",
      "source": [
        "#Model Summary"
      ],
      "metadata": {
        "id": "uzT60PjegW9j"
      }
    },
    {
      "cell_type": "code",
      "source": [
        "# Summarize the model\n",
        "classifier.summary()"
      ],
      "metadata": {
        "colab": {
          "base_uri": "https://localhost:8080/",
          "height": 241
        },
        "id": "VEZqdSZ_gYZt",
        "outputId": "1d1f01f9-c824-482b-a3d7-5272a4742771"
      },
      "execution_count": null,
      "outputs": [
        {
          "output_type": "display_data",
          "data": {
            "text/plain": [
              "\u001b[1mModel: \"sequential_1\"\u001b[0m\n"
            ],
            "text/html": [
              "<pre style=\"white-space:pre;overflow-x:auto;line-height:normal;font-family:Menlo,'DejaVu Sans Mono',consolas,'Courier New',monospace\"><span style=\"font-weight: bold\">Model: \"sequential_1\"</span>\n",
              "</pre>\n"
            ]
          },
          "metadata": {}
        },
        {
          "output_type": "display_data",
          "data": {
            "text/plain": [
              "┏━━━━━━━━━━━━━━━━━━━━━━━━━━━━━━━━━━━━━━┳━━━━━━━━━━━━━━━━━━━━━━━━━━━━━┳━━━━━━━━━━━━━━━━━┓\n",
              "┃\u001b[1m \u001b[0m\u001b[1mLayer (type)                        \u001b[0m\u001b[1m \u001b[0m┃\u001b[1m \u001b[0m\u001b[1mOutput Shape               \u001b[0m\u001b[1m \u001b[0m┃\u001b[1m \u001b[0m\u001b[1m        Param #\u001b[0m\u001b[1m \u001b[0m┃\n",
              "┡━━━━━━━━━━━━━━━━━━━━━━━━━━━━━━━━━━━━━━╇━━━━━━━━━━━━━━━━━━━━━━━━━━━━━╇━━━━━━━━━━━━━━━━━┩\n",
              "│ dense_6 (\u001b[38;5;33mDense\u001b[0m)                      │ (\u001b[38;5;45mNone\u001b[0m, \u001b[38;5;34m6\u001b[0m)                   │              \u001b[38;5;34m78\u001b[0m │\n",
              "├──────────────────────────────────────┼─────────────────────────────┼─────────────────┤\n",
              "│ dense_7 (\u001b[38;5;33mDense\u001b[0m)                      │ (\u001b[38;5;45mNone\u001b[0m, \u001b[38;5;34m6\u001b[0m)                   │              \u001b[38;5;34m42\u001b[0m │\n",
              "├──────────────────────────────────────┼─────────────────────────────┼─────────────────┤\n",
              "│ dense_8 (\u001b[38;5;33mDense\u001b[0m)                      │ (\u001b[38;5;45mNone\u001b[0m, \u001b[38;5;34m1\u001b[0m)                   │               \u001b[38;5;34m7\u001b[0m │\n",
              "└──────────────────────────────────────┴─────────────────────────────┴─────────────────┘\n"
            ],
            "text/html": [
              "<pre style=\"white-space:pre;overflow-x:auto;line-height:normal;font-family:Menlo,'DejaVu Sans Mono',consolas,'Courier New',monospace\">┏━━━━━━━━━━━━━━━━━━━━━━━━━━━━━━━━━━━━━━┳━━━━━━━━━━━━━━━━━━━━━━━━━━━━━┳━━━━━━━━━━━━━━━━━┓\n",
              "┃<span style=\"font-weight: bold\"> Layer (type)                         </span>┃<span style=\"font-weight: bold\"> Output Shape                </span>┃<span style=\"font-weight: bold\">         Param # </span>┃\n",
              "┡━━━━━━━━━━━━━━━━━━━━━━━━━━━━━━━━━━━━━━╇━━━━━━━━━━━━━━━━━━━━━━━━━━━━━╇━━━━━━━━━━━━━━━━━┩\n",
              "│ dense_6 (<span style=\"color: #0087ff; text-decoration-color: #0087ff\">Dense</span>)                      │ (<span style=\"color: #00d7ff; text-decoration-color: #00d7ff\">None</span>, <span style=\"color: #00af00; text-decoration-color: #00af00\">6</span>)                   │              <span style=\"color: #00af00; text-decoration-color: #00af00\">78</span> │\n",
              "├──────────────────────────────────────┼─────────────────────────────┼─────────────────┤\n",
              "│ dense_7 (<span style=\"color: #0087ff; text-decoration-color: #0087ff\">Dense</span>)                      │ (<span style=\"color: #00d7ff; text-decoration-color: #00d7ff\">None</span>, <span style=\"color: #00af00; text-decoration-color: #00af00\">6</span>)                   │              <span style=\"color: #00af00; text-decoration-color: #00af00\">42</span> │\n",
              "├──────────────────────────────────────┼─────────────────────────────┼─────────────────┤\n",
              "│ dense_8 (<span style=\"color: #0087ff; text-decoration-color: #0087ff\">Dense</span>)                      │ (<span style=\"color: #00d7ff; text-decoration-color: #00d7ff\">None</span>, <span style=\"color: #00af00; text-decoration-color: #00af00\">1</span>)                   │               <span style=\"color: #00af00; text-decoration-color: #00af00\">7</span> │\n",
              "└──────────────────────────────────────┴─────────────────────────────┴─────────────────┘\n",
              "</pre>\n"
            ]
          },
          "metadata": {}
        },
        {
          "output_type": "display_data",
          "data": {
            "text/plain": [
              "\u001b[1m Total params: \u001b[0m\u001b[38;5;34m383\u001b[0m (1.50 KB)\n"
            ],
            "text/html": [
              "<pre style=\"white-space:pre;overflow-x:auto;line-height:normal;font-family:Menlo,'DejaVu Sans Mono',consolas,'Courier New',monospace\"><span style=\"font-weight: bold\"> Total params: </span><span style=\"color: #00af00; text-decoration-color: #00af00\">383</span> (1.50 KB)\n",
              "</pre>\n"
            ]
          },
          "metadata": {}
        },
        {
          "output_type": "display_data",
          "data": {
            "text/plain": [
              "\u001b[1m Trainable params: \u001b[0m\u001b[38;5;34m127\u001b[0m (508.00 B)\n"
            ],
            "text/html": [
              "<pre style=\"white-space:pre;overflow-x:auto;line-height:normal;font-family:Menlo,'DejaVu Sans Mono',consolas,'Courier New',monospace\"><span style=\"font-weight: bold\"> Trainable params: </span><span style=\"color: #00af00; text-decoration-color: #00af00\">127</span> (508.00 B)\n",
              "</pre>\n"
            ]
          },
          "metadata": {}
        },
        {
          "output_type": "display_data",
          "data": {
            "text/plain": [
              "\u001b[1m Non-trainable params: \u001b[0m\u001b[38;5;34m0\u001b[0m (0.00 B)\n"
            ],
            "text/html": [
              "<pre style=\"white-space:pre;overflow-x:auto;line-height:normal;font-family:Menlo,'DejaVu Sans Mono',consolas,'Courier New',monospace\"><span style=\"font-weight: bold\"> Non-trainable params: </span><span style=\"color: #00af00; text-decoration-color: #00af00\">0</span> (0.00 B)\n",
              "</pre>\n"
            ]
          },
          "metadata": {}
        },
        {
          "output_type": "display_data",
          "data": {
            "text/plain": [
              "\u001b[1m Optimizer params: \u001b[0m\u001b[38;5;34m256\u001b[0m (1.00 KB)\n"
            ],
            "text/html": [
              "<pre style=\"white-space:pre;overflow-x:auto;line-height:normal;font-family:Menlo,'DejaVu Sans Mono',consolas,'Courier New',monospace\"><span style=\"font-weight: bold\"> Optimizer params: </span><span style=\"color: #00af00; text-decoration-color: #00af00\">256</span> (1.00 KB)\n",
              "</pre>\n"
            ]
          },
          "metadata": {}
        }
      ]
    },
    {
      "cell_type": "markdown",
      "source": [
        "- Evaluate the performance of your ANN on multiple training instances using k-fold cross-validation.\n",
        "- Identify how consistent the model's performance is across different subsets of the training data.\n",
        "- Compute statistics like the mean accuracy and variance to understand the model's stability."
      ],
      "metadata": {
        "id": "zc8jwaI-f6gh"
      }
    },
    {
      "cell_type": "code",
      "source": [],
      "metadata": {
        "id": "cO-d6Zsxf9we"
      },
      "execution_count": null,
      "outputs": []
    },
    {
      "cell_type": "markdown",
      "source": [
        "# K-Fold Validation"
      ],
      "metadata": {
        "id": "AnCiCHJZg41p"
      }
    },
    {
      "cell_type": "code",
      "source": [
        "!pip install scikeras\n"
      ],
      "metadata": {
        "colab": {
          "base_uri": "https://localhost:8080/"
        },
        "id": "hvlAYFyZqDeY",
        "outputId": "a6cc2ea9-6ce2-497a-f892-8f95f3e8efa4"
      },
      "execution_count": null,
      "outputs": [
        {
          "output_type": "stream",
          "name": "stdout",
          "text": [
            "Collecting scikeras\n",
            "  Downloading scikeras-0.13.0-py3-none-any.whl.metadata (3.1 kB)\n",
            "Requirement already satisfied: keras>=3.2.0 in /usr/local/lib/python3.10/dist-packages (from scikeras) (3.5.0)\n",
            "Requirement already satisfied: scikit-learn>=1.4.2 in /usr/local/lib/python3.10/dist-packages (from scikeras) (1.5.2)\n",
            "Requirement already satisfied: absl-py in /usr/local/lib/python3.10/dist-packages (from keras>=3.2.0->scikeras) (1.4.0)\n",
            "Requirement already satisfied: numpy in /usr/local/lib/python3.10/dist-packages (from keras>=3.2.0->scikeras) (1.26.4)\n",
            "Requirement already satisfied: rich in /usr/local/lib/python3.10/dist-packages (from keras>=3.2.0->scikeras) (13.9.4)\n",
            "Requirement already satisfied: namex in /usr/local/lib/python3.10/dist-packages (from keras>=3.2.0->scikeras) (0.0.8)\n",
            "Requirement already satisfied: h5py in /usr/local/lib/python3.10/dist-packages (from keras>=3.2.0->scikeras) (3.12.1)\n",
            "Requirement already satisfied: optree in /usr/local/lib/python3.10/dist-packages (from keras>=3.2.0->scikeras) (0.13.1)\n",
            "Requirement already satisfied: ml-dtypes in /usr/local/lib/python3.10/dist-packages (from keras>=3.2.0->scikeras) (0.4.1)\n",
            "Requirement already satisfied: packaging in /usr/local/lib/python3.10/dist-packages (from keras>=3.2.0->scikeras) (24.2)\n",
            "Requirement already satisfied: scipy>=1.6.0 in /usr/local/lib/python3.10/dist-packages (from scikit-learn>=1.4.2->scikeras) (1.13.1)\n",
            "Requirement already satisfied: joblib>=1.2.0 in /usr/local/lib/python3.10/dist-packages (from scikit-learn>=1.4.2->scikeras) (1.4.2)\n",
            "Requirement already satisfied: threadpoolctl>=3.1.0 in /usr/local/lib/python3.10/dist-packages (from scikit-learn>=1.4.2->scikeras) (3.5.0)\n",
            "Requirement already satisfied: typing-extensions>=4.5.0 in /usr/local/lib/python3.10/dist-packages (from optree->keras>=3.2.0->scikeras) (4.12.2)\n",
            "Requirement already satisfied: markdown-it-py>=2.2.0 in /usr/local/lib/python3.10/dist-packages (from rich->keras>=3.2.0->scikeras) (3.0.0)\n",
            "Requirement already satisfied: pygments<3.0.0,>=2.13.0 in /usr/local/lib/python3.10/dist-packages (from rich->keras>=3.2.0->scikeras) (2.18.0)\n",
            "Requirement already satisfied: mdurl~=0.1 in /usr/local/lib/python3.10/dist-packages (from markdown-it-py>=2.2.0->rich->keras>=3.2.0->scikeras) (0.1.2)\n",
            "Downloading scikeras-0.13.0-py3-none-any.whl (26 kB)\n",
            "Installing collected packages: scikeras\n",
            "Successfully installed scikeras-0.13.0\n"
          ]
        }
      ]
    },
    {
      "cell_type": "code",
      "source": [
        "# Part 4 - Evaluating, Improving and Tuning the ANN\n",
        "\n",
        "from scikeras.wrappers import KerasClassifier\n",
        "from sklearn.model_selection import cross_val_score\n",
        "from keras.models import Sequential\n",
        "from keras.layers import Dense\n",
        "\n",
        "def build_classifier():\n",
        "    classifier = Sequential()\n",
        "    classifier.add(Dense(units=6, kernel_initializer='uniform', activation='relu', input_dim=12))\n",
        "    classifier.add(Dense(units=6, kernel_initializer='uniform', activation='relu'))\n",
        "    classifier.add(Dense(units=1, kernel_initializer='uniform', activation='sigmoid'))\n",
        "    classifier.compile(optimizer='adam', loss='binary_crossentropy', metrics=['accuracy'])\n",
        "    return classifier\n",
        "\n",
        "# Wrapping the model\n",
        "classifier = KerasClassifier(model=build_classifier, batch_size=10, epochs=100, verbose=0)\n",
        "\n",
        "# Performing k-fold cross-validation\n",
        "accuracies = cross_val_score(estimator=classifier, X=X_train, y=y_train, cv=10)\n",
        "\n",
        "# Calculate mean and variance\n",
        "mean = accuracies.mean()\n",
        "variance = accuracies.std()\n",
        "\n",
        "print(\"Mean Accuracy:\", mean)\n",
        "print(\"Accuracy Variance:\", variance)\n",
        "\n"
      ],
      "metadata": {
        "colab": {
          "base_uri": "https://localhost:8080/"
        },
        "id": "NmC9m3Qhfw6U",
        "outputId": "aac920be-45a8-4502-b9ac-c4b7ea7b62c6"
      },
      "execution_count": null,
      "outputs": [
        {
          "output_type": "stream",
          "name": "stderr",
          "text": [
            "/usr/local/lib/python3.10/dist-packages/keras/src/layers/core/dense.py:87: UserWarning: Do not pass an `input_shape`/`input_dim` argument to a layer. When using Sequential models, prefer using an `Input(shape)` object as the first layer in the model instead.\n",
            "  super().__init__(activity_regularizer=activity_regularizer, **kwargs)\n",
            "/usr/local/lib/python3.10/dist-packages/keras/src/layers/core/dense.py:87: UserWarning: Do not pass an `input_shape`/`input_dim` argument to a layer. When using Sequential models, prefer using an `Input(shape)` object as the first layer in the model instead.\n",
            "  super().__init__(activity_regularizer=activity_regularizer, **kwargs)\n",
            "/usr/local/lib/python3.10/dist-packages/keras/src/layers/core/dense.py:87: UserWarning: Do not pass an `input_shape`/`input_dim` argument to a layer. When using Sequential models, prefer using an `Input(shape)` object as the first layer in the model instead.\n",
            "  super().__init__(activity_regularizer=activity_regularizer, **kwargs)\n",
            "/usr/local/lib/python3.10/dist-packages/keras/src/layers/core/dense.py:87: UserWarning: Do not pass an `input_shape`/`input_dim` argument to a layer. When using Sequential models, prefer using an `Input(shape)` object as the first layer in the model instead.\n",
            "  super().__init__(activity_regularizer=activity_regularizer, **kwargs)\n",
            "/usr/local/lib/python3.10/dist-packages/keras/src/layers/core/dense.py:87: UserWarning: Do not pass an `input_shape`/`input_dim` argument to a layer. When using Sequential models, prefer using an `Input(shape)` object as the first layer in the model instead.\n",
            "  super().__init__(activity_regularizer=activity_regularizer, **kwargs)\n",
            "/usr/local/lib/python3.10/dist-packages/keras/src/layers/core/dense.py:87: UserWarning: Do not pass an `input_shape`/`input_dim` argument to a layer. When using Sequential models, prefer using an `Input(shape)` object as the first layer in the model instead.\n",
            "  super().__init__(activity_regularizer=activity_regularizer, **kwargs)\n",
            "/usr/local/lib/python3.10/dist-packages/keras/src/layers/core/dense.py:87: UserWarning: Do not pass an `input_shape`/`input_dim` argument to a layer. When using Sequential models, prefer using an `Input(shape)` object as the first layer in the model instead.\n",
            "  super().__init__(activity_regularizer=activity_regularizer, **kwargs)\n",
            "/usr/local/lib/python3.10/dist-packages/keras/src/layers/core/dense.py:87: UserWarning: Do not pass an `input_shape`/`input_dim` argument to a layer. When using Sequential models, prefer using an `Input(shape)` object as the first layer in the model instead.\n",
            "  super().__init__(activity_regularizer=activity_regularizer, **kwargs)\n",
            "/usr/local/lib/python3.10/dist-packages/keras/src/layers/core/dense.py:87: UserWarning: Do not pass an `input_shape`/`input_dim` argument to a layer. When using Sequential models, prefer using an `Input(shape)` object as the first layer in the model instead.\n",
            "  super().__init__(activity_regularizer=activity_regularizer, **kwargs)\n",
            "/usr/local/lib/python3.10/dist-packages/keras/src/layers/core/dense.py:87: UserWarning: Do not pass an `input_shape`/`input_dim` argument to a layer. When using Sequential models, prefer using an `Input(shape)` object as the first layer in the model instead.\n",
            "  super().__init__(activity_regularizer=activity_regularizer, **kwargs)\n"
          ]
        },
        {
          "output_type": "stream",
          "name": "stdout",
          "text": [
            "Mean Accuracy: 0.8326865671641791\n",
            "Accuracy Variance: 0.010198519585585987\n"
          ]
        }
      ]
    },
    {
      "cell_type": "code",
      "source": [
        "p = sns.heatmap(pd.DataFrame(cm), annot=True, cmap=\"YlGnBu\" ,fmt='g')\n",
        "plt.title('Confusion matrix', y=1.1)\n",
        "plt.ylabel('Actual label')\n",
        "plt.xlabel('Predicted label')"
      ],
      "metadata": {
        "id": "7HyREDe_qUeW"
      },
      "execution_count": null,
      "outputs": []
    }
  ]
}