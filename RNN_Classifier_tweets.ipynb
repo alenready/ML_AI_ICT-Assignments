{
  "nbformat": 4,
  "nbformat_minor": 0,
  "metadata": {
    "colab": {
      "provenance": [],
      "gpuType": "T4",
      "authorship_tag": "ABX9TyOmlxKVKCbQ2ROO9r6MeaWB",
      "include_colab_link": true
    },
    "kernelspec": {
      "name": "python3",
      "display_name": "Python 3"
    },
    "language_info": {
      "name": "python"
    },
    "accelerator": "GPU"
  },
  "cells": [
    {
      "cell_type": "markdown",
      "metadata": {
        "id": "view-in-github",
        "colab_type": "text"
      },
      "source": [
        "<a href=\"https://colab.research.google.com/github/alenready/ML_AI_ICT-Assignments/blob/main/RNN_Classifier_tweets.ipynb\" target=\"_parent\"><img src=\"https://colab.research.google.com/assets/colab-badge.svg\" alt=\"Open In Colab\"/></a>"
      ]
    },
    {
      "cell_type": "markdown",
      "source": [
        "#**RNN** Classifier for Sentiment Analysis"
      ],
      "metadata": {
        "id": "5TryvclrcWP5"
      }
    },
    {
      "cell_type": "markdown",
      "source": [
        "## Step 1: Import Libraries"
      ],
      "metadata": {
        "id": "ez7KMOPFeEsJ"
      }
    },
    {
      "cell_type": "code",
      "source": [
        "\n",
        "# These libraries are essential for data handling, preprocessing, and building neural networks.\n",
        "import pandas as pd\n",
        "import numpy as np\n",
        "from sklearn.model_selection import train_test_split\n",
        "from sklearn.preprocessing import LabelEncoder\n",
        "from tensorflow.keras.preprocessing.text import Tokenizer\n",
        "from tensorflow.keras.preprocessing.sequence import pad_sequences\n",
        "from tensorflow.keras.models import Sequential\n",
        "from tensorflow.keras.layers import Embedding, SimpleRNN, Dense, Dropout\n"
      ],
      "metadata": {
        "id": "RaWPEysk59WK"
      },
      "execution_count": 2,
      "outputs": []
    },
    {
      "cell_type": "markdown",
      "source": [
        "## Step 2: Load the Dataset"
      ],
      "metadata": {
        "id": "zzyCj3rAd7AF"
      }
    },
    {
      "cell_type": "code",
      "source": [
        "# Load the dataset from the uploaded file, specifying the encoding.\n",
        "file_path = '/content/judge-1377884607_tweet_product_company.csv'\n",
        "data = pd.read_csv(file_path, encoding='latin-1')"
      ],
      "metadata": {
        "id": "GXiPnB8Y7II5"
      },
      "execution_count": 4,
      "outputs": []
    },
    {
      "cell_type": "code",
      "source": [
        "data"
      ],
      "metadata": {
        "colab": {
          "base_uri": "https://localhost:8080/",
          "height": 461
        },
        "id": "l21nql2J7NGL",
        "outputId": "46f71b50-2aef-40df-b035-7d413157cf10"
      },
      "execution_count": 5,
      "outputs": [
        {
          "output_type": "execute_result",
          "data": {
            "text/plain": [
              "                                             tweet_text  \\\n",
              "0     .@wesley83 I have a 3G iPhone. After 3 hrs twe...   \n",
              "1     @jessedee Know about @fludapp ? Awesome iPad/i...   \n",
              "2     @swonderlin Can not wait for #iPad 2 also. The...   \n",
              "3     @sxsw I hope this year's festival isn't as cra...   \n",
              "4     @sxtxstate great stuff on Fri #SXSW: Marissa M...   \n",
              "...                                                 ...   \n",
              "9088                      Ipad everywhere. #SXSW {link}   \n",
              "9089  Wave, buzz... RT @mention We interrupt your re...   \n",
              "9090  Google's Zeiger, a physician never reported po...   \n",
              "9091  Some Verizon iPhone customers complained their...   \n",
              "9092  Ï¡Ïàü_ÊÎÒ£Áââ_£â_ÛâRT @...   \n",
              "\n",
              "     emotion_in_tweet_is_directed_at  \\\n",
              "0                             iPhone   \n",
              "1                 iPad or iPhone App   \n",
              "2                               iPad   \n",
              "3                 iPad or iPhone App   \n",
              "4                             Google   \n",
              "...                              ...   \n",
              "9088                            iPad   \n",
              "9089                             NaN   \n",
              "9090                             NaN   \n",
              "9091                             NaN   \n",
              "9092                             NaN   \n",
              "\n",
              "     is_there_an_emotion_directed_at_a_brand_or_product  \n",
              "0                                      Negative emotion  \n",
              "1                                      Positive emotion  \n",
              "2                                      Positive emotion  \n",
              "3                                      Negative emotion  \n",
              "4                                      Positive emotion  \n",
              "...                                                 ...  \n",
              "9088                                   Positive emotion  \n",
              "9089                 No emotion toward brand or product  \n",
              "9090                 No emotion toward brand or product  \n",
              "9091                 No emotion toward brand or product  \n",
              "9092                 No emotion toward brand or product  \n",
              "\n",
              "[9093 rows x 3 columns]"
            ],
            "text/html": [
              "\n",
              "  <div id=\"df-ca448fe8-7f56-42ff-89ba-24ced5c8343d\" class=\"colab-df-container\">\n",
              "    <div>\n",
              "<style scoped>\n",
              "    .dataframe tbody tr th:only-of-type {\n",
              "        vertical-align: middle;\n",
              "    }\n",
              "\n",
              "    .dataframe tbody tr th {\n",
              "        vertical-align: top;\n",
              "    }\n",
              "\n",
              "    .dataframe thead th {\n",
              "        text-align: right;\n",
              "    }\n",
              "</style>\n",
              "<table border=\"1\" class=\"dataframe\">\n",
              "  <thead>\n",
              "    <tr style=\"text-align: right;\">\n",
              "      <th></th>\n",
              "      <th>tweet_text</th>\n",
              "      <th>emotion_in_tweet_is_directed_at</th>\n",
              "      <th>is_there_an_emotion_directed_at_a_brand_or_product</th>\n",
              "    </tr>\n",
              "  </thead>\n",
              "  <tbody>\n",
              "    <tr>\n",
              "      <th>0</th>\n",
              "      <td>.@wesley83 I have a 3G iPhone. After 3 hrs twe...</td>\n",
              "      <td>iPhone</td>\n",
              "      <td>Negative emotion</td>\n",
              "    </tr>\n",
              "    <tr>\n",
              "      <th>1</th>\n",
              "      <td>@jessedee Know about @fludapp ? Awesome iPad/i...</td>\n",
              "      <td>iPad or iPhone App</td>\n",
              "      <td>Positive emotion</td>\n",
              "    </tr>\n",
              "    <tr>\n",
              "      <th>2</th>\n",
              "      <td>@swonderlin Can not wait for #iPad 2 also. The...</td>\n",
              "      <td>iPad</td>\n",
              "      <td>Positive emotion</td>\n",
              "    </tr>\n",
              "    <tr>\n",
              "      <th>3</th>\n",
              "      <td>@sxsw I hope this year's festival isn't as cra...</td>\n",
              "      <td>iPad or iPhone App</td>\n",
              "      <td>Negative emotion</td>\n",
              "    </tr>\n",
              "    <tr>\n",
              "      <th>4</th>\n",
              "      <td>@sxtxstate great stuff on Fri #SXSW: Marissa M...</td>\n",
              "      <td>Google</td>\n",
              "      <td>Positive emotion</td>\n",
              "    </tr>\n",
              "    <tr>\n",
              "      <th>...</th>\n",
              "      <td>...</td>\n",
              "      <td>...</td>\n",
              "      <td>...</td>\n",
              "    </tr>\n",
              "    <tr>\n",
              "      <th>9088</th>\n",
              "      <td>Ipad everywhere. #SXSW {link}</td>\n",
              "      <td>iPad</td>\n",
              "      <td>Positive emotion</td>\n",
              "    </tr>\n",
              "    <tr>\n",
              "      <th>9089</th>\n",
              "      <td>Wave, buzz... RT @mention We interrupt your re...</td>\n",
              "      <td>NaN</td>\n",
              "      <td>No emotion toward brand or product</td>\n",
              "    </tr>\n",
              "    <tr>\n",
              "      <th>9090</th>\n",
              "      <td>Google's Zeiger, a physician never reported po...</td>\n",
              "      <td>NaN</td>\n",
              "      <td>No emotion toward brand or product</td>\n",
              "    </tr>\n",
              "    <tr>\n",
              "      <th>9091</th>\n",
              "      <td>Some Verizon iPhone customers complained their...</td>\n",
              "      <td>NaN</td>\n",
              "      <td>No emotion toward brand or product</td>\n",
              "    </tr>\n",
              "    <tr>\n",
              "      <th>9092</th>\n",
              "      <td>Ï¡Ïàü_ÊÎÒ£Áââ_£â_ÛâRT @...</td>\n",
              "      <td>NaN</td>\n",
              "      <td>No emotion toward brand or product</td>\n",
              "    </tr>\n",
              "  </tbody>\n",
              "</table>\n",
              "<p>9093 rows × 3 columns</p>\n",
              "</div>\n",
              "    <div class=\"colab-df-buttons\">\n",
              "\n",
              "  <div class=\"colab-df-container\">\n",
              "    <button class=\"colab-df-convert\" onclick=\"convertToInteractive('df-ca448fe8-7f56-42ff-89ba-24ced5c8343d')\"\n",
              "            title=\"Convert this dataframe to an interactive table.\"\n",
              "            style=\"display:none;\">\n",
              "\n",
              "  <svg xmlns=\"http://www.w3.org/2000/svg\" height=\"24px\" viewBox=\"0 -960 960 960\">\n",
              "    <path d=\"M120-120v-720h720v720H120Zm60-500h600v-160H180v160Zm220 220h160v-160H400v160Zm0 220h160v-160H400v160ZM180-400h160v-160H180v160Zm440 0h160v-160H620v160ZM180-180h160v-160H180v160Zm440 0h160v-160H620v160Z\"/>\n",
              "  </svg>\n",
              "    </button>\n",
              "\n",
              "  <style>\n",
              "    .colab-df-container {\n",
              "      display:flex;\n",
              "      gap: 12px;\n",
              "    }\n",
              "\n",
              "    .colab-df-convert {\n",
              "      background-color: #E8F0FE;\n",
              "      border: none;\n",
              "      border-radius: 50%;\n",
              "      cursor: pointer;\n",
              "      display: none;\n",
              "      fill: #1967D2;\n",
              "      height: 32px;\n",
              "      padding: 0 0 0 0;\n",
              "      width: 32px;\n",
              "    }\n",
              "\n",
              "    .colab-df-convert:hover {\n",
              "      background-color: #E2EBFA;\n",
              "      box-shadow: 0px 1px 2px rgba(60, 64, 67, 0.3), 0px 1px 3px 1px rgba(60, 64, 67, 0.15);\n",
              "      fill: #174EA6;\n",
              "    }\n",
              "\n",
              "    .colab-df-buttons div {\n",
              "      margin-bottom: 4px;\n",
              "    }\n",
              "\n",
              "    [theme=dark] .colab-df-convert {\n",
              "      background-color: #3B4455;\n",
              "      fill: #D2E3FC;\n",
              "    }\n",
              "\n",
              "    [theme=dark] .colab-df-convert:hover {\n",
              "      background-color: #434B5C;\n",
              "      box-shadow: 0px 1px 3px 1px rgba(0, 0, 0, 0.15);\n",
              "      filter: drop-shadow(0px 1px 2px rgba(0, 0, 0, 0.3));\n",
              "      fill: #FFFFFF;\n",
              "    }\n",
              "  </style>\n",
              "\n",
              "    <script>\n",
              "      const buttonEl =\n",
              "        document.querySelector('#df-ca448fe8-7f56-42ff-89ba-24ced5c8343d button.colab-df-convert');\n",
              "      buttonEl.style.display =\n",
              "        google.colab.kernel.accessAllowed ? 'block' : 'none';\n",
              "\n",
              "      async function convertToInteractive(key) {\n",
              "        const element = document.querySelector('#df-ca448fe8-7f56-42ff-89ba-24ced5c8343d');\n",
              "        const dataTable =\n",
              "          await google.colab.kernel.invokeFunction('convertToInteractive',\n",
              "                                                    [key], {});\n",
              "        if (!dataTable) return;\n",
              "\n",
              "        const docLinkHtml = 'Like what you see? Visit the ' +\n",
              "          '<a target=\"_blank\" href=https://colab.research.google.com/notebooks/data_table.ipynb>data table notebook</a>'\n",
              "          + ' to learn more about interactive tables.';\n",
              "        element.innerHTML = '';\n",
              "        dataTable['output_type'] = 'display_data';\n",
              "        await google.colab.output.renderOutput(dataTable, element);\n",
              "        const docLink = document.createElement('div');\n",
              "        docLink.innerHTML = docLinkHtml;\n",
              "        element.appendChild(docLink);\n",
              "      }\n",
              "    </script>\n",
              "  </div>\n",
              "\n",
              "\n",
              "<div id=\"df-e3519b74-b3b0-4842-89dd-5598c9dfba4a\">\n",
              "  <button class=\"colab-df-quickchart\" onclick=\"quickchart('df-e3519b74-b3b0-4842-89dd-5598c9dfba4a')\"\n",
              "            title=\"Suggest charts\"\n",
              "            style=\"display:none;\">\n",
              "\n",
              "<svg xmlns=\"http://www.w3.org/2000/svg\" height=\"24px\"viewBox=\"0 0 24 24\"\n",
              "     width=\"24px\">\n",
              "    <g>\n",
              "        <path d=\"M19 3H5c-1.1 0-2 .9-2 2v14c0 1.1.9 2 2 2h14c1.1 0 2-.9 2-2V5c0-1.1-.9-2-2-2zM9 17H7v-7h2v7zm4 0h-2V7h2v10zm4 0h-2v-4h2v4z\"/>\n",
              "    </g>\n",
              "</svg>\n",
              "  </button>\n",
              "\n",
              "<style>\n",
              "  .colab-df-quickchart {\n",
              "      --bg-color: #E8F0FE;\n",
              "      --fill-color: #1967D2;\n",
              "      --hover-bg-color: #E2EBFA;\n",
              "      --hover-fill-color: #174EA6;\n",
              "      --disabled-fill-color: #AAA;\n",
              "      --disabled-bg-color: #DDD;\n",
              "  }\n",
              "\n",
              "  [theme=dark] .colab-df-quickchart {\n",
              "      --bg-color: #3B4455;\n",
              "      --fill-color: #D2E3FC;\n",
              "      --hover-bg-color: #434B5C;\n",
              "      --hover-fill-color: #FFFFFF;\n",
              "      --disabled-bg-color: #3B4455;\n",
              "      --disabled-fill-color: #666;\n",
              "  }\n",
              "\n",
              "  .colab-df-quickchart {\n",
              "    background-color: var(--bg-color);\n",
              "    border: none;\n",
              "    border-radius: 50%;\n",
              "    cursor: pointer;\n",
              "    display: none;\n",
              "    fill: var(--fill-color);\n",
              "    height: 32px;\n",
              "    padding: 0;\n",
              "    width: 32px;\n",
              "  }\n",
              "\n",
              "  .colab-df-quickchart:hover {\n",
              "    background-color: var(--hover-bg-color);\n",
              "    box-shadow: 0 1px 2px rgba(60, 64, 67, 0.3), 0 1px 3px 1px rgba(60, 64, 67, 0.15);\n",
              "    fill: var(--button-hover-fill-color);\n",
              "  }\n",
              "\n",
              "  .colab-df-quickchart-complete:disabled,\n",
              "  .colab-df-quickchart-complete:disabled:hover {\n",
              "    background-color: var(--disabled-bg-color);\n",
              "    fill: var(--disabled-fill-color);\n",
              "    box-shadow: none;\n",
              "  }\n",
              "\n",
              "  .colab-df-spinner {\n",
              "    border: 2px solid var(--fill-color);\n",
              "    border-color: transparent;\n",
              "    border-bottom-color: var(--fill-color);\n",
              "    animation:\n",
              "      spin 1s steps(1) infinite;\n",
              "  }\n",
              "\n",
              "  @keyframes spin {\n",
              "    0% {\n",
              "      border-color: transparent;\n",
              "      border-bottom-color: var(--fill-color);\n",
              "      border-left-color: var(--fill-color);\n",
              "    }\n",
              "    20% {\n",
              "      border-color: transparent;\n",
              "      border-left-color: var(--fill-color);\n",
              "      border-top-color: var(--fill-color);\n",
              "    }\n",
              "    30% {\n",
              "      border-color: transparent;\n",
              "      border-left-color: var(--fill-color);\n",
              "      border-top-color: var(--fill-color);\n",
              "      border-right-color: var(--fill-color);\n",
              "    }\n",
              "    40% {\n",
              "      border-color: transparent;\n",
              "      border-right-color: var(--fill-color);\n",
              "      border-top-color: var(--fill-color);\n",
              "    }\n",
              "    60% {\n",
              "      border-color: transparent;\n",
              "      border-right-color: var(--fill-color);\n",
              "    }\n",
              "    80% {\n",
              "      border-color: transparent;\n",
              "      border-right-color: var(--fill-color);\n",
              "      border-bottom-color: var(--fill-color);\n",
              "    }\n",
              "    90% {\n",
              "      border-color: transparent;\n",
              "      border-bottom-color: var(--fill-color);\n",
              "    }\n",
              "  }\n",
              "</style>\n",
              "\n",
              "  <script>\n",
              "    async function quickchart(key) {\n",
              "      const quickchartButtonEl =\n",
              "        document.querySelector('#' + key + ' button');\n",
              "      quickchartButtonEl.disabled = true;  // To prevent multiple clicks.\n",
              "      quickchartButtonEl.classList.add('colab-df-spinner');\n",
              "      try {\n",
              "        const charts = await google.colab.kernel.invokeFunction(\n",
              "            'suggestCharts', [key], {});\n",
              "      } catch (error) {\n",
              "        console.error('Error during call to suggestCharts:', error);\n",
              "      }\n",
              "      quickchartButtonEl.classList.remove('colab-df-spinner');\n",
              "      quickchartButtonEl.classList.add('colab-df-quickchart-complete');\n",
              "    }\n",
              "    (() => {\n",
              "      let quickchartButtonEl =\n",
              "        document.querySelector('#df-e3519b74-b3b0-4842-89dd-5598c9dfba4a button');\n",
              "      quickchartButtonEl.style.display =\n",
              "        google.colab.kernel.accessAllowed ? 'block' : 'none';\n",
              "    })();\n",
              "  </script>\n",
              "</div>\n",
              "\n",
              "  <div id=\"id_b2d5d948-298f-4870-a3d2-fe422412ffb6\">\n",
              "    <style>\n",
              "      .colab-df-generate {\n",
              "        background-color: #E8F0FE;\n",
              "        border: none;\n",
              "        border-radius: 50%;\n",
              "        cursor: pointer;\n",
              "        display: none;\n",
              "        fill: #1967D2;\n",
              "        height: 32px;\n",
              "        padding: 0 0 0 0;\n",
              "        width: 32px;\n",
              "      }\n",
              "\n",
              "      .colab-df-generate:hover {\n",
              "        background-color: #E2EBFA;\n",
              "        box-shadow: 0px 1px 2px rgba(60, 64, 67, 0.3), 0px 1px 3px 1px rgba(60, 64, 67, 0.15);\n",
              "        fill: #174EA6;\n",
              "      }\n",
              "\n",
              "      [theme=dark] .colab-df-generate {\n",
              "        background-color: #3B4455;\n",
              "        fill: #D2E3FC;\n",
              "      }\n",
              "\n",
              "      [theme=dark] .colab-df-generate:hover {\n",
              "        background-color: #434B5C;\n",
              "        box-shadow: 0px 1px 3px 1px rgba(0, 0, 0, 0.15);\n",
              "        filter: drop-shadow(0px 1px 2px rgba(0, 0, 0, 0.3));\n",
              "        fill: #FFFFFF;\n",
              "      }\n",
              "    </style>\n",
              "    <button class=\"colab-df-generate\" onclick=\"generateWithVariable('data')\"\n",
              "            title=\"Generate code using this dataframe.\"\n",
              "            style=\"display:none;\">\n",
              "\n",
              "  <svg xmlns=\"http://www.w3.org/2000/svg\" height=\"24px\"viewBox=\"0 0 24 24\"\n",
              "       width=\"24px\">\n",
              "    <path d=\"M7,19H8.4L18.45,9,17,7.55,7,17.6ZM5,21V16.75L18.45,3.32a2,2,0,0,1,2.83,0l1.4,1.43a1.91,1.91,0,0,1,.58,1.4,1.91,1.91,0,0,1-.58,1.4L9.25,21ZM18.45,9,17,7.55Zm-12,3A5.31,5.31,0,0,0,4.9,8.1,5.31,5.31,0,0,0,1,6.5,5.31,5.31,0,0,0,4.9,4.9,5.31,5.31,0,0,0,6.5,1,5.31,5.31,0,0,0,8.1,4.9,5.31,5.31,0,0,0,12,6.5,5.46,5.46,0,0,0,6.5,12Z\"/>\n",
              "  </svg>\n",
              "    </button>\n",
              "    <script>\n",
              "      (() => {\n",
              "      const buttonEl =\n",
              "        document.querySelector('#id_b2d5d948-298f-4870-a3d2-fe422412ffb6 button.colab-df-generate');\n",
              "      buttonEl.style.display =\n",
              "        google.colab.kernel.accessAllowed ? 'block' : 'none';\n",
              "\n",
              "      buttonEl.onclick = () => {\n",
              "        google.colab.notebook.generateWithVariable('data');\n",
              "      }\n",
              "      })();\n",
              "    </script>\n",
              "  </div>\n",
              "\n",
              "    </div>\n",
              "  </div>\n"
            ],
            "application/vnd.google.colaboratory.intrinsic+json": {
              "type": "dataframe",
              "variable_name": "data",
              "summary": "{\n  \"name\": \"data\",\n  \"rows\": 9093,\n  \"fields\": [\n    {\n      \"column\": \"tweet_text\",\n      \"properties\": {\n        \"dtype\": \"string\",\n        \"num_unique_values\": 9065,\n        \"samples\": [\n          \"RT @mention @mention shows #Apple 's position in the tablet wars. #tapworthy #sxsw  {link}\",\n          \"My first #SXSW survival kit. iPhone not in the shot because I'm using it to take the picture.  {link} I might be ready.\",\n          \"RT@mention by parabolico_bh MARAVILHA, APROVEITEM!\\n{link} \\u0089\\u00e3_ #edchat #musedchat #sxsw #sxswi #classical\"\n        ],\n        \"semantic_type\": \"\",\n        \"description\": \"\"\n      }\n    },\n    {\n      \"column\": \"emotion_in_tweet_is_directed_at\",\n      \"properties\": {\n        \"dtype\": \"category\",\n        \"num_unique_values\": 9,\n        \"samples\": [\n          \"Other Google product or service\",\n          \"iPad or iPhone App\",\n          \"Apple\"\n        ],\n        \"semantic_type\": \"\",\n        \"description\": \"\"\n      }\n    },\n    {\n      \"column\": \"is_there_an_emotion_directed_at_a_brand_or_product\",\n      \"properties\": {\n        \"dtype\": \"category\",\n        \"num_unique_values\": 4,\n        \"samples\": [\n          \"Positive emotion\",\n          \"I can't tell\",\n          \"Negative emotion\"\n        ],\n        \"semantic_type\": \"\",\n        \"description\": \"\"\n      }\n    }\n  ]\n}"
            }
          },
          "metadata": {},
          "execution_count": 5
        }
      ]
    },
    {
      "cell_type": "markdown",
      "source": [
        "##Step 3:Reserve the copy and basic anlaysis"
      ],
      "metadata": {
        "id": "cl8YRDDaekLh"
      }
    },
    {
      "cell_type": "code",
      "source": [
        "\n",
        "# Create a copy of the data\n",
        "data_copy = data.copy()"
      ],
      "metadata": {
        "id": "N7RomKJwBywa"
      },
      "execution_count": 14,
      "outputs": []
    },
    {
      "cell_type": "code",
      "source": [
        "# Display basic information about the DataFrame\n",
        "print(data.info())"
      ],
      "metadata": {
        "colab": {
          "base_uri": "https://localhost:8080/"
        },
        "id": "pKAZpo2M8UoU",
        "outputId": "26374ba1-2c2b-4ee5-d278-3bd0afb406af"
      },
      "execution_count": 7,
      "outputs": [
        {
          "output_type": "stream",
          "name": "stdout",
          "text": [
            "<class 'pandas.core.frame.DataFrame'>\n",
            "RangeIndex: 9093 entries, 0 to 9092\n",
            "Data columns (total 3 columns):\n",
            " #   Column                                              Non-Null Count  Dtype \n",
            "---  ------                                              --------------  ----- \n",
            " 0   tweet_text                                          9092 non-null   object\n",
            " 1   emotion_in_tweet_is_directed_at                     3291 non-null   object\n",
            " 2   is_there_an_emotion_directed_at_a_brand_or_product  9093 non-null   object\n",
            "dtypes: object(3)\n",
            "memory usage: 213.2+ KB\n",
            "None\n"
          ]
        }
      ]
    },
    {
      "cell_type": "code",
      "source": [
        "# Display descriptive statistics for numerical columns\n",
        "print(data.describe())"
      ],
      "metadata": {
        "colab": {
          "base_uri": "https://localhost:8080/"
        },
        "id": "kJY3qUaQ8eWP",
        "outputId": "18638663-0fa3-4d32-aa3b-0911e123f1ce"
      },
      "execution_count": 8,
      "outputs": [
        {
          "output_type": "stream",
          "name": "stdout",
          "text": [
            "                                               tweet_text  \\\n",
            "count                                                9092   \n",
            "unique                                               9065   \n",
            "top     RT @mention Marissa Mayer: Google Will Connect...   \n",
            "freq                                                    5   \n",
            "\n",
            "       emotion_in_tweet_is_directed_at  \\\n",
            "count                             3291   \n",
            "unique                               9   \n",
            "top                               iPad   \n",
            "freq                               946   \n",
            "\n",
            "       is_there_an_emotion_directed_at_a_brand_or_product  \n",
            "count                                                9093  \n",
            "unique                                                  4  \n",
            "top                    No emotion toward brand or product  \n",
            "freq                                                 5389  \n"
          ]
        }
      ]
    },
    {
      "cell_type": "code",
      "source": [
        "# Check for missing values\n",
        "print(data.isnull().sum())"
      ],
      "metadata": {
        "colab": {
          "base_uri": "https://localhost:8080/"
        },
        "id": "MbDjQPdy8oTv",
        "outputId": "805b2999-b560-4422-c4b2-960445cd50e6"
      },
      "execution_count": 9,
      "outputs": [
        {
          "output_type": "stream",
          "name": "stdout",
          "text": [
            "tweet_text                                               1\n",
            "emotion_in_tweet_is_directed_at                       5802\n",
            "is_there_an_emotion_directed_at_a_brand_or_product       0\n",
            "dtype: int64\n"
          ]
        }
      ]
    },
    {
      "cell_type": "markdown",
      "source": [
        "## Step 4: Data Preprocessing"
      ],
      "metadata": {
        "id": "QbsJ2kyCdovn"
      }
    },
    {
      "cell_type": "code",
      "source": [
        "# We'll use only the 'tweet_text' for input and 'is_there_an_emotion_in_tweet' for labels.\n",
        "data = data[['tweet_text', 'is_there_an_emotion_directed_at_a_brand_or_product']]\n",
        "data.dropna(inplace=True)"
      ],
      "metadata": {
        "colab": {
          "base_uri": "https://localhost:8080/"
        },
        "id": "bQFYHq5KBSDA",
        "outputId": "4d631b07-9c5d-41e0-8669-f7fee6dd42e4"
      },
      "execution_count": 15,
      "outputs": [
        {
          "output_type": "stream",
          "name": "stderr",
          "text": [
            "<ipython-input-15-1b64a7d3bdb3>:4: SettingWithCopyWarning: \n",
            "A value is trying to be set on a copy of a slice from a DataFrame\n",
            "\n",
            "See the caveats in the documentation: https://pandas.pydata.org/pandas-docs/stable/user_guide/indexing.html#returning-a-view-versus-a-copy\n",
            "  data.dropna(inplace=True)\n"
          ]
        }
      ]
    },
    {
      "cell_type": "code",
      "source": [
        "print(data.head(25))"
      ],
      "metadata": {
        "colab": {
          "base_uri": "https://localhost:8080/"
        },
        "id": "kHPXoIBUCMpP",
        "outputId": "25b48c39-5a0e-485f-b21f-f18c54e65411"
      },
      "execution_count": 19,
      "outputs": [
        {
          "output_type": "stream",
          "name": "stdout",
          "text": [
            "                                           tweet_text  \\\n",
            "0   .@wesley83 I have a 3G iPhone. After 3 hrs twe...   \n",
            "1   @jessedee Know about @fludapp ? Awesome iPad/i...   \n",
            "2   @swonderlin Can not wait for #iPad 2 also. The...   \n",
            "3   @sxsw I hope this year's festival isn't as cra...   \n",
            "4   @sxtxstate great stuff on Fri #SXSW: Marissa M...   \n",
            "5   @teachntech00 New iPad Apps For #SpeechTherapy...   \n",
            "7   #SXSW is just starting, #CTIA is around the co...   \n",
            "8   Beautifully smart and simple idea RT @madebyma...   \n",
            "9   Counting down the days to #sxsw plus strong Ca...   \n",
            "10  Excited to meet the @samsungmobileus at #sxsw ...   \n",
            "11  Find &amp; Start Impromptu Parties at #SXSW Wi...   \n",
            "12  Foursquare ups the game, just in time for #SXS...   \n",
            "13  Gotta love this #SXSW Google Calendar featurin...   \n",
            "14  Great #sxsw ipad app from @madebymany: http://...   \n",
            "15  haha, awesomely rad iPad app by @madebymany ht...   \n",
            "16  Holler Gram for iPad on the iTunes App Store -...   \n",
            "17  I just noticed DST is coming this weekend. How...   \n",
            "18  Just added my #SXSW flights to @planely. Match...   \n",
            "19  Must have #SXSW app! RT @malbonster: Lovely re...   \n",
            "20  Need to buy an iPad2 while I'm in Austin at #s...   \n",
            "21  Oh. My. God. The #SXSW app for iPad is pure, u...   \n",
            "22  Okay, this is really it: yay new @Foursquare f...   \n",
            "23  Photo: Just installed the #SXSW iPhone app, wh...   \n",
            "24  Really enjoying the changes in Gowalla 3.0 for...   \n",
            "25  RT @LaurieShook: I'm looking forward to the #S...   \n",
            "\n",
            "   is_there_an_emotion_directed_at_a_brand_or_product  \n",
            "0                                    Negative emotion  \n",
            "1                                    Positive emotion  \n",
            "2                                    Positive emotion  \n",
            "3                                    Negative emotion  \n",
            "4                                    Positive emotion  \n",
            "5                  No emotion toward brand or product  \n",
            "7                                    Positive emotion  \n",
            "8                                    Positive emotion  \n",
            "9                                    Positive emotion  \n",
            "10                                   Positive emotion  \n",
            "11                                   Positive emotion  \n",
            "12                                   Positive emotion  \n",
            "13                                   Positive emotion  \n",
            "14                                   Positive emotion  \n",
            "15                                   Positive emotion  \n",
            "16                 No emotion toward brand or product  \n",
            "17                                   Negative emotion  \n",
            "18                                   Positive emotion  \n",
            "19                                   Positive emotion  \n",
            "20                                   Positive emotion  \n",
            "21                                   Positive emotion  \n",
            "22                                   Positive emotion  \n",
            "23                                   Positive emotion  \n",
            "24                                   Positive emotion  \n",
            "25                                   Positive emotion  \n"
          ]
        }
      ]
    },
    {
      "cell_type": "code",
      "source": [
        "# Encode the target labels (positive, negative, neutral, no_idea) into numbers.\n",
        "label_encoder = LabelEncoder()\n",
        "# Use 'is_there_an_emotion_directed_at_a_brand_or_product' instead of 'is_there_an_emotion_in_tweet'\n",
        "data['label'] = label_encoder.fit_transform(data['is_there_an_emotion_directed_at_a_brand_or_product'])"
      ],
      "metadata": {
        "colab": {
          "base_uri": "https://localhost:8080/"
        },
        "id": "m2ykhfcfESx-",
        "outputId": "478bca24-3935-49fa-bbd8-1453aab11f56"
      },
      "execution_count": 21,
      "outputs": [
        {
          "output_type": "stream",
          "name": "stderr",
          "text": [
            "<ipython-input-21-aa72aebd7ea1>:4: SettingWithCopyWarning: \n",
            "A value is trying to be set on a copy of a slice from a DataFrame.\n",
            "Try using .loc[row_indexer,col_indexer] = value instead\n",
            "\n",
            "See the caveats in the documentation: https://pandas.pydata.org/pandas-docs/stable/user_guide/indexing.html#returning-a-view-versus-a-copy\n",
            "  data['label'] = label_encoder.fit_transform(data['is_there_an_emotion_directed_at_a_brand_or_product'])\n"
          ]
        }
      ]
    },
    {
      "cell_type": "code",
      "source": [
        "print(data['label'].unique())\n",
        "print(data['is_there_an_emotion_directed_at_a_brand_or_product'].unique())"
      ],
      "metadata": {
        "colab": {
          "base_uri": "https://localhost:8080/"
        },
        "id": "qf3F6_ROE_13",
        "outputId": "94046ee7-7885-4eab-fdca-a943def44302"
      },
      "execution_count": 27,
      "outputs": [
        {
          "output_type": "stream",
          "name": "stdout",
          "text": [
            "[1 3 2 0]\n",
            "['Negative emotion' 'Positive emotion'\n",
            " 'No emotion toward brand or product' \"I can't tell\"]\n"
          ]
        }
      ]
    },
    {
      "cell_type": "code",
      "source": [
        "print(data.head(10))"
      ],
      "metadata": {
        "colab": {
          "base_uri": "https://localhost:8080/"
        },
        "id": "10_d5JkTEl11",
        "outputId": "4638db13-5ded-4070-f3e4-b50967b22f0a"
      },
      "execution_count": 23,
      "outputs": [
        {
          "output_type": "stream",
          "name": "stdout",
          "text": [
            "                                           tweet_text  \\\n",
            "0   .@wesley83 I have a 3G iPhone. After 3 hrs twe...   \n",
            "1   @jessedee Know about @fludapp ? Awesome iPad/i...   \n",
            "2   @swonderlin Can not wait for #iPad 2 also. The...   \n",
            "3   @sxsw I hope this year's festival isn't as cra...   \n",
            "4   @sxtxstate great stuff on Fri #SXSW: Marissa M...   \n",
            "5   @teachntech00 New iPad Apps For #SpeechTherapy...   \n",
            "7   #SXSW is just starting, #CTIA is around the co...   \n",
            "8   Beautifully smart and simple idea RT @madebyma...   \n",
            "9   Counting down the days to #sxsw plus strong Ca...   \n",
            "10  Excited to meet the @samsungmobileus at #sxsw ...   \n",
            "\n",
            "   is_there_an_emotion_directed_at_a_brand_or_product  label  \n",
            "0                                    Negative emotion      1  \n",
            "1                                    Positive emotion      3  \n",
            "2                                    Positive emotion      3  \n",
            "3                                    Negative emotion      1  \n",
            "4                                    Positive emotion      3  \n",
            "5                  No emotion toward brand or product      2  \n",
            "7                                    Positive emotion      3  \n",
            "8                                    Positive emotion      3  \n",
            "9                                    Positive emotion      3  \n",
            "10                                   Positive emotion      3  \n"
          ]
        }
      ]
    },
    {
      "cell_type": "code",
      "source": [
        "# Explore the relationship between tweet length and emotion (if applicable)\n",
        "data['tweet_length'] = data['tweet_text'].astype(str).apply(len)\n",
        "# Use the correct column name 'is_there_an_emotion_directed_at_a_brand_or_product' for grouping\n",
        "print(data.groupby('is_there_an_emotion_directed_at_a_brand_or_product')['tweet_length'].describe())\n",
        "#  Explore the relationship between tweet length and emotion (if applicable)\n",
        "data['tweet_length'] = data['tweet_text'].astype(str).apply(len)\n",
        "print(data.groupby('is_there_an_emotion_directed_at_a_brand_or_product')['tweet_length'].describe())"
      ],
      "metadata": {
        "colab": {
          "base_uri": "https://localhost:8080/"
        },
        "id": "XCM84dquauJ3",
        "outputId": "0179402a-70bb-4680-ac2b-cfba71a1f41d"
      },
      "execution_count": 56,
      "outputs": [
        {
          "output_type": "stream",
          "name": "stdout",
          "text": [
            "                                                     count        mean  \\\n",
            "is_there_an_emotion_directed_at_a_brand_or_product                       \n",
            "I can't tell                                         156.0  103.980769   \n",
            "Negative emotion                                     570.0  109.447368   \n",
            "No emotion toward brand or product                  5388.0  104.186526   \n",
            "Positive emotion                                    2978.0  105.558764   \n",
            "\n",
            "                                                          std   min   25%  \\\n",
            "is_there_an_emotion_directed_at_a_brand_or_product                          \n",
            "I can't tell                                        27.911027  43.0  81.0   \n",
            "Negative emotion                                    27.392831  38.0  91.0   \n",
            "No emotion toward brand or product                  27.127710  11.0  85.0   \n",
            "Positive emotion                                    27.133741  25.0  86.0   \n",
            "\n",
            "                                                      50%    75%    max  \n",
            "is_there_an_emotion_directed_at_a_brand_or_product                       \n",
            "I can't tell                                        105.0  127.0  152.0  \n",
            "Negative emotion                                    114.0  132.0  158.0  \n",
            "No emotion toward brand or product                  108.0  125.0  178.0  \n",
            "Positive emotion                                    110.0  127.0  170.0  \n",
            "                                                     count        mean  \\\n",
            "is_there_an_emotion_directed_at_a_brand_or_product                       \n",
            "I can't tell                                         156.0  103.980769   \n",
            "Negative emotion                                     570.0  109.447368   \n",
            "No emotion toward brand or product                  5388.0  104.186526   \n",
            "Positive emotion                                    2978.0  105.558764   \n",
            "\n",
            "                                                          std   min   25%  \\\n",
            "is_there_an_emotion_directed_at_a_brand_or_product                          \n",
            "I can't tell                                        27.911027  43.0  81.0   \n",
            "Negative emotion                                    27.392831  38.0  91.0   \n",
            "No emotion toward brand or product                  27.127710  11.0  85.0   \n",
            "Positive emotion                                    27.133741  25.0  86.0   \n",
            "\n",
            "                                                      50%    75%    max  \n",
            "is_there_an_emotion_directed_at_a_brand_or_product                       \n",
            "I can't tell                                        105.0  127.0  152.0  \n",
            "Negative emotion                                    114.0  132.0  158.0  \n",
            "No emotion toward brand or product                  108.0  125.0  178.0  \n",
            "Positive emotion                                    110.0  127.0  170.0  \n"
          ]
        },
        {
          "output_type": "stream",
          "name": "stderr",
          "text": [
            "<ipython-input-56-5edb5a83dad6>:2: SettingWithCopyWarning: \n",
            "A value is trying to be set on a copy of a slice from a DataFrame.\n",
            "Try using .loc[row_indexer,col_indexer] = value instead\n",
            "\n",
            "See the caveats in the documentation: https://pandas.pydata.org/pandas-docs/stable/user_guide/indexing.html#returning-a-view-versus-a-copy\n",
            "  data['tweet_length'] = data['tweet_text'].astype(str).apply(len)\n",
            "<ipython-input-56-5edb5a83dad6>:9: SettingWithCopyWarning: \n",
            "A value is trying to be set on a copy of a slice from a DataFrame.\n",
            "Try using .loc[row_indexer,col_indexer] = value instead\n",
            "\n",
            "See the caveats in the documentation: https://pandas.pydata.org/pandas-docs/stable/user_guide/indexing.html#returning-a-view-versus-a-copy\n",
            "  data['tweet_length'] = data['tweet_text'].astype(str).apply(len)\n"
          ]
        }
      ]
    },
    {
      "cell_type": "code",
      "source": [
        "\n",
        "from collections import Counter\n",
        "import re\n",
        "\n",
        "def preprocess_text(text):\n",
        "    text = re.sub(r'[^a-zA-Z\\s]', '', text, re.I|re.A) # Remove punctuation\n",
        "    text = text.lower() # Convert to lowercase\n",
        "    return text\n",
        "\n",
        "data['processed_tweet'] = data['tweet_text'].astype(str).apply(preprocess_text)\n",
        "all_words = ' '.join(data['processed_tweet']).split()\n",
        "word_counts = Counter(all_words)\n",
        "print(\"\\nMost frequent words:\", word_counts.most_common(10))\n",
        "\n",
        "# Assuming you want to print the first 5 processed tweets\n",
        "print(\"\\nFirst 5 processed tweets:\")\n",
        "print(data['processed_tweet'].head(5))"
      ],
      "metadata": {
        "colab": {
          "base_uri": "https://localhost:8080/"
        },
        "id": "CdFuNNPhbuaB",
        "outputId": "8ea78373-69ba-4967-82be-41bbb0edeafd"
      },
      "execution_count": 60,
      "outputs": [
        {
          "output_type": "stream",
          "name": "stdout",
          "text": [
            "\n",
            "Most frequent words: [('sxsw', 9535), ('mention', 7053), ('the', 4373), ('link', 4284), ('to', 3589), ('at', 3069), ('rt', 2931), ('ipad', 2875), ('for', 2544), ('google', 2337)]\n",
            "\n",
            "First 5 processed tweets:\n",
            "0    wesley i have a g iphone after  hrs tweeting a...\n",
            "1    jessedee know about fludapp  awesome ipadiphon...\n",
            "2    swonderlin can not wait for ipad  also they sh...\n",
            "3    sxsw i hope this years festival isnt as crashy...\n",
            "4    sxtxstate great stuff on fri sxsw marissa maye...\n",
            "Name: processed_tweet, dtype: object\n"
          ]
        },
        {
          "output_type": "stream",
          "name": "stderr",
          "text": [
            "<ipython-input-60-2a737a79f023>:9: SettingWithCopyWarning: \n",
            "A value is trying to be set on a copy of a slice from a DataFrame.\n",
            "Try using .loc[row_indexer,col_indexer] = value instead\n",
            "\n",
            "See the caveats in the documentation: https://pandas.pydata.org/pandas-docs/stable/user_guide/indexing.html#returning-a-view-versus-a-copy\n",
            "  data['processed_tweet'] = data['tweet_text'].astype(str).apply(preprocess_text)\n"
          ]
        }
      ]
    },
    {
      "cell_type": "code",
      "source": [
        "print(\"Label Distribution:\")\n",
        "label_counts = data['label'].value_counts()  # Calculate the frequency of each label\n",
        "print(label_counts)"
      ],
      "metadata": {
        "colab": {
          "base_uri": "https://localhost:8080/"
        },
        "id": "RFeK4WKkGIoa",
        "outputId": "5c422063-1667-4d39-d2dc-5c0db7ab4408"
      },
      "execution_count": 29,
      "outputs": [
        {
          "output_type": "stream",
          "name": "stdout",
          "text": [
            "Label Distribution:\n",
            "label\n",
            "2    5388\n",
            "3    2978\n",
            "1     570\n",
            "0     156\n",
            "Name: count, dtype: int64\n"
          ]
        }
      ]
    },
    {
      "cell_type": "code",
      "source": [
        "# Tokenize the text data and pad sequences to make them of equal length.\n",
        "tokenizer = Tokenizer(num_words=5000, oov_token=\"<OOV>\")\n",
        "tokenizer.fit_on_texts(data['tweet_text'])\n",
        "sequences = tokenizer.texts_to_sequences(data['tweet_text'])\n",
        "padded_sequences = pad_sequences(sequences, maxlen=50, padding='post', truncating='post')\n"
      ],
      "metadata": {
        "id": "TaI2AQGfGZBq"
      },
      "execution_count": 30,
      "outputs": []
    },
    {
      "cell_type": "code",
      "source": [
        "# Visualization:\n",
        "print(\"Original Text (Sample):\\n\", data['tweet_text'].head(5))  # Show first 5 tweets\n",
        "print(\"\\nTokenized Sequences (Sample):\\n\", sequences[:5])  # Show first 5 tokenized sequences\n",
        "\n",
        "# Function to highlight padding tokens\n",
        "def highlight_padding(sequence, maxlen=50):\n",
        "    highlighted = []\n",
        "    for token in sequence:\n",
        "        if token != 0:  # Assuming 0 is the padding token\n",
        "            highlighted.append(str(token))\n",
        "        else:\n",
        "            highlighted.append(\"[PAD]\")  # Highlight padding tokens\n",
        "    return highlighted\n",
        "\n",
        "# Print padded sequences with highlighted padding\n",
        "print(\"\\nPadded Sequences (Sample, with highlighted padding):\")\n",
        "for seq in padded_sequences[:5]:\n",
        "    print(highlight_padding(seq))"
      ],
      "metadata": {
        "colab": {
          "base_uri": "https://localhost:8080/"
        },
        "id": "pqoIF6bxGwX9",
        "outputId": "7c216ec2-257f-4790-c265-fab7161d28c8"
      },
      "execution_count": 31,
      "outputs": [
        {
          "output_type": "stream",
          "name": "stdout",
          "text": [
            "Original Text (Sample):\n",
            " 0    .@wesley83 I have a 3G iPhone. After 3 hrs twe...\n",
            "1    @jessedee Know about @fludapp ? Awesome iPad/i...\n",
            "2    @swonderlin Can not wait for #iPad 2 also. The...\n",
            "3    @sxsw I hope this year's festival isn't as cra...\n",
            "4    @sxtxstate great stuff on Fri #SXSW: Marissa M...\n",
            "Name: tweet_text, dtype: object\n",
            "\n",
            "Tokenized Sequences (Sample):\n",
            " [[1, 24, 52, 12, 608, 19, 258, 112, 2583, 635, 7, 1352, 26, 33, 87, 894, 24, 105, 6, 1113, 2584, 3956, 7, 2], [1, 110, 56, 1, 141, 10, 19, 32, 49, 595, 1114, 2235, 9, 172, 134, 242, 361, 262, 57, 3957, 7, 2], [1, 80, 44, 248, 9, 10, 23, 242, 83, 244, 609, 185, 209, 7, 2], [2, 24, 351, 37, 895, 580, 715, 102, 3958, 102, 37, 895, 19, 32, 2], [1457, 95, 545, 21, 1750, 2, 109, 104, 11, 857, 1458, 124, 1751, 449, 30, 1353, 3132, 1459]]\n",
            "\n",
            "Padded Sequences (Sample, with highlighted padding):\n",
            "['1', '24', '52', '12', '608', '19', '258', '112', '2583', '635', '7', '1352', '26', '33', '87', '894', '24', '105', '6', '1113', '2584', '3956', '7', '2', '[PAD]', '[PAD]', '[PAD]', '[PAD]', '[PAD]', '[PAD]', '[PAD]', '[PAD]', '[PAD]', '[PAD]', '[PAD]', '[PAD]', '[PAD]', '[PAD]', '[PAD]', '[PAD]', '[PAD]', '[PAD]', '[PAD]', '[PAD]', '[PAD]', '[PAD]', '[PAD]', '[PAD]', '[PAD]', '[PAD]']\n",
            "['1', '110', '56', '1', '141', '10', '19', '32', '49', '595', '1114', '2235', '9', '172', '134', '242', '361', '262', '57', '3957', '7', '2', '[PAD]', '[PAD]', '[PAD]', '[PAD]', '[PAD]', '[PAD]', '[PAD]', '[PAD]', '[PAD]', '[PAD]', '[PAD]', '[PAD]', '[PAD]', '[PAD]', '[PAD]', '[PAD]', '[PAD]', '[PAD]', '[PAD]', '[PAD]', '[PAD]', '[PAD]', '[PAD]', '[PAD]', '[PAD]', '[PAD]', '[PAD]', '[PAD]']\n",
            "['1', '80', '44', '248', '9', '10', '23', '242', '83', '244', '609', '185', '209', '7', '2', '[PAD]', '[PAD]', '[PAD]', '[PAD]', '[PAD]', '[PAD]', '[PAD]', '[PAD]', '[PAD]', '[PAD]', '[PAD]', '[PAD]', '[PAD]', '[PAD]', '[PAD]', '[PAD]', '[PAD]', '[PAD]', '[PAD]', '[PAD]', '[PAD]', '[PAD]', '[PAD]', '[PAD]', '[PAD]', '[PAD]', '[PAD]', '[PAD]', '[PAD]', '[PAD]', '[PAD]', '[PAD]', '[PAD]', '[PAD]', '[PAD]']\n",
            "['2', '24', '351', '37', '895', '580', '715', '102', '3958', '102', '37', '895', '19', '32', '2', '[PAD]', '[PAD]', '[PAD]', '[PAD]', '[PAD]', '[PAD]', '[PAD]', '[PAD]', '[PAD]', '[PAD]', '[PAD]', '[PAD]', '[PAD]', '[PAD]', '[PAD]', '[PAD]', '[PAD]', '[PAD]', '[PAD]', '[PAD]', '[PAD]', '[PAD]', '[PAD]', '[PAD]', '[PAD]', '[PAD]', '[PAD]', '[PAD]', '[PAD]', '[PAD]', '[PAD]', '[PAD]', '[PAD]', '[PAD]', '[PAD]']\n",
            "['1457', '95', '545', '21', '1750', '2', '109', '104', '11', '857', '1458', '124', '1751', '449', '30', '1353', '3132', '1459', '[PAD]', '[PAD]', '[PAD]', '[PAD]', '[PAD]', '[PAD]', '[PAD]', '[PAD]', '[PAD]', '[PAD]', '[PAD]', '[PAD]', '[PAD]', '[PAD]', '[PAD]', '[PAD]', '[PAD]', '[PAD]', '[PAD]', '[PAD]', '[PAD]', '[PAD]', '[PAD]', '[PAD]', '[PAD]', '[PAD]', '[PAD]', '[PAD]', '[PAD]', '[PAD]', '[PAD]', '[PAD]']\n"
          ]
        }
      ]
    },
    {
      "cell_type": "markdown",
      "source": [
        "## Step 5: Split the Data"
      ],
      "metadata": {
        "id": "_cK1zozXdcV6"
      }
    },
    {
      "cell_type": "code",
      "source": [
        "# Split the dataset into training and testing sets.\n",
        "X_train, X_test, y_train, y_test = train_test_split(padded_sequences, data['label'], test_size=0.2, random_state=42)\n"
      ],
      "metadata": {
        "id": "wsAWJ30YJatY"
      },
      "execution_count": 32,
      "outputs": []
    },
    {
      "cell_type": "code",
      "source": [
        "# Visualization:\n",
        "# 1. Distribution of labels in the training and testing sets\n",
        "import matplotlib.pyplot as plt # Import matplotlib.pyplot and create the alias 'plt'\n",
        "\n",
        "plt.figure(figsize=(10, 5))\n",
        "\n",
        "# Training set label distribution\n",
        "plt.subplot(1, 2, 1)\n",
        "plt.hist(y_train, bins=np.arange(5) - 0.5, rwidth=0.8)  # Assuming 4 labels (0-3)\n",
        "plt.title(\"Label Distribution in Training Set\")\n",
        "plt.xlabel(\"Labels\")\n",
        "plt.ylabel(\"Frequency\")\n",
        "\n",
        "# Testing set label distribution\n",
        "plt.subplot(1, 2, 2)\n",
        "plt.hist(y_test, bins=np.arange(5) - 0.5, rwidth=0.8)  # Assuming 4 labels (0-3)\n",
        "plt.title(\"Label Distribution in Testing Set\")\n",
        "plt.xlabel(\"Labels\")\n",
        "plt.ylabel(\"Frequency\")\n",
        "\n",
        "plt.tight_layout()\n",
        "plt.show()\n",
        "\n",
        "# 2. Size of training and testing sets\n",
        "train_size = len(X_train)\n",
        "test_size = len(X_test)\n",
        "\n",
        "plt.figure(figsize=(6, 6))\n",
        "plt.pie([train_size, test_size], labels=[\"Training Set\", \"Testing Set\"], autopct=\"%1.1f%%\")\n",
        "plt.title(\"Data Split - Training vs. Testing\")\n",
        "plt.show()"
      ],
      "metadata": {
        "colab": {
          "base_uri": "https://localhost:8080/"
        },
        "id": "5XSSgJ91LhC4",
        "outputId": "babd93d2-4e58-466d-f686-b1fa5317e05c"
      },
      "execution_count": 34,
      "outputs": [
        {
          "output_type": "display_data",
          "data": {
            "text/plain": [
              "<Figure size 1000x500 with 2 Axes>"
            ],
            "image/png": "[encoded data removed]"
          },
          "metadata": {}
        },
        {
          "output_type": "display_data",
          "data": {
            "text/plain": [
              "<Figure size 600x600 with 1 Axes>"
            ],
            "image/png": "[encoded data removed]"
          },
          "metadata": {}
        }
      ]
    },
    {
      "cell_type": "markdown",
      "source": [
        "##Step 6: Build the RNN Model"
      ],
      "metadata": {
        "id": "msKduHI6dO3R"
      }
    },
    {
      "cell_type": "code",
      "source": [
        "from tensorflow.keras.utils import plot_model\n",
        "!pip install tensorflow\n",
        "\n",
        "from tensorflow.keras.utils import plot_model\n",
        "import matplotlib.pyplot as plt # Importing for displaying the image\n",
        "\n",
        " # Sequentially add layers to the RNN model.\n",
        "\n",
        "rnn_model = Sequential([\n",
        "    Embedding(input_dim=5000, output_dim=64, input_length=50),  # Embedding layer for text representation\n",
        "    SimpleRNN(64, return_sequences=False),  # Simple RNN layer\n",
        "    Dropout(0.5),  # Dropout layer to prevent overfitting\n",
        "    Dense(32, activation='relu'),  # Dense layer with ReLU activation\n",
        "    Dense(4, activation='softmax')  # Output layer with 4 classes (positive, negative, neutral, no_idea)\n",
        "])\n",
        "\n",
        "rnn_model.build(input_shape=(None, 50))  # Replace 50 with the actual input sequence length\n",
        "\n",
        "# Visualize the model architecture\n",
        "plot_model(rnn_model, to_file='rnn_model.png', show_shapes=True, show_layer_names=True)\n",
        "\n",
        "# Display the image in the notebook\n",
        "img = plt.imread('rnn_model.png')\n",
        "plt.figure(figsize=(10, 6))  # Adjust figure size if needed\n",
        "plt.imshow(img)\n",
        "plt.axis('off')  # Turn off axis labels and ticks\n",
        "plt.show()"
      ],
      "metadata": {
        "colab": {
          "base_uri": "https://localhost:8080/",
          "height": 1000
        },
        "id": "dTsGHlBohgKG",
        "outputId": "6fed62ee-e3be-476c-a5c2-9dd55b30703a"
      },
      "execution_count": 64,
      "outputs": [
        {
          "output_type": "stream",
          "name": "stdout",
          "text": [
            "Requirement already satisfied: tensorflow in /usr/local/lib/python3.11/dist-packages (2.17.1)\n",
            "Requirement already satisfied: absl-py>=1.0.0 in /usr/local/lib/python3.11/dist-packages (from tensorflow) (1.4.0)\n",
            "Requirement already satisfied: astunparse>=1.6.0 in /usr/local/lib/python3.11/dist-packages (from tensorflow) (1.6.3)\n",
            "Requirement already satisfied: flatbuffers>=24.3.25 in /usr/local/lib/python3.11/dist-packages (from tensorflow) (24.12.23)\n",
            "Requirement already satisfied: gast!=0.5.0,!=0.5.1,!=0.5.2,>=0.2.1 in /usr/local/lib/python3.11/dist-packages (from tensorflow) (0.6.0)\n",
            "Requirement already satisfied: google-pasta>=0.1.1 in /usr/local/lib/python3.11/dist-packages (from tensorflow) (0.2.0)\n",
            "Requirement already satisfied: h5py>=3.10.0 in /usr/local/lib/python3.11/dist-packages (from tensorflow) (3.12.1)\n",
            "Requirement already satisfied: libclang>=13.0.0 in /usr/local/lib/python3.11/dist-packages (from tensorflow) (18.1.1)\n",
            "Requirement already satisfied: ml-dtypes<0.5.0,>=0.3.1 in /usr/local/lib/python3.11/dist-packages (from tensorflow) (0.4.1)\n",
            "Requirement already satisfied: opt-einsum>=2.3.2 in /usr/local/lib/python3.11/dist-packages (from tensorflow) (3.4.0)\n",
            "Requirement already satisfied: packaging in /usr/local/lib/python3.11/dist-packages (from tensorflow) (24.2)\n",
            "Requirement already satisfied: protobuf!=4.21.0,!=4.21.1,!=4.21.2,!=4.21.3,!=4.21.4,!=4.21.5,<5.0.0dev,>=3.20.3 in /usr/local/lib/python3.11/dist-packages (from tensorflow) (4.25.5)\n",
            "Requirement already satisfied: requests<3,>=2.21.0 in /usr/local/lib/python3.11/dist-packages (from tensorflow) (2.32.3)\n",
            "Requirement already satisfied: setuptools in /usr/local/lib/python3.11/dist-packages (from tensorflow) (75.1.0)\n",
            "Requirement already satisfied: six>=1.12.0 in /usr/local/lib/python3.11/dist-packages (from tensorflow) (1.17.0)\n",
            "Requirement already satisfied: termcolor>=1.1.0 in /usr/local/lib/python3.11/dist-packages (from tensorflow) (2.5.0)\n",
            "Requirement already satisfied: typing-extensions>=3.6.6 in /usr/local/lib/python3.11/dist-packages (from tensorflow) (4.12.2)\n",
            "Requirement already satisfied: wrapt>=1.11.0 in /usr/local/lib/python3.11/dist-packages (from tensorflow) (1.17.0)\n",
            "Requirement already satisfied: grpcio<2.0,>=1.24.3 in /usr/local/lib/python3.11/dist-packages (from tensorflow) (1.69.0)\n",
            "Requirement already satisfied: tensorboard<2.18,>=2.17 in /usr/local/lib/python3.11/dist-packages (from tensorflow) (2.17.1)\n",
            "Requirement already satisfied: keras>=3.2.0 in /usr/local/lib/python3.11/dist-packages (from tensorflow) (3.5.0)\n",
            "Requirement already satisfied: tensorflow-io-gcs-filesystem>=0.23.1 in /usr/local/lib/python3.11/dist-packages (from tensorflow) (0.37.1)\n",
            "Requirement already satisfied: numpy<2.0.0,>=1.23.5 in /usr/local/lib/python3.11/dist-packages (from tensorflow) (1.26.4)\n",
            "Requirement already satisfied: wheel<1.0,>=0.23.0 in /usr/local/lib/python3.11/dist-packages (from astunparse>=1.6.0->tensorflow) (0.45.1)\n",
            "Requirement already satisfied: rich in /usr/local/lib/python3.11/dist-packages (from keras>=3.2.0->tensorflow) (13.9.4)\n",
            "Requirement already satisfied: namex in /usr/local/lib/python3.11/dist-packages (from keras>=3.2.0->tensorflow) (0.0.8)\n",
            "Requirement already satisfied: optree in /usr/local/lib/python3.11/dist-packages (from keras>=3.2.0->tensorflow) (0.13.1)\n",
            "Requirement already satisfied: charset-normalizer<4,>=2 in /usr/local/lib/python3.11/dist-packages (from requests<3,>=2.21.0->tensorflow) (3.4.1)\n",
            "Requirement already satisfied: idna<4,>=2.5 in /usr/local/lib/python3.11/dist-packages (from requests<3,>=2.21.0->tensorflow) (3.10)\n",
            "Requirement already satisfied: urllib3<3,>=1.21.1 in /usr/local/lib/python3.11/dist-packages (from requests<3,>=2.21.0->tensorflow) (2.3.0)\n",
            "Requirement already satisfied: certifi>=2017.4.17 in /usr/local/lib/python3.11/dist-packages (from requests<3,>=2.21.0->tensorflow) (2024.12.14)\n",
            "Requirement already satisfied: markdown>=2.6.8 in /usr/local/lib/python3.11/dist-packages (from tensorboard<2.18,>=2.17->tensorflow) (3.7)\n",
            "Requirement already satisfied: tensorboard-data-server<0.8.0,>=0.7.0 in /usr/local/lib/python3.11/dist-packages (from tensorboard<2.18,>=2.17->tensorflow) (0.7.2)\n",
            "Requirement already satisfied: werkzeug>=1.0.1 in /usr/local/lib/python3.11/dist-packages (from tensorboard<2.18,>=2.17->tensorflow) (3.1.3)\n",
            "Requirement already satisfied: MarkupSafe>=2.1.1 in /usr/local/lib/python3.11/dist-packages (from werkzeug>=1.0.1->tensorboard<2.18,>=2.17->tensorflow) (3.0.2)\n",
            "Requirement already satisfied: markdown-it-py>=2.2.0 in /usr/local/lib/python3.11/dist-packages (from rich->keras>=3.2.0->tensorflow) (3.0.0)\n",
            "Requirement already satisfied: pygments<3.0.0,>=2.13.0 in /usr/local/lib/python3.11/dist-packages (from rich->keras>=3.2.0->tensorflow) (2.18.0)\n",
            "Requirement already satisfied: mdurl~=0.1 in /usr/local/lib/python3.11/dist-packages (from markdown-it-py>=2.2.0->rich->keras>=3.2.0->tensorflow) (0.1.2)\n"
          ]
        },
        {
          "output_type": "stream",
          "name": "stderr",
          "text": [
            "/usr/local/lib/python3.11/dist-packages/keras/src/layers/core/embedding.py:90: UserWarning: Argument `input_length` is deprecated. Just remove it.\n",
            "  warnings.warn(\n"
          ]
        },
        {
          "output_type": "display_data",
          "data": {
            "text/plain": [
              "<Figure size 1000x600 with 1 Axes>"
            ],
            "image/png": "[encoded data removed]"
          },
          "metadata": {}
        }
      ]
    },
    {
      "cell_type": "code",
      "source": [
        "# Step 7: Compile the Model\n",
        "# Specify the loss function, optimizer, and evaluation metric.\n",
        "rnn_model.compile(loss='sparse_categorical_crossentropy', optimizer='adam', metrics=['accuracy'])"
      ],
      "metadata": {
        "id": "TXVZywErPHbx"
      },
      "execution_count": 43,
      "outputs": []
    },
    {
      "cell_type": "code",
      "source": [
        "# the model architecture\n",
        "plot_model(rnn_model, to_file='rnn_model.png', show_shapes=True, show_layer_names=True)\n",
        "\n",
        "# Display the image in the notebook\n",
        "img = plt.imread('rnn_model.png')\n",
        "plt.figure(figsize=(10, 6))  # Adjust figure size if needed\n",
        "plt.imshow(img)\n",
        "plt.axis('off')  # Turn off axis labels and ticks\n",
        "plt.show()"
      ],
      "metadata": {
        "colab": {
          "base_uri": "https://localhost:8080/",
          "height": 499
        },
        "id": "OQKKLjasT3lQ",
        "outputId": "1a4aaaae-b76f-40f8-ad75-11bba45c64f3"
      },
      "execution_count": 45,
      "outputs": [
        {
          "output_type": "display_data",
          "data": {
            "text/plain": [
              "<Figure size 1000x600 with 1 Axes>"
            ],
            "image/png": "[encoded data removed]"
          },
          "metadata": {}
        }
      ]
    },
    {
      "cell_type": "code",
      "source": [
        " #Step 8:Train the Model\n",
        "# Train the RNN model using the training data.\n",
        "rnn_model.fit(X_train, y_train, epochs=5, validation_data=(X_test, y_test), batch_size=32)"
      ],
      "metadata": {
        "colab": {
          "base_uri": "https://localhost:8080/"
        },
        "id": "JUNX8ZhVTWWO",
        "outputId": "b27a1934-993b-4058-bf0a-87b41a61075d"
      },
      "execution_count": 46,
      "outputs": [
        {
          "output_type": "stream",
          "name": "stdout",
          "text": [
            "Epoch 1/5\n",
            "\u001b[1m228/228\u001b[0m \u001b[32m━━━━━━━━━━━━━━━━━━━━\u001b[0m\u001b[37m\u001b[0m \u001b[1m9s\u001b[0m 25ms/step - accuracy: 0.5614 - loss: 0.9793 - val_accuracy: 0.5855 - val_loss: 0.9262\n",
            "Epoch 2/5\n",
            "\u001b[1m228/228\u001b[0m \u001b[32m━━━━━━━━━━━━━━━━━━━━\u001b[0m\u001b[37m\u001b[0m \u001b[1m5s\u001b[0m 10ms/step - accuracy: 0.5983 - loss: 0.9172 - val_accuracy: 0.5855 - val_loss: 0.9262\n",
            "Epoch 3/5\n",
            "\u001b[1m228/228\u001b[0m \u001b[32m━━━━━━━━━━━━━━━━━━━━\u001b[0m\u001b[37m\u001b[0m \u001b[1m2s\u001b[0m 7ms/step - accuracy: 0.5934 - loss: 0.9237 - val_accuracy: 0.5855 - val_loss: 0.9238\n",
            "Epoch 4/5\n",
            "\u001b[1m228/228\u001b[0m \u001b[32m━━━━━━━━━━━━━━━━━━━━\u001b[0m\u001b[37m\u001b[0m \u001b[1m2s\u001b[0m 7ms/step - accuracy: 0.5947 - loss: 0.9221 - val_accuracy: 0.5855 - val_loss: 0.9223\n",
            "Epoch 5/5\n",
            "\u001b[1m228/228\u001b[0m \u001b[32m━━━━━━━━━━━━━━━━━━━━\u001b[0m\u001b[37m\u001b[0m \u001b[1m2s\u001b[0m 7ms/step - accuracy: 0.5897 - loss: 0.9225 - val_accuracy: 0.5860 - val_loss: 0.9372\n"
          ]
        },
        {
          "output_type": "execute_result",
          "data": {
            "text/plain": [
              "<keras.src.callbacks.history.History at 0x7887114ccdd0>"
            ]
          },
          "metadata": {},
          "execution_count": 46
        }
      ]
    },
    {
      "cell_type": "code",
      "source": [
        "# Step 9: Evaluate the Model\n",
        "# Check the model's performance on the testing data.\n",
        "rnn_loss, rnn_accuracy = rnn_model.evaluate(X_test, y_test)\n",
        "print(f\"RNN Test Accuracy: {rnn_accuracy}\")"
      ],
      "metadata": {
        "colab": {
          "base_uri": "https://localhost:8080/"
        },
        "id": "eKSoztZbVR2k",
        "outputId": "c4c681bb-88fa-4905-bb07-104118f203a0"
      },
      "execution_count": 47,
      "outputs": [
        {
          "output_type": "stream",
          "name": "stdout",
          "text": [
            "\u001b[1m57/57\u001b[0m \u001b[32m━━━━━━━━━━━━━━━━━━━━\u001b[0m\u001b[37m\u001b[0m \u001b[1m0s\u001b[0m 4ms/step - accuracy: 0.5826 - loss: 0.9474\n",
            "RNN Test Accuracy: 0.5860362648963928\n"
          ]
        }
      ]
    },
    {
      "cell_type": "markdown",
      "source": [],
      "metadata": {
        "id": "SV4foR82ajD1"
      }
    },
    {
      "cell_type": "code",
      "source": [
        "#  steps to improve accuracy\n",
        "from tensorflow.keras.layers import Embedding, LSTM, Dense, Dropout, Bidirectional\n",
        "from collections import Counter\n",
        "\n",
        "\n",
        "\n",
        "# Data preprocessing (improved)\n",
        "data = data[['tweet_text', 'is_there_an_emotion_directed_at_a_brand_or_product']]\n",
        "data.dropna(inplace=True)\n",
        "\n",
        "label_encoder = LabelEncoder()\n",
        "data['label'] = label_encoder.fit_transform(data['is_there_an_emotion_directed_at_a_brand_or_product'])\n",
        "\n",
        "def preprocess_text(text):\n",
        "    text = re.sub(r'http\\S+', '', text) # Remove URLs\n",
        "    text = re.sub(r'@\\S+', '', text) # Remove mentions\n",
        "    text = re.sub(r'#\\S+', '', text) # Remove hashtags\n",
        "    text = re.sub(r'[^a-zA-Z\\s]', '', text, re.I|re.A) # Remove punctuation\n",
        "    text = text.lower()\n",
        "    return text\n",
        "\n",
        "data['processed_tweet'] = data['tweet_text'].astype(str).apply(preprocess_text)"
      ],
      "metadata": {
        "colab": {
          "base_uri": "https://localhost:8080/"
        },
        "id": "J0gV1isciwFb",
        "outputId": "78d0e944-73d9-4775-eb0b-425349940f43"
      },
      "execution_count": 65,
      "outputs": [
        {
          "output_type": "stream",
          "name": "stderr",
          "text": [
            "<ipython-input-65-e5c9725cfb3f>:12: SettingWithCopyWarning: \n",
            "A value is trying to be set on a copy of a slice from a DataFrame\n",
            "\n",
            "See the caveats in the documentation: https://pandas.pydata.org/pandas-docs/stable/user_guide/indexing.html#returning-a-view-versus-a-copy\n",
            "  data.dropna(inplace=True)\n",
            "<ipython-input-65-e5c9725cfb3f>:15: SettingWithCopyWarning: \n",
            "A value is trying to be set on a copy of a slice from a DataFrame.\n",
            "Try using .loc[row_indexer,col_indexer] = value instead\n",
            "\n",
            "See the caveats in the documentation: https://pandas.pydata.org/pandas-docs/stable/user_guide/indexing.html#returning-a-view-versus-a-copy\n",
            "  data['label'] = label_encoder.fit_transform(data['is_there_an_emotion_directed_at_a_brand_or_product'])\n",
            "<ipython-input-65-e5c9725cfb3f>:25: SettingWithCopyWarning: \n",
            "A value is trying to be set on a copy of a slice from a DataFrame.\n",
            "Try using .loc[row_indexer,col_indexer] = value instead\n",
            "\n",
            "See the caveats in the documentation: https://pandas.pydata.org/pandas-docs/stable/user_guide/indexing.html#returning-a-view-versus-a-copy\n",
            "  data['processed_tweet'] = data['tweet_text'].astype(str).apply(preprocess_text)\n"
          ]
        }
      ]
    },
    {
      "cell_type": "code",
      "source": [
        "# Tokenization with increased vocabulary size and handling out-of-vocabulary words\n",
        "tokenizer = Tokenizer(num_words=10000, oov_token=\"<OOV>\") # Increased vocab size\n",
        "tokenizer.fit_on_texts(data['processed_tweet']) # Use processed tweets\n",
        "sequences = tokenizer.texts_to_sequences(data['processed_tweet'])\n",
        "padded_sequences = pad_sequences(sequences, maxlen=100, padding='post', truncating='post') # Increased maxlen\n",
        "\n",
        "# Split data\n",
        "X_train, X_test, y_train, y_test = train_test_split(padded_sequences, data['label'], test_size=0.2, random_state=42, stratify=data['label'])\n"
      ],
      "metadata": {
        "id": "sIrYOG6hjIVT"
      },
      "execution_count": 67,
      "outputs": []
    },
    {
      "cell_type": "code",
      "source": [
        "# Build the RNN model (improved)\n",
        "model = Sequential([\n",
        "    Embedding(input_dim=10000, output_dim=128, input_length=100),\n",
        "    Bidirectional(LSTM(64, return_sequences=True)), # Added Bidirectional LSTM\n",
        "    Dropout(0.5),\n",
        "    LSTM(64), # Added another LSTM layer\n",
        "    Dense(64, activation='relu'),\n",
        "    Dropout(0.3),  # Added dropout for regularization\n",
        "    Dense(4, activation='softmax')\n",
        "])\n",
        "\n"
      ],
      "metadata": {
        "colab": {
          "base_uri": "https://localhost:8080/"
        },
        "id": "zpUn9FaBjUOA",
        "outputId": "e2eda8d2-e4f3-4c8e-af2f-4745152d0cff"
      },
      "execution_count": 68,
      "outputs": [
        {
          "output_type": "stream",
          "name": "stderr",
          "text": [
            "/usr/local/lib/python3.11/dist-packages/keras/src/layers/core/embedding.py:90: UserWarning: Argument `input_length` is deprecated. Just remove it.\n",
            "  warnings.warn(\n"
          ]
        }
      ]
    },
    {
      "cell_type": "code",
      "source": [
        "# Compile the model\n",
        "model.compile(loss='sparse_categorical_crossentropy', optimizer='adam', metrics=['accuracy'])\n"
      ],
      "metadata": {
        "id": "gL9cwpwfjeqi"
      },
      "execution_count": 69,
      "outputs": []
    },
    {
      "cell_type": "code",
      "source": [
        "# Train the model (increased epochs)\n",
        "history = model.fit(X_train, y_train, epochs=20, validation_data=(X_test, y_test), batch_size=64)"
      ],
      "metadata": {
        "colab": {
          "base_uri": "https://localhost:8080/"
        },
        "id": "-7kadvwljpea",
        "outputId": "edef34f0-3842-4bcf-970d-3c2f6272c07e"
      },
      "execution_count": 71,
      "outputs": [
        {
          "output_type": "stream",
          "name": "stdout",
          "text": [
            "Epoch 1/20\n",
            "\u001b[1m114/114\u001b[0m \u001b[32m━━━━━━━━━━━━━━━━━━━━\u001b[0m\u001b[37m\u001b[0m \u001b[1m2s\u001b[0m 17ms/step - accuracy: 0.5806 - loss: 0.9480 - val_accuracy: 0.5926 - val_loss: 0.9187\n",
            "Epoch 2/20\n",
            "\u001b[1m114/114\u001b[0m \u001b[32m━━━━━━━━━━━━━━━━━━━━\u001b[0m\u001b[37m\u001b[0m \u001b[1m2s\u001b[0m 16ms/step - accuracy: 0.5962 - loss: 0.9233 - val_accuracy: 0.5926 - val_loss: 0.9187\n",
            "Epoch 3/20\n",
            "\u001b[1m114/114\u001b[0m \u001b[32m━━━━━━━━━━━━━━━━━━━━\u001b[0m\u001b[37m\u001b[0m \u001b[1m3s\u001b[0m 16ms/step - accuracy: 0.5912 - loss: 0.9150 - val_accuracy: 0.5926 - val_loss: 0.9188\n",
            "Epoch 4/20\n",
            "\u001b[1m114/114\u001b[0m \u001b[32m━━━━━━━━━━━━━━━━━━━━\u001b[0m\u001b[37m\u001b[0m \u001b[1m3s\u001b[0m 17ms/step - accuracy: 0.5959 - loss: 0.9141 - val_accuracy: 0.5926 - val_loss: 0.9199\n",
            "Epoch 5/20\n",
            "\u001b[1m114/114\u001b[0m \u001b[32m━━━━━━━━━━━━━━━━━━━━\u001b[0m\u001b[37m\u001b[0m \u001b[1m2s\u001b[0m 22ms/step - accuracy: 0.5831 - loss: 0.9349 - val_accuracy: 0.5926 - val_loss: 0.9194\n",
            "Epoch 6/20\n",
            "\u001b[1m114/114\u001b[0m \u001b[32m━━━━━━━━━━━━━━━━━━━━\u001b[0m\u001b[37m\u001b[0m \u001b[1m2s\u001b[0m 16ms/step - accuracy: 0.5939 - loss: 0.9437 - val_accuracy: 0.5926 - val_loss: 0.9211\n",
            "Epoch 7/20\n",
            "\u001b[1m114/114\u001b[0m \u001b[32m━━━━━━━━━━━━━━━━━━━━\u001b[0m\u001b[37m\u001b[0m \u001b[1m2s\u001b[0m 16ms/step - accuracy: 0.5963 - loss: 0.9330 - val_accuracy: 0.5926 - val_loss: 0.9196\n",
            "Epoch 8/20\n",
            "\u001b[1m114/114\u001b[0m \u001b[32m━━━━━━━━━━━━━━━━━━━━\u001b[0m\u001b[37m\u001b[0m \u001b[1m3s\u001b[0m 17ms/step - accuracy: 0.5894 - loss: 0.9227 - val_accuracy: 0.5926 - val_loss: 0.9197\n",
            "Epoch 9/20\n",
            "\u001b[1m114/114\u001b[0m \u001b[32m━━━━━━━━━━━━━━━━━━━━\u001b[0m\u001b[37m\u001b[0m \u001b[1m2s\u001b[0m 16ms/step - accuracy: 0.5915 - loss: 0.9396 - val_accuracy: 0.5926 - val_loss: 0.9198\n",
            "Epoch 10/20\n",
            "\u001b[1m114/114\u001b[0m \u001b[32m━━━━━━━━━━━━━━━━━━━━\u001b[0m\u001b[37m\u001b[0m \u001b[1m3s\u001b[0m 20ms/step - accuracy: 0.5965 - loss: 0.9214 - val_accuracy: 0.5926 - val_loss: 0.9209\n",
            "Epoch 11/20\n",
            "\u001b[1m114/114\u001b[0m \u001b[32m━━━━━━━━━━━━━━━━━━━━\u001b[0m\u001b[37m\u001b[0m \u001b[1m2s\u001b[0m 18ms/step - accuracy: 0.5927 - loss: 0.9209 - val_accuracy: 0.5926 - val_loss: 0.9189\n",
            "Epoch 12/20\n",
            "\u001b[1m114/114\u001b[0m \u001b[32m━━━━━━━━━━━━━━━━━━━━\u001b[0m\u001b[37m\u001b[0m \u001b[1m2s\u001b[0m 16ms/step - accuracy: 0.5903 - loss: 0.9257 - val_accuracy: 0.5926 - val_loss: 0.9203\n",
            "Epoch 13/20\n",
            "\u001b[1m114/114\u001b[0m \u001b[32m━━━━━━━━━━━━━━━━━━━━\u001b[0m\u001b[37m\u001b[0m \u001b[1m2s\u001b[0m 16ms/step - accuracy: 0.5941 - loss: 0.9280 - val_accuracy: 0.5926 - val_loss: 0.9204\n",
            "Epoch 14/20\n",
            "\u001b[1m114/114\u001b[0m \u001b[32m━━━━━━━━━━━━━━━━━━━━\u001b[0m\u001b[37m\u001b[0m \u001b[1m2s\u001b[0m 16ms/step - accuracy: 0.5980 - loss: 0.9198 - val_accuracy: 0.5926 - val_loss: 0.9188\n",
            "Epoch 15/20\n",
            "\u001b[1m114/114\u001b[0m \u001b[32m━━━━━━━━━━━━━━━━━━━━\u001b[0m\u001b[37m\u001b[0m \u001b[1m3s\u001b[0m 16ms/step - accuracy: 0.5898 - loss: 0.9218 - val_accuracy: 0.5926 - val_loss: 0.9192\n",
            "Epoch 16/20\n",
            "\u001b[1m114/114\u001b[0m \u001b[32m━━━━━━━━━━━━━━━━━━━━\u001b[0m\u001b[37m\u001b[0m \u001b[1m2s\u001b[0m 19ms/step - accuracy: 0.5856 - loss: 0.9218 - val_accuracy: 0.5926 - val_loss: 0.9191\n",
            "Epoch 17/20\n",
            "\u001b[1m114/114\u001b[0m \u001b[32m━━━━━━━━━━━━━━━━━━━━\u001b[0m\u001b[37m\u001b[0m \u001b[1m2s\u001b[0m 20ms/step - accuracy: 0.5908 - loss: 0.9333 - val_accuracy: 0.5926 - val_loss: 0.9193\n",
            "Epoch 18/20\n",
            "\u001b[1m114/114\u001b[0m \u001b[32m━━━━━━━━━━━━━━━━━━━━\u001b[0m\u001b[37m\u001b[0m \u001b[1m2s\u001b[0m 16ms/step - accuracy: 0.5864 - loss: 0.9273 - val_accuracy: 0.5926 - val_loss: 0.9195\n",
            "Epoch 19/20\n",
            "\u001b[1m114/114\u001b[0m \u001b[32m━━━━━━━━━━━━━━━━━━━━\u001b[0m\u001b[37m\u001b[0m \u001b[1m3s\u001b[0m 16ms/step - accuracy: 0.5897 - loss: 0.9172 - val_accuracy: 0.5926 - val_loss: 0.9194\n",
            "Epoch 20/20\n",
            "\u001b[1m114/114\u001b[0m \u001b[32m━━━━━━━━━━━━━━━━━━━━\u001b[0m\u001b[37m\u001b[0m \u001b[1m3s\u001b[0m 16ms/step - accuracy: 0.5816 - loss: 0.9484 - val_accuracy: 0.5926 - val_loss: 0.9194\n"
          ]
        }
      ]
    },
    {
      "cell_type": "code",
      "source": [
        "#  plot the loss,accuracy and epochs\n",
        "\n",
        "import matplotlib.pyplot as plt\n",
        "\n",
        "# Plot training & validation accuracy values\n",
        "plt.figure(figsize=(10, 5))\n",
        "plt.subplot(1, 2, 1)\n",
        "plt.plot(history.history['accuracy'])\n",
        "plt.plot(history.history['val_accuracy'])\n",
        "plt.title('Model accuracy')\n",
        "plt.ylabel('Accuracy')\n",
        "plt.xlabel('Epoch')\n",
        "plt.legend(['Train', 'Validation'], loc='upper left')\n",
        "\n",
        "# Plot training & validation loss values\n",
        "plt.subplot(1, 2, 2)\n",
        "plt.plot(history.history['loss'])\n",
        "plt.plot(history.history['val_loss'])\n",
        "plt.title('Model loss')\n",
        "plt.ylabel('Loss')\n",
        "plt.xlabel('Epoch')\n",
        "plt.legend(['Train', 'Validation'], loc='upper left')\n",
        "\n",
        "plt.tight_layout()\n",
        "plt.show()"
      ],
      "metadata": {
        "id": "wrLwQeDkwPe1",
        "outputId": "98c7f3a5-5b87-49ae-d17d-1a3173ac1898",
        "colab": {
          "base_uri": "https://localhost:8080/"
        }
      },
      "execution_count": 92,
      "outputs": [
        {
          "output_type": "display_data",
          "data": {
            "text/plain": [
              "<Figure size 1000x500 with 2 Axes>"
            ],
            "image/png": "[encoded data removed]"
          },
          "metadata": {}
        }
      ]
    },
    {
      "cell_type": "code",
      "source": [
        "# Evaluate the model\n",
        "loss, accuracy = model.evaluate(X_test, y_test)\n",
        "print(f\"Test Loss: {loss:.4f}\")\n",
        "print(f\"Test Accuracy: {accuracy:.4f}\")"
      ],
      "metadata": {
        "colab": {
          "base_uri": "https://localhost:8080/"
        },
        "id": "WCcYvmb7kOdF",
        "outputId": "d79e400a-3729-4ee9-ad51-e3a4160210a4"
      },
      "execution_count": 72,
      "outputs": [
        {
          "output_type": "stream",
          "name": "stdout",
          "text": [
            "\u001b[1m57/57\u001b[0m \u001b[32m━━━━━━━━━━━━━━━━━━━━\u001b[0m\u001b[37m\u001b[0m \u001b[1m0s\u001b[0m 8ms/step - accuracy: 0.5993 - loss: 0.9061\n",
            "Test Loss: 0.9194\n",
            "Test Accuracy: 0.5926\n"
          ]
        }
      ]
    },
    {
      "cell_type": "code",
      "source": [
        "# Plot training history\n",
        "plt.plot(history.history['accuracy'], label='Training Accuracy')\n",
        "plt.plot(history.history['val_accuracy'], label='Validation Accuracy')\n",
        "plt.xlabel('Epochs')\n",
        "plt.ylabel('Accuracy')\n",
        "plt.legend()\n",
        "plt.show()"
      ],
      "metadata": {
        "colab": {
          "base_uri": "https://localhost:8080/"
        },
        "id": "EHsKNXWLkYSI",
        "outputId": "6395d311-76ae-4e42-c890-c9d1203a2faa"
      },
      "execution_count": 73,
      "outputs": [
        {
          "output_type": "display_data",
          "data": {
            "text/plain": [
              "<Figure size 640x480 with 1 Axes>"
            ],
            "image/png": "[encoded data removed]"
          },
          "metadata": {}
        }
      ]
    },
    {
      "cell_type": "code",
      "source": [
        "#  check with new tweets from customers and make prediction\n",
        "import numpy as np\n",
        "\n",
        "def predict_new_tweets(new_tweets, label_encoder, tokenizer, model): # Pass label_encoder, tokenizer, and model as arguments\n",
        "    # Preprocess the new tweets\n",
        "    preprocessed_tweets = [preprocess_text(tweet) for tweet in new_tweets]\n",
        "\n",
        "    # Tokenize and pad the new tweets\n",
        "    sequences = tokenizer.texts_to_sequences(preprocessed_tweets)\n",
        "    padded_sequences = pad_sequences(sequences, maxlen=100, padding='post', truncating='post')\n",
        "\n",
        "    # Make predictions\n",
        "    predictions = model.predict(padded_sequences)\n",
        "    predicted_labels = np.argmax(predictions, axis=1)\n",
        "\n",
        "    # Decode the predicted labels\n",
        "    #decoded_labels = label_encoder.inverse_transform(predicted_labels) # Use the passed label_encoder\n",
        "\n",
        "    return predicted_labels, predictions # Add this line to return the values\n",
        "\n",
        "\n",
        "# Example usage:\n",
        "new_tweets = [\n",
        "    \"This product is absolutely amazing! I love it!\",\n",
        "    \"I'm really disappointed with this service. It's terrible.\",\n",
        "    \"The quality of this item is okay, nothing special.\"\n",
        "    # Add more new tweets here\n",
        "]\n",
        "\n",
        "# Pass label_encoder, tokenizer, and model to predict_new_tweets\n",
        "predicted_labels, predictions = predict_new_tweets(new_tweets, label_encoder, tokenizer, model)\n",
        "\n",
        "\n",
        "# Print the results\n",
        "for i in range(len(new_tweets)):\n",
        "    print(f\"Tweet: {new_tweets[i]}\")\n",
        "    print(f\"Predicted Label: {predicted_labels[i]}\")\n",
        "    print(f\"Prediction Probabilities: {predictions[i]}\")\n",
        "    print(\"-\" * 20)\n",
        "\n",
        "\n",
        "# Plotting (optional)\n",
        "import matplotlib.pyplot as plt\n",
        "\n",
        "# Assuming predictions is a NumPy array with probabilities for each class\n",
        "labels = label_encoder.classes_  # Get the class labels\n",
        "for i in range(len(new_tweets)):\n",
        "  plt.figure(figsize=(8, 6))\n",
        "  plt.bar(labels, predictions[i])\n",
        "  plt.title(f\"Prediction Probabilities for Tweet {i+1}\")\n",
        "  plt.xlabel(\"Sentiment Labels\")\n",
        "  plt.ylabel(\"Probability\")\n",
        "  plt.show()"
      ],
      "metadata": {
        "id": "tWwGlRuSx5ZJ",
        "outputId": "58947a2b-e032-4ace-eb8f-9b37361b3ef7",
        "colab": {
          "base_uri": "https://localhost:8080/",
          "height": 436
        }
      },
      "execution_count": 96,
      "outputs": [
        {
          "output_type": "stream",
          "name": "stdout",
          "text": [
            "\u001b[1m1/1\u001b[0m \u001b[32m━━━━━━━━━━━━━━━━━━━━\u001b[0m\u001b[37m\u001b[0m \u001b[1m0s\u001b[0m 23ms/step\n",
            "Tweet: This product is absolutely amazing! I love it!\n",
            "Predicted Label: 2\n",
            "Prediction Probabilities: [0.01346723 0.06058007 0.6069561  0.3189966 ]\n",
            "--------------------\n",
            "Tweet: I'm really disappointed with this service. It's terrible.\n",
            "Predicted Label: 2\n",
            "Prediction Probabilities: [0.01346723 0.06058006 0.6069561  0.31899664]\n",
            "--------------------\n",
            "Tweet: The quality of this item is okay, nothing special.\n",
            "Predicted Label: 2\n",
            "Prediction Probabilities: [0.01346723 0.06058007 0.6069561  0.3189966 ]\n",
            "--------------------\n"
          ]
        },
        {
          "output_type": "error",
          "ename": "AttributeError",
          "evalue": "'LabelEncoder' object has no attribute 'classes_'",
          "traceback": [
            "\u001b[0;31m---------------------------------------------------------------------------\u001b[0m",
            "\u001b[0;31mAttributeError\u001b[0m                            Traceback (most recent call last)",
            "\u001b[0;32m<ipython-input-96-51aefb625fcd>\u001b[0m in \u001b[0;36m<cell line: 0>\u001b[0;34m()\u001b[0m\n\u001b[1;32m     45\u001b[0m \u001b[0;34m\u001b[0m\u001b[0m\n\u001b[1;32m     46\u001b[0m \u001b[0;31m# Assuming predictions is a NumPy array with probabilities for each class\u001b[0m\u001b[0;34m\u001b[0m\u001b[0;34m\u001b[0m\u001b[0m\n\u001b[0;32m---> 47\u001b[0;31m \u001b[0mlabels\u001b[0m \u001b[0;34m=\u001b[0m \u001b[0mlabel_encoder\u001b[0m\u001b[0;34m.\u001b[0m\u001b[0mclasses_\u001b[0m  \u001b[0;31m# Get the class labels\u001b[0m\u001b[0;34m\u001b[0m\u001b[0;34m\u001b[0m\u001b[0m\n\u001b[0m\u001b[1;32m     48\u001b[0m \u001b[0;32mfor\u001b[0m \u001b[0mi\u001b[0m \u001b[0;32min\u001b[0m \u001b[0mrange\u001b[0m\u001b[0;34m(\u001b[0m\u001b[0mlen\u001b[0m\u001b[0;34m(\u001b[0m\u001b[0mnew_tweets\u001b[0m\u001b[0;34m)\u001b[0m\u001b[0;34m)\u001b[0m\u001b[0;34m:\u001b[0m\u001b[0;34m\u001b[0m\u001b[0;34m\u001b[0m\u001b[0m\n\u001b[1;32m     49\u001b[0m   \u001b[0mplt\u001b[0m\u001b[0;34m.\u001b[0m\u001b[0mfigure\u001b[0m\u001b[0;34m(\u001b[0m\u001b[0mfigsize\u001b[0m\u001b[0;34m=\u001b[0m\u001b[0;34m(\u001b[0m\u001b[0;36m8\u001b[0m\u001b[0;34m,\u001b[0m \u001b[0;36m6\u001b[0m\u001b[0;34m)\u001b[0m\u001b[0;34m)\u001b[0m\u001b[0;34m\u001b[0m\u001b[0;34m\u001b[0m\u001b[0m\n",
            "\u001b[0;31mAttributeError\u001b[0m: 'LabelEncoder' object has no attribute 'classes_'"
          ]
        }
      ]
    },
    {
      "cell_type": "code",
      "source": [
        "#  the model prediction by by asking new tweets and  valuate the accuracy\n",
        "\n",
        "import numpy as np\n",
        "\n",
        "def predict_sentiment(new_tweets):\n",
        "  \"\"\"Predicts the sentiment of new tweets using the trained model.\n",
        "\n",
        "  Args:\n",
        "    new_tweets: A list of new tweets as strings.\n",
        "\n",
        "  Returns:\n",
        "    A list of predicted sentiment labels (0, 1, 2, or 3) for each tweet.\n",
        "  \"\"\"\n",
        "  # Preprocess the new tweets\n",
        "  processed_tweets = [preprocess_text(tweet) for tweet in new_tweets]\n",
        "\n",
        "  # Tokenize and pad the sequences\n",
        "  sequences = tokenizer.texts_to_sequences(processed_tweets)\n",
        "  padded_sequences = pad_sequences(sequences, maxlen=100, padding='post', truncating='post')\n",
        "\n",
        "  # Make predictions using the model\n",
        "  predictions = model.predict(padded_sequences)\n",
        "\n",
        "  # Get the predicted class labels\n",
        "  predicted_labels = np.argmax(predictions, axis=1)\n",
        "\n",
        "  return predicted_labels\n",
        "\n",
        "# Example usage:\n",
        "new_tweets = [\n",
        "    \"I love this product!\",\n",
        "    \"This is the worst product ever.\",\n",
        "    \"I'm neutral about this product.\",\n",
        "    \"I have no idea how to feel about this product.\"\n",
        "]\n",
        "\n",
        "predicted_labels = predict_sentiment(new_tweets)\n",
        "\n",
        "# Print the predictions\n",
        "for i, label in enumerate(predicted_labels):\n",
        "    print(f\"Tweet: {new_tweets[i]}\")\n",
        "    print(f\"Predicted Label: {label}\")\n",
        "    # Map numerical label back to original label (optional)\n",
        "    original_label = label_encoder.inverse_transform([label])[0]\n",
        "    print(f\"Original Label: {original_label}\")\n",
        "    print(\"---\")"
      ],
      "metadata": {
        "colab": {
          "base_uri": "https://localhost:8080/"
        },
        "id": "9hsdPpPsl1S4",
        "outputId": "62a3bf69-2def-4bcc-a222-60a70448990a"
      },
      "execution_count": 78,
      "outputs": [
        {
          "output_type": "stream",
          "name": "stdout",
          "text": [
            "\u001b[1m1/1\u001b[0m \u001b[32m━━━━━━━━━━━━━━━━━━━━\u001b[0m\u001b[37m\u001b[0m \u001b[1m0s\u001b[0m 20ms/step\n",
            "Tweet: I love this product!\n",
            "Predicted Label: 2\n",
            "Original Label: No emotion toward brand or product\n",
            "---\n",
            "Tweet: This is the worst product ever.\n",
            "Predicted Label: 2\n",
            "Original Label: No emotion toward brand or product\n",
            "---\n",
            "Tweet: I'm neutral about this product.\n",
            "Predicted Label: 2\n",
            "Original Label: No emotion toward brand or product\n",
            "---\n",
            "Tweet: I have no idea how to feel about this product.\n",
            "Predicted Label: 2\n",
            "Original Label: No emotion toward brand or product\n",
            "---\n"
          ]
        }
      ]
    },
    {
      "cell_type": "markdown",
      "source": [
        "##Summary, the provided code trains a Recurrent Neural Network (RNN) model for sentiment analysis on a dataset of tweets.\n",
        "\n",
        "**1. Data Loading and Preprocessing:**\n",
        "\n",
        "* **Loads Data:**  Reads a CSV file (`judge-1377884607_tweet_product_company.csv`) into a pandas DataFrame.  The encoding is explicitly set to 'latin-1' to handle potential character encoding issues.\n",
        "* **Selects Columns:** Keeps only the 'tweet_text' (the tweet itself) and 'is_there_an_emotion_directed_at_a_brand_or_product' (the sentiment label).\n",
        "* **Handles Missing Data:** Removes rows with missing values using `dropna()`.\n",
        "* **Encodes Labels:** Converts the sentiment labels (text categories like \"Positive,\" \"Negative\") into numerical representations (0, 1, 2, etc.) using `LabelEncoder`. This is crucial because machine learning models work with numbers.\n",
        "* **Tokenizes Text:** Breaks down the tweets into individual words (tokens) and converts them into numerical sequences using `Tokenizer`.  Words are assigned unique integer IDs. Out-of-vocabulary (OOV) words are represented by a special token (`<OOV>`).\n",
        "* **Pads Sequences:** Ensures that all sequences (tweets) have the same length by adding padding tokens (zeros) to shorter sequences. This is necessary for efficient processing by the RNN.  Sequences are truncated if they are longer than 50 tokens.\n",
        "* **Splits Data:** Divides the data into training and testing sets using `train_test_split`.\n",
        "\n",
        "**2. Model Building:**\n",
        "\n",
        "* **Sequential Model:** Creates a sequential RNN model using Keras.\n",
        "* **Embedding Layer:** Converts the tokenized sequences into dense vector representations (embeddings). Each word is represented as a vector, capturing its semantic meaning.\n",
        "* **SimpleRNN Layer:** The core of the RNN, processing the sequential input.\n",
        "* **Dropout Layer:** Helps prevent overfitting (the model memorizing the training data too well and not generalizing to unseen data).\n",
        "* **Dense Layers:** Fully connected layers that perform classification.  The final dense layer has 4 output units (one for each sentiment category) with a 'softmax' activation. Softmax ensures the outputs are probabilities that sum to 1.\n",
        "\n",
        "\n",
        "**3. Model Training and Evaluation:**\n",
        "\n",
        "* **Compilation:** Configures the model with a loss function (`sparse_categorical_crossentropy`, suitable for multi-class classification), an optimizer (`adam`), and an evaluation metric (`accuracy`).\n",
        "* **Training:** Trains the model on the training data for a specified number of epochs (iterations over the entire training dataset). Validation data is used to monitor performance on unseen data during training.\n",
        "* **Evaluation:** Evaluates the trained model on the test set and reports the accuracy.\n",
        "\n",
        "**4. Model Visualization:**\n",
        "\n",
        "* The code includes steps to visualize the model architecture using `plot_model` and then displays the generated image in the notebook. This is helpful for understanding the model structure and the flow of data.\n",
        "\n",
        "**5. Additional Analysis (Optional):**\n",
        "\n",
        "* **Text Preprocessing Function:** defines a helper function (`preprocess_text`) to further clean the text data by removing punctuation and converting it to lowercase.\n",
        "* **Frequency Analysis:** Shows how to calculate the frequency of words in the dataset, providing insights into the most common terms used in the tweets.\n",
        "\n",
        "\n",
        "**In Summary:**  This code demonstrates a complete sentiment analysis workflow, from data loading and preprocessing to model building, training, evaluation, and visualization.  The model's performance (accuracy) on the test set indicates how well it can classify the sentiment expressed in the tweets.  The additional analysis steps provide further insights into the dataset.\n"
      ],
      "metadata": {
        "id": "UVbeT9QEZVmM"
      }
    }
  ]
}