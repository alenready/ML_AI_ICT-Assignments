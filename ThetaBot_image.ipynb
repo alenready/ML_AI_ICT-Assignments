{
  "nbformat": 4,
  "nbformat_minor": 0,
  "metadata": {
    "colab": {
      "provenance": [],
      "authorship_tag": "ABX9TyPVNeu11+cgcHKNgodREoWL",
      "include_colab_link": true
    },
    "kernelspec": {
      "name": "python3",
      "display_name": "Python 3"
    },
    "language_info": {
      "name": "python"
    }
  },
  "cells": [
    {
      "cell_type": "markdown",
      "metadata": {
        "id": "view-in-github",
        "colab_type": "text"
      },
      "source": [
        "<a href=\"https://colab.research.google.com/github/alenready/ML_AI_ICT-Assignments/blob/main/ThetaBot_image.ipynb\" target=\"_parent\"><img src=\"https://colab.research.google.com/assets/colab-badge.svg\" alt=\"Open In Colab\"/></a>"
      ]
    },
    {
      "cell_type": "code",
      "source": [
        "!pip install gradio tensorflow\n"
      ],
      "metadata": {
        "colab": {
          "base_uri": "https://localhost:8080/"
        },
        "id": "qVxWP7ca3CUp",
        "outputId": "14229e11-e696-44e4-a763-054e1cb5965d"
      },
      "execution_count": 1,
      "outputs": [
        {
          "output_type": "stream",
          "name": "stdout",
          "text": [
            "Collecting gradio\n",
            "  Downloading gradio-5.16.1-py3-none-any.whl.metadata (16 kB)\n",
            "Requirement already satisfied: tensorflow in /usr/local/lib/python3.11/dist-packages (2.18.0)\n",
            "Collecting aiofiles<24.0,>=22.0 (from gradio)\n",
            "  Downloading aiofiles-23.2.1-py3-none-any.whl.metadata (9.7 kB)\n",
            "Requirement already satisfied: anyio<5.0,>=3.0 in /usr/local/lib/python3.11/dist-packages (from gradio) (3.7.1)\n",
            "Collecting fastapi<1.0,>=0.115.2 (from gradio)\n",
            "  Downloading fastapi-0.115.8-py3-none-any.whl.metadata (27 kB)\n",
            "Collecting ffmpy (from gradio)\n",
            "  Downloading ffmpy-0.5.0-py3-none-any.whl.metadata (3.0 kB)\n",
            "Collecting gradio-client==1.7.0 (from gradio)\n",
            "  Downloading gradio_client-1.7.0-py3-none-any.whl.metadata (7.1 kB)\n",
            "Requirement already satisfied: httpx>=0.24.1 in /usr/local/lib/python3.11/dist-packages (from gradio) (0.28.1)\n",
            "Requirement already satisfied: huggingface-hub>=0.28.1 in /usr/local/lib/python3.11/dist-packages (from gradio) (0.28.1)\n",
            "Requirement already satisfied: jinja2<4.0 in /usr/local/lib/python3.11/dist-packages (from gradio) (3.1.5)\n",
            "Collecting markupsafe~=2.0 (from gradio)\n",
            "  Downloading MarkupSafe-2.1.5-cp311-cp311-manylinux_2_17_x86_64.manylinux2014_x86_64.whl.metadata (3.0 kB)\n",
            "Requirement already satisfied: numpy<3.0,>=1.0 in /usr/local/lib/python3.11/dist-packages (from gradio) (1.26.4)\n",
            "Requirement already satisfied: orjson~=3.0 in /usr/local/lib/python3.11/dist-packages (from gradio) (3.10.15)\n",
            "Requirement already satisfied: packaging in /usr/local/lib/python3.11/dist-packages (from gradio) (24.2)\n",
            "Requirement already satisfied: pandas<3.0,>=1.0 in /usr/local/lib/python3.11/dist-packages (from gradio) (2.2.2)\n",
            "Requirement already satisfied: pillow<12.0,>=8.0 in /usr/local/lib/python3.11/dist-packages (from gradio) (11.1.0)\n",
            "Requirement already satisfied: pydantic>=2.0 in /usr/local/lib/python3.11/dist-packages (from gradio) (2.10.6)\n",
            "Collecting pydub (from gradio)\n",
            "  Downloading pydub-0.25.1-py2.py3-none-any.whl.metadata (1.4 kB)\n",
            "Collecting python-multipart>=0.0.18 (from gradio)\n",
            "  Downloading python_multipart-0.0.20-py3-none-any.whl.metadata (1.8 kB)\n",
            "Requirement already satisfied: pyyaml<7.0,>=5.0 in /usr/local/lib/python3.11/dist-packages (from gradio) (6.0.2)\n",
            "Collecting ruff>=0.9.3 (from gradio)\n",
            "  Downloading ruff-0.9.6-py3-none-manylinux_2_17_x86_64.manylinux2014_x86_64.whl.metadata (25 kB)\n",
            "Collecting safehttpx<0.2.0,>=0.1.6 (from gradio)\n",
            "  Downloading safehttpx-0.1.6-py3-none-any.whl.metadata (4.2 kB)\n",
            "Collecting semantic-version~=2.0 (from gradio)\n",
            "  Downloading semantic_version-2.10.0-py2.py3-none-any.whl.metadata (9.7 kB)\n",
            "Collecting starlette<1.0,>=0.40.0 (from gradio)\n",
            "  Downloading starlette-0.45.3-py3-none-any.whl.metadata (6.3 kB)\n",
            "Collecting tomlkit<0.14.0,>=0.12.0 (from gradio)\n",
            "  Downloading tomlkit-0.13.2-py3-none-any.whl.metadata (2.7 kB)\n",
            "Requirement already satisfied: typer<1.0,>=0.12 in /usr/local/lib/python3.11/dist-packages (from gradio) (0.15.1)\n",
            "Requirement already satisfied: typing-extensions~=4.0 in /usr/local/lib/python3.11/dist-packages (from gradio) (4.12.2)\n",
            "Collecting uvicorn>=0.14.0 (from gradio)\n",
            "  Downloading uvicorn-0.34.0-py3-none-any.whl.metadata (6.5 kB)\n",
            "Requirement already satisfied: fsspec in /usr/local/lib/python3.11/dist-packages (from gradio-client==1.7.0->gradio) (2024.10.0)\n",
            "Requirement already satisfied: websockets<15.0,>=10.0 in /usr/local/lib/python3.11/dist-packages (from gradio-client==1.7.0->gradio) (14.2)\n",
            "Requirement already satisfied: absl-py>=1.0.0 in /usr/local/lib/python3.11/dist-packages (from tensorflow) (1.4.0)\n",
            "Requirement already satisfied: astunparse>=1.6.0 in /usr/local/lib/python3.11/dist-packages (from tensorflow) (1.6.3)\n",
            "Requirement already satisfied: flatbuffers>=24.3.25 in /usr/local/lib/python3.11/dist-packages (from tensorflow) (25.2.10)\n",
            "Requirement already satisfied: gast!=0.5.0,!=0.5.1,!=0.5.2,>=0.2.1 in /usr/local/lib/python3.11/dist-packages (from tensorflow) (0.6.0)\n",
            "Requirement already satisfied: google-pasta>=0.1.1 in /usr/local/lib/python3.11/dist-packages (from tensorflow) (0.2.0)\n",
            "Requirement already satisfied: libclang>=13.0.0 in /usr/local/lib/python3.11/dist-packages (from tensorflow) (18.1.1)\n",
            "Requirement already satisfied: opt-einsum>=2.3.2 in /usr/local/lib/python3.11/dist-packages (from tensorflow) (3.4.0)\n",
            "Requirement already satisfied: protobuf!=4.21.0,!=4.21.1,!=4.21.2,!=4.21.3,!=4.21.4,!=4.21.5,<6.0.0dev,>=3.20.3 in /usr/local/lib/python3.11/dist-packages (from tensorflow) (4.25.6)\n",
            "Requirement already satisfied: requests<3,>=2.21.0 in /usr/local/lib/python3.11/dist-packages (from tensorflow) (2.32.3)\n",
            "Requirement already satisfied: setuptools in /usr/local/lib/python3.11/dist-packages (from tensorflow) (75.1.0)\n",
            "Requirement already satisfied: six>=1.12.0 in /usr/local/lib/python3.11/dist-packages (from tensorflow) (1.17.0)\n",
            "Requirement already satisfied: termcolor>=1.1.0 in /usr/local/lib/python3.11/dist-packages (from tensorflow) (2.5.0)\n",
            "Requirement already satisfied: wrapt>=1.11.0 in /usr/local/lib/python3.11/dist-packages (from tensorflow) (1.17.2)\n",
            "Requirement already satisfied: grpcio<2.0,>=1.24.3 in /usr/local/lib/python3.11/dist-packages (from tensorflow) (1.70.0)\n",
            "Requirement already satisfied: tensorboard<2.19,>=2.18 in /usr/local/lib/python3.11/dist-packages (from tensorflow) (2.18.0)\n",
            "Requirement already satisfied: keras>=3.5.0 in /usr/local/lib/python3.11/dist-packages (from tensorflow) (3.8.0)\n",
            "Requirement already satisfied: h5py>=3.11.0 in /usr/local/lib/python3.11/dist-packages (from tensorflow) (3.12.1)\n",
            "Requirement already satisfied: ml-dtypes<0.5.0,>=0.4.0 in /usr/local/lib/python3.11/dist-packages (from tensorflow) (0.4.1)\n",
            "Requirement already satisfied: tensorflow-io-gcs-filesystem>=0.23.1 in /usr/local/lib/python3.11/dist-packages (from tensorflow) (0.37.1)\n",
            "Requirement already satisfied: idna>=2.8 in /usr/local/lib/python3.11/dist-packages (from anyio<5.0,>=3.0->gradio) (3.10)\n",
            "Requirement already satisfied: sniffio>=1.1 in /usr/local/lib/python3.11/dist-packages (from anyio<5.0,>=3.0->gradio) (1.3.1)\n",
            "Requirement already satisfied: wheel<1.0,>=0.23.0 in /usr/local/lib/python3.11/dist-packages (from astunparse>=1.6.0->tensorflow) (0.45.1)\n",
            "Requirement already satisfied: certifi in /usr/local/lib/python3.11/dist-packages (from httpx>=0.24.1->gradio) (2025.1.31)\n",
            "Requirement already satisfied: httpcore==1.* in /usr/local/lib/python3.11/dist-packages (from httpx>=0.24.1->gradio) (1.0.7)\n",
            "Requirement already satisfied: h11<0.15,>=0.13 in /usr/local/lib/python3.11/dist-packages (from httpcore==1.*->httpx>=0.24.1->gradio) (0.14.0)\n",
            "Requirement already satisfied: filelock in /usr/local/lib/python3.11/dist-packages (from huggingface-hub>=0.28.1->gradio) (3.17.0)\n",
            "Requirement already satisfied: tqdm>=4.42.1 in /usr/local/lib/python3.11/dist-packages (from huggingface-hub>=0.28.1->gradio) (4.67.1)\n",
            "Requirement already satisfied: rich in /usr/local/lib/python3.11/dist-packages (from keras>=3.5.0->tensorflow) (13.9.4)\n",
            "Requirement already satisfied: namex in /usr/local/lib/python3.11/dist-packages (from keras>=3.5.0->tensorflow) (0.0.8)\n",
            "Requirement already satisfied: optree in /usr/local/lib/python3.11/dist-packages (from keras>=3.5.0->tensorflow) (0.14.0)\n",
            "Requirement already satisfied: python-dateutil>=2.8.2 in /usr/local/lib/python3.11/dist-packages (from pandas<3.0,>=1.0->gradio) (2.8.2)\n",
            "Requirement already satisfied: pytz>=2020.1 in /usr/local/lib/python3.11/dist-packages (from pandas<3.0,>=1.0->gradio) (2025.1)\n",
            "Requirement already satisfied: tzdata>=2022.7 in /usr/local/lib/python3.11/dist-packages (from pandas<3.0,>=1.0->gradio) (2025.1)\n",
            "Requirement already satisfied: annotated-types>=0.6.0 in /usr/local/lib/python3.11/dist-packages (from pydantic>=2.0->gradio) (0.7.0)\n",
            "Requirement already satisfied: pydantic-core==2.27.2 in /usr/local/lib/python3.11/dist-packages (from pydantic>=2.0->gradio) (2.27.2)\n",
            "Requirement already satisfied: charset-normalizer<4,>=2 in /usr/local/lib/python3.11/dist-packages (from requests<3,>=2.21.0->tensorflow) (3.4.1)\n",
            "Requirement already satisfied: urllib3<3,>=1.21.1 in /usr/local/lib/python3.11/dist-packages (from requests<3,>=2.21.0->tensorflow) (2.3.0)\n",
            "Requirement already satisfied: markdown>=2.6.8 in /usr/local/lib/python3.11/dist-packages (from tensorboard<2.19,>=2.18->tensorflow) (3.7)\n",
            "Requirement already satisfied: tensorboard-data-server<0.8.0,>=0.7.0 in /usr/local/lib/python3.11/dist-packages (from tensorboard<2.19,>=2.18->tensorflow) (0.7.2)\n",
            "Requirement already satisfied: werkzeug>=1.0.1 in /usr/local/lib/python3.11/dist-packages (from tensorboard<2.19,>=2.18->tensorflow) (3.1.3)\n",
            "Requirement already satisfied: click>=8.0.0 in /usr/local/lib/python3.11/dist-packages (from typer<1.0,>=0.12->gradio) (8.1.8)\n",
            "Requirement already satisfied: shellingham>=1.3.0 in /usr/local/lib/python3.11/dist-packages (from typer<1.0,>=0.12->gradio) (1.5.4)\n",
            "Requirement already satisfied: markdown-it-py>=2.2.0 in /usr/local/lib/python3.11/dist-packages (from rich->keras>=3.5.0->tensorflow) (3.0.0)\n",
            "Requirement already satisfied: pygments<3.0.0,>=2.13.0 in /usr/local/lib/python3.11/dist-packages (from rich->keras>=3.5.0->tensorflow) (2.18.0)\n",
            "Requirement already satisfied: mdurl~=0.1 in /usr/local/lib/python3.11/dist-packages (from markdown-it-py>=2.2.0->rich->keras>=3.5.0->tensorflow) (0.1.2)\n",
            "Downloading gradio-5.16.1-py3-none-any.whl (62.2 MB)\n",
            "\u001b[2K   \u001b[90m━━━━━━━━━━━━━━━━━━━━━━━━━━━━━━━━━━━━━━━━\u001b[0m \u001b[32m62.2/62.2 MB\u001b[0m \u001b[31m7.5 MB/s\u001b[0m eta \u001b[36m0:00:00\u001b[0m\n",
            "\u001b[?25hDownloading gradio_client-1.7.0-py3-none-any.whl (321 kB)\n",
            "\u001b[2K   \u001b[90m━━━━━━━━━━━━━━━━━━━━━━━━━━━━━━━━━━━━━━━━\u001b[0m \u001b[32m321.9/321.9 kB\u001b[0m \u001b[31m7.7 MB/s\u001b[0m eta \u001b[36m0:00:00\u001b[0m\n",
            "\u001b[?25hDownloading aiofiles-23.2.1-py3-none-any.whl (15 kB)\n",
            "Downloading fastapi-0.115.8-py3-none-any.whl (94 kB)\n",
            "\u001b[2K   \u001b[90m━━━━━━━━━━━━━━━━━━━━━━━━━━━━━━━━━━━━━━━━\u001b[0m \u001b[32m94.8/94.8 kB\u001b[0m \u001b[31m3.5 MB/s\u001b[0m eta \u001b[36m0:00:00\u001b[0m\n",
            "\u001b[?25hDownloading MarkupSafe-2.1.5-cp311-cp311-manylinux_2_17_x86_64.manylinux2014_x86_64.whl (28 kB)\n",
            "Downloading python_multipart-0.0.20-py3-none-any.whl (24 kB)\n",
            "Downloading ruff-0.9.6-py3-none-manylinux_2_17_x86_64.manylinux2014_x86_64.whl (12.5 MB)\n",
            "\u001b[2K   \u001b[90m━━━━━━━━━━━━━━━━━━━━━━━━━━━━━━━━━━━━━━━━\u001b[0m \u001b[32m12.5/12.5 MB\u001b[0m \u001b[31m55.9 MB/s\u001b[0m eta \u001b[36m0:00:00\u001b[0m\n",
            "\u001b[?25hDownloading safehttpx-0.1.6-py3-none-any.whl (8.7 kB)\n",
            "Downloading semantic_version-2.10.0-py2.py3-none-any.whl (15 kB)\n",
            "Downloading starlette-0.45.3-py3-none-any.whl (71 kB)\n",
            "\u001b[2K   \u001b[90m━━━━━━━━━━━━━━━━━━━━━━━━━━━━━━━━━━━━━━━━\u001b[0m \u001b[32m71.5/71.5 kB\u001b[0m \u001b[31m4.0 MB/s\u001b[0m eta \u001b[36m0:00:00\u001b[0m\n",
            "\u001b[?25hDownloading tomlkit-0.13.2-py3-none-any.whl (37 kB)\n",
            "Downloading uvicorn-0.34.0-py3-none-any.whl (62 kB)\n",
            "\u001b[2K   \u001b[90m━━━━━━━━━━━━━━━━━━━━━━━━━━━━━━━━━━━━━━━━\u001b[0m \u001b[32m62.3/62.3 kB\u001b[0m \u001b[31m3.7 MB/s\u001b[0m eta \u001b[36m0:00:00\u001b[0m\n",
            "\u001b[?25hDownloading ffmpy-0.5.0-py3-none-any.whl (6.0 kB)\n",
            "Downloading pydub-0.25.1-py2.py3-none-any.whl (32 kB)\n",
            "Installing collected packages: pydub, uvicorn, tomlkit, semantic-version, ruff, python-multipart, markupsafe, ffmpy, aiofiles, starlette, safehttpx, gradio-client, fastapi, gradio\n",
            "  Attempting uninstall: markupsafe\n",
            "    Found existing installation: MarkupSafe 3.0.2\n",
            "    Uninstalling MarkupSafe-3.0.2:\n",
            "      Successfully uninstalled MarkupSafe-3.0.2\n",
            "Successfully installed aiofiles-23.2.1 fastapi-0.115.8 ffmpy-0.5.0 gradio-5.16.1 gradio-client-1.7.0 markupsafe-2.1.5 pydub-0.25.1 python-multipart-0.0.20 ruff-0.9.6 safehttpx-0.1.6 semantic-version-2.10.0 starlette-0.45.3 tomlkit-0.13.2 uvicorn-0.34.0\n"
          ]
        }
      ]
    },
    {
      "cell_type": "code",
      "source": [
        "import gradio as gr\n",
        "import tensorflow as tf\n",
        "import numpy as np\n",
        "import requests\n",
        "import base64\n",
        "from io import BytesIO\n",
        "from PIL import Image\n",
        "\n",
        "# Import the models and preprocessing functions for each architecture:\n",
        "from tensorflow.keras.applications.resnet50 import ResNet50, preprocess_input as resnet_preprocess, decode_predictions\n",
        "from tensorflow.keras.applications.inception_v3 import InceptionV3, preprocess_input as inception_preprocess\n",
        "from tensorflow.keras.applications.efficientnet import EfficientNetB0, preprocess_input as efficientnet_preprocess\n"
      ],
      "metadata": {
        "id": "rv8hYrkU2I-P"
      },
      "execution_count": 2,
      "outputs": []
    },
    {
      "cell_type": "markdown",
      "source": [
        "2. Load (or Fall Back) to Models\n",
        "In an ideal scenario you’d have models fine-tuned on Food-101 saved as “resnet_food101.h5”, “inception_food101.h5”, and “efficientnet_food101.h5”. This example tries to load those first. If they aren’t available, it will fall back to the standard ImageNet‑trained models."
      ],
      "metadata": {
        "id": "tac5ZSoV3Ppi"
      }
    },
    {
      "cell_type": "code",
      "source": [
        "def load_model_or_fallback(model_name, food101_path, default_fn):\n",
        "    try:\n",
        "        # Attempt to load a Food-101 fine-tuned model (if you have one)\n",
        "        model = tf.keras.models.load_model(food101_path)\n",
        "        print(f\"{model_name} loaded from Food-101 fine-tuned weights!\")\n",
        "    except Exception as e:\n",
        "        # Fallback: load the standard model pre-trained on ImageNet.\n",
        "        print(f\"{model_name} Food-101 weights not found, falling back to ImageNet weights.\")\n",
        "        model = default_fn(weights=\"imagenet\")\n",
        "    return model\n",
        "\n",
        "model_resnet = load_model_or_fallback(\"ResNet50\", \"resnet_food101.h5\", ResNet50)\n",
        "model_inception = load_model_or_fallback(\"InceptionV3\", \"inception_food101.h5\", InceptionV3)\n",
        "model_efficientnet = load_model_or_fallback(\"EfficientNetB0\", \"efficientnet_food101.h5\", EfficientNetB0)\n"
      ],
      "metadata": {
        "colab": {
          "base_uri": "https://localhost:8080/"
        },
        "id": "rN19i1FG3R1L",
        "outputId": "7f20b859-5ee6-4b1b-d811-f7cd10faff77"
      },
      "execution_count": 3,
      "outputs": [
        {
          "output_type": "stream",
          "name": "stdout",
          "text": [
            "ResNet50 Food-101 weights not found, falling back to ImageNet weights.\n",
            "Downloading data from https://storage.googleapis.com/tensorflow/keras-applications/resnet/resnet50_weights_tf_dim_ordering_tf_kernels.h5\n",
            "\u001b[1m102967424/102967424\u001b[0m \u001b[32m━━━━━━━━━━━━━━━━━━━━\u001b[0m\u001b[37m\u001b[0m \u001b[1m1s\u001b[0m 0us/step\n",
            "InceptionV3 Food-101 weights not found, falling back to ImageNet weights.\n",
            "Downloading data from https://storage.googleapis.com/tensorflow/keras-applications/inception_v3/inception_v3_weights_tf_dim_ordering_tf_kernels.h5\n",
            "\u001b[1m96112376/96112376\u001b[0m \u001b[32m━━━━━━━━━━━━━━━━━━━━\u001b[0m\u001b[37m\u001b[0m \u001b[1m1s\u001b[0m 0us/step\n",
            "EfficientNetB0 Food-101 weights not found, falling back to ImageNet weights.\n",
            "Downloading data from https://storage.googleapis.com/keras-applications/efficientnetb0.h5\n",
            "\u001b[1m21834768/21834768\u001b[0m \u001b[32m━━━━━━━━━━━━━━━━━━━━\u001b[0m\u001b[37m\u001b[0m \u001b[1m0s\u001b[0m 0us/step\n"
          ]
        }
      ]
    },
    {
      "cell_type": "markdown",
      "source": [
        "3. Decide on the Label Space\n",
        "We want to know whether our models output predictions for Food-101 (101 classes) or for ImageNet (1000 classes). If they’re Food-101 models, we’ll use a custom list of food class names; otherwise, we use the built‑in decode_predictions."
      ],
      "metadata": {
        "id": "283UAM3y3fbA"
      }
    },
    {
      "cell_type": "code",
      "source": [
        "# Check output shape of one model (assumed same for all three)\n",
        "if model_resnet.output_shape[-1] == 101:\n",
        "    use_food101 = True\n",
        "    # List of Food-101 labels (101 classes)\n",
        "    food101_labels = [\n",
        "        \"apple_pie\", \"baby_back_ribs\", \"baklava\", \"beef_carpaccio\", \"beef_tartare\",\n",
        "        \"beet_salad\", \"beignets\", \"bibimbap\", \"bread_pudding\", \"breakfast_burrito\",\n",
        "        \"bruschetta\", \"caesar_salad\", \"cannoli\", \"caprese_salad\", \"carrot_cake\",\n",
        "        \"ceviche\", \"cheesecake\", \"chicken_curry\", \"chicken_quesadilla\", \"chicken_wings\",\n",
        "        \"chocolate_cake\", \"chocolate_mousse\", \"churros\", \"clam_chowder\", \"club_sandwich\",\n",
        "        \"crab_cakes\", \"creme_brulee\", \"croque_madame\", \"cup_cakes\", \"deviled_eggs\",\n",
        "        \"donuts\", \"dumplings\", \"edamame\", \"eggs_benedict\", \"escargots\", \"falafel\",\n",
        "        \"filet_mignon\", \"fish_and_chips\", \"foie_gras\", \"french_fries\", \"french_onion_soup\",\n",
        "        \"fried_calamari\", \"fried_rice\", \"frozen_yogurt\", \"garlic_bread\", \"gnocchi\",\n",
        "        \"greek_salad\", \"grilled_cheese_sandwich\", \"grilled_salmon\", \"guacamole\",\n",
        "        \"hamburger\", \"hot_and_sour_soup\", \"hot_dog\", \"huevos_rancheros\", \"ice_cream\",\n",
        "        \"lasagna\", \"lobster_bisque\", \"lobster_roll_sandwich\", \"macaroni_and_cheese\",\n",
        "        \"macarons\", \"miso_soup\", \"mussels\", \"nachos\", \"omelette\", \"onion_rings\",\n",
        "        \"oysters\", \"pad_thai\", \"paella\", \"pancakes\", \"panna_cotta\", \"peking_duck\",\n",
        "        \"pho\", \"pizza\", \"pork_chop\", \"poutine\", \"prime_rib\", \"pulled_pork_sandwich\",\n",
        "        \"ramen\", \"ravioli\", \"red_velvet_cake\", \"risotto\", \"samosa\", \"sashimi\",\n",
        "        \"schnitzel\", \"scallops\", \"seaweed_salad\", \"shrimp_and_grits\", \"spaghetti_bolognese\",\n",
        "        \"spaghetti_carbonara\", \"spring_rolls\", \"steak\", \"strawberry_shortcake\", \"sushi\",\n",
        "        \"tacos\", \"takoyaki\", \"tiramisu\", \"tuna_tartare\", \"waffles\"\n",
        "    ]\n",
        "else:\n",
        "    use_food101 = False\n"
      ],
      "metadata": {
        "id": "5rjTG0vI3jFi"
      },
      "execution_count": 4,
      "outputs": []
    },
    {
      "cell_type": "markdown",
      "source": [
        "4. Define Helper Function to Preprocess Images\n",
        "Different models expect different image sizes and preprocessing. The function below converts an image (from the user) into the right format for each model."
      ],
      "metadata": {
        "id": "Pt9NxbXV3ucL"
      }
    },
    {
      "cell_type": "code",
      "source": [
        "def preprocess_image_for_model(image, target_size, preprocess_func):\n",
        "    # If image is not already a PIL image, convert it.\n",
        "    if not isinstance(image, Image.Image):\n",
        "        image = Image.fromarray(image.astype(\"uint8\"), \"RGB\")\n",
        "    # Resize the image to the target size (e.g., 224x224 or 299x299)\n",
        "    image = image.resize(target_size)\n",
        "    # Convert the image to a NumPy array and add a batch dimension.\n",
        "    x = np.array(image)\n",
        "    x = np.expand_dims(x, axis=0)\n",
        "    # Preprocess (scale/normalize) the image as required by the model.\n",
        "    x = preprocess_func(x)\n",
        "    return x\n"
      ],
      "metadata": {
        "id": "533EeVig3wL6"
      },
      "execution_count": 5,
      "outputs": []
    },
    {
      "cell_type": "markdown",
      "source": [
        "5. Ensemble Classifier Function for Food Images\n",
        "This function uses all three models to predict what food is in an image. It preprocesses the image for each model (using its expected size and preprocessing method), gets each model’s prediction, and then averages them. Finally, it decodes the averaged prediction into a human‑readable result.\n",
        "\n",
        "python\n",
        "Copy\n",
        "Edit\n"
      ],
      "metadata": {
        "id": "Zu6E2ic336qH"
      }
    },
    {
      "cell_type": "code",
      "source": [
        "def ensemble_classify_food_image(image):\n",
        "    \"\"\"\n",
        "    Processes an image through three models (ResNet50, InceptionV3, EfficientNetB0),\n",
        "    averages their predictions, and returns the top 3 predicted food classes.\n",
        "    \"\"\"\n",
        "    # Preprocess the image for each model:\n",
        "    x_resnet = preprocess_image_for_model(image, (224, 224), resnet_preprocess)\n",
        "    x_inception = preprocess_image_for_model(image, (299, 299), inception_preprocess)\n",
        "    x_efficient = preprocess_image_for_model(image, (224, 224), efficientnet_preprocess)\n",
        "\n",
        "    # Get predictions from each model:\n",
        "    pred_resnet = model_resnet.predict(x_resnet)\n",
        "    pred_inception = model_inception.predict(x_inception)\n",
        "    pred_efficient = model_efficientnet.predict(x_efficient)\n",
        "\n",
        "    # Average the predictions from all three models:\n",
        "    ensemble_pred = (pred_resnet + pred_inception + pred_efficient) / 3.0\n",
        "\n",
        "    # Decode the predictions:\n",
        "    if use_food101:\n",
        "        # For Food-101, use our custom label list.\n",
        "        top_indices = np.argsort(ensemble_pred[0])[::-1][:3]\n",
        "        result = \"\"\n",
        "        for idx in top_indices:\n",
        "            label = food101_labels[idx]\n",
        "            prob = ensemble_pred[0][idx] * 100\n",
        "            result += f\"{label}: {prob:.2f}%\\n\"\n",
        "    else:\n",
        "        # For ImageNet models, use decode_predictions.\n",
        "        decoded = decode_predictions(ensemble_pred, top=3)[0]\n",
        "        result = \"\\n\".join([f\"{desc}: {prob*100:.2f}%\" for (_, desc, prob) in decoded])\n",
        "    return result\n"
      ],
      "metadata": {
        "id": "sDvQ-B2X39GI"
      },
      "execution_count": 6,
      "outputs": []
    },
    {
      "cell_type": "markdown",
      "source": [
        "6. Helper Function to Convert a PIL Image to a Base64 String\n",
        "This is used to display images in the chatbot via Markdown."
      ],
      "metadata": {
        "id": "dG04xxey4Hkc"
      }
    },
    {
      "cell_type": "code",
      "source": [
        "def pil_to_base64(img):\n",
        "    buffered = BytesIO()\n",
        "    img.save(buffered, format=\"PNG\")\n",
        "    img_str = base64.b64encode(buffered.getvalue()).decode(\"utf-8\")\n",
        "    return f\"data:image/png;base64,{img_str}\"\n"
      ],
      "metadata": {
        "id": "ZqgrrBzQ4G0u"
      },
      "execution_count": 7,
      "outputs": []
    },
    {
      "cell_type": "markdown",
      "source": [
        "7. Functions to Generate Chat Responses\n",
        "a. For Text Queries\n",
        "This function provides canned responses (or sample food images) based on the user’s text message."
      ],
      "metadata": {
        "id": "pFLyYnFz4THF"
      }
    },
    {
      "cell_type": "code",
      "source": [
        "def get_text_response(user_message):\n",
        "    \"\"\"\n",
        "    For text queries, if the message includes phrases like \"show me pizza\",\n",
        "    then a sample image is fetched. Otherwise, a generic food-related response is returned.\n",
        "    \"\"\"\n",
        "    if \"show me\" in user_message.lower():\n",
        "        parts = user_message.lower().split(\"show me\")\n",
        "        if len(parts) > 1:\n",
        "            food_item = parts[1].strip().split()[0]\n",
        "            # Dictionary of sample images for some food items.\n",
        "            sample_images = {\n",
        "                \"pizza\": \"https://upload.wikimedia.org/wikipedia/commons/d/d3/Supreme_pizza.jpg\",\n",
        "                \"burger\": \"https://upload.wikimedia.org/wikipedia/commons/4/4f/Hamburger_%28black_bg%29.jpg\",\n",
        "                \"salad\": \"https://upload.wikimedia.org/wikipedia/commons/6/66/Salad_platter.jpg\",\n",
        "                \"sushi\": \"https://upload.wikimedia.org/wikipedia/commons/6/60/Sushi_platter.jpg\"\n",
        "            }\n",
        "            if food_item in sample_images:\n",
        "                response_text = f\"Here is an image of {food_item}:\"\n",
        "                try:\n",
        "                    response_image = Image.open(requests.get(sample_images[food_item], stream=True).raw)\n",
        "                    data_url = pil_to_base64(response_image)\n",
        "                    image_md = f\"![{food_item}]({data_url})\"\n",
        "                    full_response = response_text + \"\\n\" + image_md\n",
        "                    return full_response, None\n",
        "                except Exception as e:\n",
        "                    return f\"Sorry, there was an error loading the image for {food_item}.\", None\n",
        "            else:\n",
        "                return f\"Sorry, I don't have a sample image for '{food_item}'.\", None\n",
        "\n",
        "    if \"calorie\" in user_message.lower():\n",
        "        return \"The calorie content depends on ingredients. Could you specify the dish?\", None\n",
        "    elif \"recipe\" in user_message.lower():\n",
        "        return \"I can help with recipes! What dish are you interested in?\", None\n",
        "    else:\n",
        "        return (\"I'm here to help with food-related queries! You can ask me about food, recipes, \"\n",
        "                \"or upload a food image for classification.\"), None\n"
      ],
      "metadata": {
        "id": "wRusrhOk4ZPN"
      },
      "execution_count": 8,
      "outputs": []
    },
    {
      "cell_type": "markdown",
      "source": [
        "b. Chatbot Callback Functions\n",
        "These functions update the conversation history when the user sends text or uploads an image."
      ],
      "metadata": {
        "id": "IxwGBoUr4hNy"
      }
    },
    {
      "cell_type": "code",
      "source": [
        "def chat_response(user_message, history):\n",
        "    \"\"\"\n",
        "    Triggered when the user sends a text message.\n",
        "    It gets a response and updates the conversation history.\n",
        "    \"\"\"\n",
        "    bot_response, _ = get_text_response(user_message)\n",
        "    history = history + [[user_message, bot_response]]\n",
        "    # Return an empty text box (to clear input) and updated history.\n",
        "    return \"\", history, history\n",
        "\n",
        "def classify_uploaded_image(image, history):\n",
        "    \"\"\"\n",
        "    Triggered when the user uploads an image.\n",
        "    It classifies the image using the ensemble of models and updates the conversation history.\n",
        "    \"\"\"\n",
        "    if image is None:\n",
        "        return history, history\n",
        "\n",
        "    # Get predictions from the ensemble classifier.\n",
        "    classification_result = ensemble_classify_food_image(image)\n",
        "\n",
        "    # Convert the uploaded image to a format that can be displayed in the chat.\n",
        "    if isinstance(image, np.ndarray):\n",
        "        pil_img = Image.fromarray(image.astype(\"uint8\"), \"RGB\")\n",
        "    else:\n",
        "        pil_img = image\n",
        "    data_url = pil_to_base64(pil_img)\n",
        "    image_md = f\"![Uploaded Image]({data_url})\"\n",
        "\n",
        "    bot_message = (f\"{image_md}\\nI have analyzed the image. Here are the predictions:\\n\"\n",
        "                   f\"{classification_result}\")\n",
        "    # For the conversation, we show the uploaded image as the user message.\n",
        "    user_message = image_md\n",
        "    history = history + [[user_message, bot_message]]\n",
        "    return history, history\n"
      ],
      "metadata": {
        "id": "R0Qd-gpg4mBY"
      },
      "execution_count": 9,
      "outputs": []
    },
    {
      "cell_type": "markdown",
      "source": [
        "8. Build and Launch the Gradio Interface\n",
        "This final cell sets up the interactive chatbot. You can enter text or upload an image, and the respective functions are triggered."
      ],
      "metadata": {
        "id": "NvKenkKK4qw-"
      }
    },
    {
      "cell_type": "code",
      "source": [
        "with gr.Blocks() as demo:\n",
        "    gr.Markdown(\"## Food Chatbot & Ensemble Image Classifier\")\n",
        "    gr.Markdown(\n",
        "        \"Ask me food-related questions (e.g., 'What is the calorie content of an avocado?') or type 'show me pizza' for a sample image. \"\n",
        "        \"You can also upload a food image for classification.\"\n",
        "    )\n",
        "\n",
        "    # Shared state for the conversation history.\n",
        "    state = gr.State([])\n",
        "\n",
        "    # Chat display area (shows the conversation as a list of message pairs).\n",
        "    chatbot = gr.Chatbot()\n",
        "\n",
        "    with gr.Row():\n",
        "        txt = gr.Textbox(placeholder=\"Enter your message here\", label=\"Chat Input\")\n",
        "        send_button = gr.Button(\"Send\")\n",
        "\n",
        "    # Image upload component.\n",
        "    img_input = gr.Image(type=\"numpy\", label=\"Upload Food Image for Classification\")\n",
        "\n",
        "    # When \"Send\" is clicked, update the chat with the text response.\n",
        "    send_button.click(fn=chat_response,\n",
        "                      inputs=[txt, state],\n",
        "                      outputs=[txt, chatbot, state])\n",
        "\n",
        "    # When an image is uploaded, classify it and update the chat.\n",
        "    img_input.change(fn=classify_uploaded_image,\n",
        "                     inputs=[img_input, state],\n",
        "                     outputs=[chatbot, state])\n",
        "\n",
        "demo.launch()\n"
      ],
      "metadata": {
        "colab": {
          "base_uri": "https://localhost:8080/",
          "height": 681
        },
        "id": "j43zDP064v1s",
        "outputId": "43e384a6-2924-44ab-ac31-e319f0035f8b"
      },
      "execution_count": 10,
      "outputs": [
        {
          "output_type": "stream",
          "name": "stderr",
          "text": [
            "/usr/local/lib/python3.11/dist-packages/gradio/components/chatbot.py:284: UserWarning: You have not specified a value for the `type` parameter. Defaulting to the 'tuples' format for chatbot messages, but this is deprecated and will be removed in a future version of Gradio. Please set type='messages' instead, which uses openai-style dictionaries with 'role' and 'content' keys.\n",
            "  warnings.warn(\n"
          ]
        },
        {
          "output_type": "stream",
          "name": "stdout",
          "text": [
            "Running Gradio in a Colab notebook requires sharing enabled. Automatically setting `share=True` (you can turn this off by setting `share=False` in `launch()` explicitly).\n",
            "\n",
            "Colab notebook detected. To show errors in colab notebook, set debug=True in launch()\n",
            "* Running on public URL: https://4729bca723885eba59.gradio.live\n",
            "\n",
            "This share link expires in 72 hours. For free permanent hosting and GPU upgrades, run `gradio deploy` from the terminal in the working directory to deploy to Hugging Face Spaces (https://huggingface.co/spaces)\n"
          ]
        },
        {
          "output_type": "display_data",
          "data": {
            "text/plain": [
              "<IPython.core.display.HTML object>"
            ],
            "text/html": [
              "<div><iframe src=\"https://4729bca723885eba59.gradio.live\" width=\"100%\" height=\"500\" allow=\"autoplay; camera; microphone; clipboard-read; clipboard-write;\" frameborder=\"0\" allowfullscreen></iframe></div>"
            ]
          },
          "metadata": {}
        },
        {
          "output_type": "execute_result",
          "data": {
            "text/plain": []
          },
          "metadata": {},
          "execution_count": 10
        }
      ]
    },
    {
      "cell_type": "markdown",
      "source": [
        "An ensemble food image classifier using three models—InceptionV3, EfficientNetB0, and ResNet50—each ideally fine‐tuned on the Food-101 dataset. (If you don’t have Food‑101–fine‐tuned weights, the code will fall back to ImageNet‑trained weights.) This ensemble approach combines the predictions from all three models to give you a more accurate (and in some cases faster) prediction. We’ve also optimized the code for a quicker response."
      ],
      "metadata": {
        "id": "pPpxykEvHy6R"
      }
    }
  ]
}